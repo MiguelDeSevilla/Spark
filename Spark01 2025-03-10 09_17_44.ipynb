{
 "cells": [
  {
   "cell_type": "code",
   "execution_count": 0,
   "metadata": {
    "application/vnd.databricks.v1+cell": {
     "cellMetadata": {
      "byteLimit": 2048000,
      "rowLimit": 10000
     },
     "inputWidgets": {},
     "nuid": "dc1b4918-9ac5-4342-85aa-5b415d897264",
     "showTitle": false,
     "tableResultSettingsMap": {},
     "title": ""
    }
   },
   "outputs": [],
   "source": [
    "print('hello')"
   ]
  },
  {
   "cell_type": "code",
   "execution_count": 0,
   "metadata": {
    "application/vnd.databricks.v1+cell": {
     "cellMetadata": {
      "byteLimit": 2048000,
      "rowLimit": 10000
     },
     "inputWidgets": {},
     "nuid": "0633922d-3f84-4e71-a1c0-da0f9d7617b6",
     "showTitle": false,
     "tableResultSettingsMap": {},
     "title": ""
    }
   },
   "outputs": [],
   "source": [
    "\n",
    "from pyspark.sql import SparkSession\n",
    "spark = SparkSession.builder.getOrCreate()"
   ]
  },
  {
   "cell_type": "code",
   "execution_count": 0,
   "metadata": {
    "application/vnd.databricks.v1+cell": {
     "cellMetadata": {
      "byteLimit": 2048000,
      "rowLimit": 10000
     },
     "inputWidgets": {},
     "nuid": "a4e24a69-9613-4e2b-b1bd-0fb084835ab2",
     "showTitle": false,
     "tableResultSettingsMap": {},
     "title": ""
    }
   },
   "outputs": [
    {
     "output_type": "stream",
     "name": "stdout",
     "output_type": "stream",
     "text": [
      "root\n |-- firstname: string (nullable = true)\n |-- middlename: string (nullable = true)\n |-- lastname: string (nullable = true)\n |-- id: string (nullable = true)\n |-- gender: string (nullable = true)\n |-- salary: integer (nullable = true)\n\n+---------+----------+--------+-----+------+------+\n|firstname|middlename|lastname|id   |gender|salary|\n+---------+----------+--------+-----+------+------+\n|James    |          |Smith   |36636|M     |3000  |\n|Michael  |Rose      |        |40288|M     |4000  |\n|Robert   |          |Williams|42114|M     |4000  |\n|Maria    |Anne      |Jones   |39192|F     |4000  |\n|Jen      |Mary      |Brown   |     |F     |-1    |\n+---------+----------+--------+-----+------+------+\n\n"
     ]
    }
   ],
   "source": [
    "from pyspark.sql.types import StructType,StructField, StringType, IntegerType\n",
    "\n",
    "data2 = [(\"James\",\"\",\"Smith\",\"36636\",\"M\",3000),\n",
    "    (\"Michael\",\"Rose\",\"\",\"40288\",\"M\",4000),\n",
    "    (\"Robert\",\"\",\"Williams\",\"42114\",\"M\",4000),\n",
    "    (\"Maria\",\"Anne\",\"Jones\",\"39192\",\"F\",4000),\n",
    "    (\"Jen\",\"Mary\",\"Brown\",\"\",\"F\",-1)\n",
    "  ]\n",
    "\n",
    "schema = StructType([ \\\n",
    "    StructField(\"firstname\",StringType(),True), \\\n",
    "    StructField(\"middlename\",StringType(),True), \\\n",
    "    StructField(\"lastname\",StringType(),True), \\\n",
    "    StructField(\"id\", StringType(), True), \\\n",
    "    StructField(\"gender\", StringType(), True), \\\n",
    "    StructField(\"salary\", IntegerType(), True) \\\n",
    "  ])\n",
    " \n",
    "df = spark.createDataFrame(data=data2,schema=schema)\n",
    "df.printSchema()\n",
    "df.show(truncate=False)"
   ]
  },
  {
   "cell_type": "code",
   "execution_count": 0,
   "metadata": {
    "application/vnd.databricks.v1+cell": {
     "cellMetadata": {
      "byteLimit": 2048000,
      "rowLimit": 10000
     },
     "inputWidgets": {},
     "nuid": "26998214-d88e-4e1c-9ffb-31b1d9920d79",
     "showTitle": false,
     "tableResultSettingsMap": {},
     "title": ""
    }
   },
   "outputs": [],
   "source": [
    "from pyspark.sql.types import *\n",
    "ruta = 'gs://curso-spark-202503/persona.data'\n",
    "\n",
    "df_schema = StructType([\n",
    "StructField(\"ID\", StringType(),True),\n",
    "StructField(\"NOMBRE\", StringType(),True),\n",
    "StructField(\"TELEFONO\", StringType(),True),\n",
    "StructField(\"CORREO\", StringType(),True),\n",
    "StructField(\"FECHA_INGRESO\", StringType(),True),\n",
    "StructField(\"EDAD\", IntegerType(),True),\n",
    "StructField(\"SALARIO\", DoubleType(),True),\n",
    "StructField(\"ID_EMPRESA\", StringType(),True),\n",
    "])\n",
    "\n",
    "\n",
    "df_with_schema = spark.read.format(\"CSV\").option(\"header\",\"true\").option(\"delimiter\",\"|\").schema(df_schema).load(ruta)"
   ]
  },
  {
   "cell_type": "code",
   "execution_count": 0,
   "metadata": {
    "application/vnd.databricks.v1+cell": {
     "cellMetadata": {
      "byteLimit": 2048000,
      "rowLimit": 10000
     },
     "inputWidgets": {},
     "nuid": "f7c30759-aefa-4998-8eee-d3f67e44b16d",
     "showTitle": false,
     "tableResultSettingsMap": {},
     "title": ""
    }
   },
   "outputs": [
    {
     "output_type": "stream",
     "name": "stdout",
     "output_type": "stream",
     "text": [
      "+---+---------+--------------+--------------------+-------------+----+-------+----------+\n| ID|   NOMBRE|      TELEFONO|              CORREO|FECHA_INGRESO|EDAD|SALARIO|ID_EMPRESA|\n+---+---------+--------------+--------------------+-------------+----+-------+----------+\n|  1|     Carl|1-745-633-9145|arcu.Sed.et@ante....|   2004-04-23|  32|20095.0|         5|\n|  2|Priscilla|      155-2498|Donec.egestas.Ali...|   2019-02-17|  34| 9298.0|         2|\n|  3|  Jocelyn|1-204-956-8594|amet.diam@loborti...|   2002-08-01|  27|10853.0|         3|\n|  4|    Aidan|1-719-862-9385|euismod.et.commod...|   2018-11-06|  29| 3387.0|        10|\n|  5|  Leandra|      839-8044|at@pretiumetrutru...|   2002-10-10|  41|22102.0|         1|\n|  6|     Bert|      797-4453|a.felis.ullamcorp...|   2017-04-25|  70| 7800.0|         7|\n|  7|     Mark|1-680-102-6792|Quisque.ac@placer...|   2006-04-21|  52| 8112.0|         5|\n|  8|    Jonah|      214-2975|eu.ultrices.sit@v...|   2017-10-07|  23|17040.0|         5|\n|  9|    Hanae|      935-2277|          eu@Nunc.ca|   2003-05-25|  69| 6834.0|         3|\n| 10|   Cadman|1-866-561-2701|orci.adipiscing.n...|   2001-05-19|  19| 7996.0|         7|\n| 11|  Melyssa|      596-7736|vel@vulputateposu...|   2008-10-14|  48| 4913.0|         8|\n| 12|   Tanner|1-739-776-7897|arcu.Aliquam.ultr...|   2011-05-10|  24|19943.0|         8|\n| 13|   Trevor|      512-1955|Nunc.quis.arcu@eg...|   2010-08-06|  34| 9501.0|         5|\n| 14|    Allen|      733-2795|felis.Donec@necle...|   2005-03-07|  59|16289.0|         2|\n| 15|    Wanda|      359-6973|Nam.nulla.magna@I...|   2005-08-21|  27| 1539.0|         5|\n| 16|    Alden|      341-8522|odio@morbitristiq...|   2006-12-05|  26| 3377.0|         2|\n| 17|     Omar|      720-1543|Phasellus.vitae.m...|   2014-06-24|  60| 6851.0|         6|\n| 18|     Owen|1-167-335-7541|     sociis@erat.com|   2002-04-09|  34| 4759.0|         7|\n| 19|    Laura|1-974-623-2057|    mollis@ornare.ca|   2017-03-09|  70|17403.0|         4|\n| 20|    Emery|1-672-840-0264|     at.nisi@vel.org|   2004-02-27|  24|18752.0|         9|\n+---+---------+--------------+--------------------+-------------+----+-------+----------+\nonly showing top 20 rows\n\n"
     ]
    }
   ],
   "source": [
    "df_with_schema.show()"
   ]
  },
  {
   "cell_type": "code",
   "execution_count": 0,
   "metadata": {
    "application/vnd.databricks.v1+cell": {
     "cellMetadata": {
      "byteLimit": 2048000,
      "rowLimit": 10000
     },
     "inputWidgets": {},
     "nuid": "44b6a0d6-18d3-4b54-96a5-70e56a21946c",
     "showTitle": false,
     "tableResultSettingsMap": {},
     "title": ""
    }
   },
   "outputs": [
    {
     "output_type": "stream",
     "name": "stdout",
     "output_type": "stream",
     "text": [
      "root\n |-- firstname: string (nullable = true)\n |-- middlename: string (nullable = true)\n |-- lastname: string (nullable = true)\n |-- id: string (nullable = true)\n |-- gender: string (nullable = true)\n |-- salary: integer (nullable = true)\n\n+---------+----------+--------+-----+------+------+\n|firstname|middlename|lastname|id   |gender|salary|\n+---------+----------+--------+-----+------+------+\n|James    |          |Smith   |36636|M     |3000  |\n|Michael  |Rose      |        |40288|M     |4000  |\n|Robert   |          |Williams|42114|M     |4000  |\n|Maria    |Anne      |Jones   |39192|F     |4000  |\n|Jen      |Mary      |Brown   |     |F     |-1    |\n+---------+----------+--------+-----+------+------+\n\n"
     ]
    }
   ],
   "source": [
    " import pyspark\n",
    "from pyspark.sql import SparkSession\n",
    "from pyspark.sql.types import StructType,StructField, StringType, IntegerType\n",
    "\n",
    "spark = SparkSession.builder.master(\"local[1]\") \\\n",
    "                    .appName('SparkByExamples.com') \\\n",
    "                    .getOrCreate()\n",
    "\n",
    "data = [(\"James\",\"\",\"Smith\",\"36636\",\"M\",3000),\n",
    "    (\"Michael\",\"Rose\",\"\",\"40288\",\"M\",4000),\n",
    "    (\"Robert\",\"\",\"Williams\",\"42114\",\"M\",4000),\n",
    "    (\"Maria\",\"Anne\",\"Jones\",\"39192\",\"F\",4000),\n",
    "    (\"Jen\",\"Mary\",\"Brown\",\"\",\"F\",-1)\n",
    "  ]\n",
    "\n",
    "schema = StructType([ \\\n",
    "    StructField(\"firstname\",StringType(),True), \\\n",
    "    StructField(\"middlename\",StringType(),True), \\\n",
    "    StructField(\"lastname\",StringType(),True), \\\n",
    "    StructField(\"id\", StringType(), True), \\\n",
    "    StructField(\"gender\", StringType(), True), \\\n",
    "    StructField(\"salary\", IntegerType(), True) \\\n",
    "  ])\n",
    " \n",
    "df = spark.createDataFrame(data=data,schema=schema)\n",
    "df.printSchema()\n",
    "df.show(truncate=False)"
   ]
  },
  {
   "cell_type": "code",
   "execution_count": 0,
   "metadata": {
    "application/vnd.databricks.v1+cell": {
     "cellMetadata": {
      "byteLimit": 2048000,
      "rowLimit": 10000
     },
     "inputWidgets": {},
     "nuid": "402ceaa4-833a-4661-ab68-7dc396ecc57e",
     "showTitle": false,
     "tableResultSettingsMap": {},
     "title": ""
    }
   },
   "outputs": [
    {
     "output_type": "stream",
     "name": "stdout",
     "output_type": "stream",
     "text": [
      "+---------+--------+-------+-----+\n|firstname|lastname|country|state|\n+---------+--------+-------+-----+\n|James    |Smith   |USA    |CA   |\n|Michael  |Rose    |USA    |NY   |\n|Robert   |Williams|USA    |CA   |\n|Maria    |Jones   |USA    |FL   |\n+---------+--------+-------+-----+\n\n"
     ]
    }
   ],
   "source": [
    "import pyspark\n",
    "from pyspark.sql import SparkSession\n",
    "\n",
    "spark = SparkSession.builder.appName('SparkByExamples.com').getOrCreate()\n",
    "data = [(\"James\",\"Smith\",\"USA\",\"CA\"),\n",
    "    (\"Michael\",\"Rose\",\"USA\",\"NY\"),\n",
    "    (\"Robert\",\"Williams\",\"USA\",\"CA\"),\n",
    "    (\"Maria\",\"Jones\",\"USA\",\"FL\")\n",
    "  ]\n",
    "columns = [\"firstname\",\"lastname\",\"country\",\"state\"]\n",
    "df = spark.createDataFrame(data = data, schema = columns)\n",
    "df.show(truncate=False)"
   ]
  },
  {
   "cell_type": "code",
   "execution_count": 0,
   "metadata": {
    "application/vnd.databricks.v1+cell": {
     "cellMetadata": {
      "byteLimit": 2048000,
      "rowLimit": 10000
     },
     "inputWidgets": {},
     "nuid": "b6e5d18c-69d2-451f-91d9-fa2e6cc78395",
     "showTitle": false,
     "tableResultSettingsMap": {},
     "title": ""
    }
   },
   "outputs": [
    {
     "output_type": "stream",
     "name": "stdout",
     "output_type": "stream",
     "text": [
      "+---------+--------+\n|firstname|lastname|\n+---------+--------+\n|    James|   Smith|\n|  Michael|    Rose|\n|   Robert|Williams|\n|    Maria|   Jones|\n+---------+--------+\n\n"
     ]
    }
   ],
   "source": [
    "df.select('firstname','lastname').show()"
   ]
  },
  {
   "cell_type": "code",
   "execution_count": 0,
   "metadata": {
    "application/vnd.databricks.v1+cell": {
     "cellMetadata": {
      "byteLimit": 2048000,
      "rowLimit": 10000
     },
     "inputWidgets": {},
     "nuid": "4d456fd4-e087-4075-a3d0-cd6d7cb8b8c2",
     "showTitle": false,
     "tableResultSettingsMap": {},
     "title": ""
    }
   },
   "outputs": [
    {
     "output_type": "stream",
     "name": "stdout",
     "output_type": "stream",
     "text": [
      "+---------+--------+\n|firstname|lastname|\n+---------+--------+\n|    James|   Smith|\n|  Michael|    Rose|\n|   Robert|Williams|\n|    Maria|   Jones|\n+---------+--------+\n\n"
     ]
    }
   ],
   "source": [
    "df.select(df.firstname,df.lastname).show()"
   ]
  },
  {
   "cell_type": "code",
   "execution_count": 0,
   "metadata": {
    "application/vnd.databricks.v1+cell": {
     "cellMetadata": {
      "byteLimit": 2048000,
      "rowLimit": 10000
     },
     "inputWidgets": {},
     "nuid": "493cc970-6d95-4ceb-833d-debe1d9df827",
     "showTitle": false,
     "tableResultSettingsMap": {},
     "title": ""
    }
   },
   "outputs": [
    {
     "output_type": "stream",
     "name": "stdout",
     "output_type": "stream",
     "text": [
      "+---------+--------+\n|firstname|lastname|\n+---------+--------+\n|    James|   Smith|\n|  Michael|    Rose|\n|   Robert|Williams|\n|    Maria|   Jones|\n+---------+--------+\n\n"
     ]
    }
   ],
   "source": [
    "df.select(df['firstname'], df['lastname']).show()"
   ]
  },
  {
   "cell_type": "code",
   "execution_count": 0,
   "metadata": {
    "application/vnd.databricks.v1+cell": {
     "cellMetadata": {
      "byteLimit": 2048000,
      "rowLimit": 10000
     },
     "inputWidgets": {},
     "nuid": "b870bf28-dd14-4b3e-a6f3-8525b245bdcb",
     "showTitle": false,
     "tableResultSettingsMap": {},
     "title": ""
    }
   },
   "outputs": [
    {
     "output_type": "stream",
     "name": "stdout",
     "output_type": "stream",
     "text": [
      "+---------+--------+\n|firstname|lastname|\n+---------+--------+\n|    James|   Smith|\n|  Michael|    Rose|\n|   Robert|Williams|\n|    Maria|   Jones|\n+---------+--------+\n\n"
     ]
    }
   ],
   "source": [
    "from pyspark.sql.functions import col\n",
    "df.select(col('firstname'),col('lastname')).show()"
   ]
  },
  {
   "cell_type": "code",
   "execution_count": 0,
   "metadata": {
    "application/vnd.databricks.v1+cell": {
     "cellMetadata": {
      "byteLimit": 2048000,
      "rowLimit": 10000
     },
     "inputWidgets": {},
     "nuid": "6ee7284a-cd98-4d93-9a81-86006c233979",
     "showTitle": false,
     "tableResultSettingsMap": {},
     "title": ""
    }
   },
   "outputs": [
    {
     "output_type": "stream",
     "name": "stdout",
     "output_type": "stream",
     "text": [
      "+---------+--------+\n|firstname|lastname|\n+---------+--------+\n|    James|   Smith|\n|  Michael|    Rose|\n|   Robert|Williams|\n|    Maria|   Jones|\n+---------+--------+\n\n"
     ]
    }
   ],
   "source": [
    "df.select(df.colRegex('`^*.*name*`')).show()"
   ]
  },
  {
   "cell_type": "code",
   "execution_count": 0,
   "metadata": {
    "application/vnd.databricks.v1+cell": {
     "cellMetadata": {
      "byteLimit": 2048000,
      "rowLimit": 10000
     },
     "inputWidgets": {},
     "nuid": "f18ac880-2335-4c3b-b3a8-f311867e8647",
     "showTitle": false,
     "tableResultSettingsMap": {},
     "title": ""
    }
   },
   "outputs": [],
   "source": [
    "data = [('James','','Smith','1991-04-01','M',3000),\n",
    "  ('Michael','Rose','','2000-05-19','M',4000),\n",
    "  ('Robert','','Williams','1978-09-05','M',4000),\n",
    "  ('Maria','Anne','Jones','1967-12-01','F',4000),\n",
    "  ('Jen','Mary','Brown','1980-02-17','F',-1)\n",
    "]\n",
    "\n",
    "columns = [\"firstname\",\"middlename\",\"lastname\",\"dob\",\"gender\",\"salary\"]\n",
    "from pyspark.sql import SparkSession\n",
    "spark = SparkSession.builder.appName('SparkByExamples.com').getOrCreate()\n",
    "df = spark.createDataFrame(data=data, schema = columns)"
   ]
  },
  {
   "cell_type": "code",
   "execution_count": 0,
   "metadata": {
    "application/vnd.databricks.v1+cell": {
     "cellMetadata": {
      "byteLimit": 2048000,
      "rowLimit": 10000
     },
     "inputWidgets": {},
     "nuid": "a5828682-8e38-4e15-ac50-4af73ff1ab41",
     "showTitle": false,
     "tableResultSettingsMap": {},
     "title": ""
    }
   },
   "outputs": [
    {
     "output_type": "stream",
     "name": "stdout",
     "output_type": "stream",
     "text": [
      "+---------+----------+--------+----------+------+------+\n|firstname|middlename|lastname|       dob|gender|salary|\n+---------+----------+--------+----------+------+------+\n|    James|          |   Smith|1991-04-01|     M|  3000|\n|  Michael|      Rose|        |2000-05-19|     M|  4000|\n|   Robert|          |Williams|1978-09-05|     M|  4000|\n|    Maria|      Anne|   Jones|1967-12-01|     F|  4000|\n|      Jen|      Mary|   Brown|1980-02-17|     F|    -1|\n+---------+----------+--------+----------+------+------+\n\n"
     ]
    }
   ],
   "source": [
    "df.show()"
   ]
  },
  {
   "cell_type": "code",
   "execution_count": 0,
   "metadata": {
    "application/vnd.databricks.v1+cell": {
     "cellMetadata": {
      "byteLimit": 2048000,
      "rowLimit": 10000
     },
     "inputWidgets": {},
     "nuid": "128a9d98-ea3a-41f9-8dd9-b29a4110186f",
     "showTitle": false,
     "tableResultSettingsMap": {},
     "title": ""
    }
   },
   "outputs": [
    {
     "output_type": "stream",
     "name": "stdout",
     "output_type": "stream",
     "text": [
      "+---------+----------+--------+----------+------+------+\n|firstname|middlename|lastname|       dob|gender|salary|\n+---------+----------+--------+----------+------+------+\n|    James|          |   Smith|1991-04-01|     M|  3000|\n|  Michael|      Rose|        |2000-05-19|     M|  4000|\n|   Robert|          |Williams|1978-09-05|     M|  4000|\n|    Maria|      Anne|   Jones|1967-12-01|     F|  4000|\n|      Jen|      Mary|   Brown|1980-02-17|     F|    -1|\n+---------+----------+--------+----------+------+------+\n\n"
     ]
    }
   ],
   "source": [
    "df.withColumn('salary', col('salary').cast('Integer')).show()"
   ]
  },
  {
   "cell_type": "code",
   "execution_count": 0,
   "metadata": {
    "application/vnd.databricks.v1+cell": {
     "cellMetadata": {
      "byteLimit": 2048000,
      "rowLimit": 10000
     },
     "inputWidgets": {},
     "nuid": "82d54fd9-041a-4b1f-869d-f77ed73557f3",
     "showTitle": false,
     "tableResultSettingsMap": {},
     "title": ""
    }
   },
   "outputs": [
    {
     "output_type": "stream",
     "name": "stdout",
     "output_type": "stream",
     "text": [
      "+---------+----------+--------+----------+------+------+\n|firstname|middlename|lastname|       dob|gender|salary|\n+---------+----------+--------+----------+------+------+\n|    James|          |   Smith|1991-04-01|     M|300000|\n|  Michael|      Rose|        |2000-05-19|     M|400000|\n|   Robert|          |Williams|1978-09-05|     M|400000|\n|    Maria|      Anne|   Jones|1967-12-01|     F|400000|\n|      Jen|      Mary|   Brown|1980-02-17|     F|  -100|\n+---------+----------+--------+----------+------+------+\n\n"
     ]
    }
   ],
   "source": [
    "df.withColumn('salary', col('salary')*100).show()"
   ]
  },
  {
   "cell_type": "code",
   "execution_count": 0,
   "metadata": {
    "application/vnd.databricks.v1+cell": {
     "cellMetadata": {
      "byteLimit": 2048000,
      "rowLimit": 10000
     },
     "inputWidgets": {},
     "nuid": "0bfbec78-b1e3-4b2e-9a9b-492de2626eac",
     "showTitle": false,
     "tableResultSettingsMap": {},
     "title": ""
    }
   },
   "outputs": [
    {
     "output_type": "stream",
     "name": "stdout",
     "output_type": "stream",
     "text": [
      "+---------+----------+--------+----------+---+------+\n|firstname|middlename|lastname|dob       |sex|salary|\n+---------+----------+--------+----------+---+------+\n|James    |          |Smith   |1991-04-01|M  |3000  |\n|Michael  |Rose      |        |2000-05-19|M  |4000  |\n|Robert   |          |Williams|1978-09-05|M  |4000  |\n|Maria    |Anne      |Jones   |1967-12-01|F  |4000  |\n|Jen      |Mary      |Brown   |1980-02-17|F  |-1    |\n+---------+----------+--------+----------+---+------+\n\n"
     ]
    }
   ],
   "source": [
    "df.withColumnRenamed('gender','sex')\\\n",
    "    .show(truncate=False)"
   ]
  },
  {
   "cell_type": "code",
   "execution_count": 0,
   "metadata": {
    "application/vnd.databricks.v1+cell": {
     "cellMetadata": {
      "byteLimit": 2048000,
      "rowLimit": 10000
     },
     "inputWidgets": {},
     "nuid": "8996ebba-ba9e-4610-b739-5ed0cfe22201",
     "showTitle": false,
     "tableResultSettingsMap": {},
     "title": ""
    }
   },
   "outputs": [],
   "source": [
    "from pyspark.sql import SparkSession\n",
    "from pyspark.sql.types import StructType,StructField, StringType, IntegerType, DoubleType\n",
    "from pyspark.sql.functions import col, when, lit\n",
    "from datetime import datetime"
   ]
  },
  {
   "cell_type": "code",
   "execution_count": 0,
   "metadata": {
    "application/vnd.databricks.v1+cell": {
     "cellMetadata": {
      "byteLimit": 2048000,
      "rowLimit": 10000
     },
     "inputWidgets": {},
     "nuid": "89135527-5966-4dbf-8c25-76f5700bbae7",
     "showTitle": false,
     "tableResultSettingsMap": {},
     "title": ""
    }
   },
   "outputs": [],
   "source": [
    "from pyspark.sql.types import *\n",
    "ruta = 'gs://curso-spark-202503/persona.data'\n",
    "\n",
    "df_schema = StructType([\n",
    "StructField(\"ID\", StringType(),True),\n",
    "StructField(\"NOMBRE\", StringType(),True),\n",
    "StructField(\"TELEFONO\", StringType(),True),\n",
    "StructField(\"CORREO\", StringType(),True),\n",
    "StructField(\"FECHA_INGRESO\", StringType(),True),\n",
    "StructField(\"EDAD\", IntegerType(),True),\n",
    "StructField(\"SALARIO\", DoubleType(),True),\n",
    "StructField(\"ID_EMPRESA\", StringType(),True),\n",
    "])\n",
    "\n",
    "\n",
    "df_with_schema = spark.read.format(\"CSV\").option(\"header\",\"true\").option(\"delimiter\",\"|\").schema(df_schema).load(ruta)"
   ]
  },
  {
   "cell_type": "code",
   "execution_count": 0,
   "metadata": {
    "application/vnd.databricks.v1+cell": {
     "cellMetadata": {
      "byteLimit": 2048000,
      "rowLimit": 10000
     },
     "inputWidgets": {},
     "nuid": "279e70ab-b7bc-4736-b858-3fede02734f3",
     "showTitle": false,
     "tableResultSettingsMap": {},
     "title": ""
    }
   },
   "outputs": [
    {
     "output_type": "stream",
     "name": "stdout",
     "output_type": "stream",
     "text": [
      "+---+---------+--------------+--------------------+-------------+----+-------+----------+\n| ID|   NOMBRE|      TELEFONO|              CORREO|FECHA_INGRESO|EDAD|SALARIO|ID_EMPRESA|\n+---+---------+--------------+--------------------+-------------+----+-------+----------+\n|  1|     Carl|1-745-633-9145|arcu.Sed.et@ante....|   2004-04-23|  32|20095.0|         5|\n|  2|Priscilla|      155-2498|Donec.egestas.Ali...|   2019-02-17|  34| 9298.0|         2|\n|  3|  Jocelyn|1-204-956-8594|amet.diam@loborti...|   2002-08-01|  27|10853.0|         3|\n|  4|    Aidan|1-719-862-9385|euismod.et.commod...|   2018-11-06|  29| 3387.0|        10|\n|  5|  Leandra|      839-8044|at@pretiumetrutru...|   2002-10-10|  41|22102.0|         1|\n|  6|     Bert|      797-4453|a.felis.ullamcorp...|   2017-04-25|  70| 7800.0|         7|\n|  7|     Mark|1-680-102-6792|Quisque.ac@placer...|   2006-04-21|  52| 8112.0|         5|\n|  8|    Jonah|      214-2975|eu.ultrices.sit@v...|   2017-10-07|  23|17040.0|         5|\n|  9|    Hanae|      935-2277|          eu@Nunc.ca|   2003-05-25|  69| 6834.0|         3|\n| 10|   Cadman|1-866-561-2701|orci.adipiscing.n...|   2001-05-19|  19| 7996.0|         7|\n| 11|  Melyssa|      596-7736|vel@vulputateposu...|   2008-10-14|  48| 4913.0|         8|\n| 12|   Tanner|1-739-776-7897|arcu.Aliquam.ultr...|   2011-05-10|  24|19943.0|         8|\n| 13|   Trevor|      512-1955|Nunc.quis.arcu@eg...|   2010-08-06|  34| 9501.0|         5|\n| 14|    Allen|      733-2795|felis.Donec@necle...|   2005-03-07|  59|16289.0|         2|\n| 15|    Wanda|      359-6973|Nam.nulla.magna@I...|   2005-08-21|  27| 1539.0|         5|\n| 16|    Alden|      341-8522|odio@morbitristiq...|   2006-12-05|  26| 3377.0|         2|\n| 17|     Omar|      720-1543|Phasellus.vitae.m...|   2014-06-24|  60| 6851.0|         6|\n| 18|     Owen|1-167-335-7541|     sociis@erat.com|   2002-04-09|  34| 4759.0|         7|\n| 19|    Laura|1-974-623-2057|    mollis@ornare.ca|   2017-03-09|  70|17403.0|         4|\n| 20|    Emery|1-672-840-0264|     at.nisi@vel.org|   2004-02-27|  24|18752.0|         9|\n+---+---------+--------------+--------------------+-------------+----+-------+----------+\nonly showing top 20 rows\n\n"
     ]
    }
   ],
   "source": [
    "df_with_schema.show()"
   ]
  },
  {
   "cell_type": "code",
   "execution_count": 0,
   "metadata": {
    "application/vnd.databricks.v1+cell": {
     "cellMetadata": {
      "byteLimit": 2048000,
      "rowLimit": 10000
     },
     "inputWidgets": {},
     "nuid": "6fe6a586-b31c-4568-8c99-399f1c4d0574",
     "showTitle": false,
     "tableResultSettingsMap": {},
     "title": ""
    }
   },
   "outputs": [
    {
     "output_type": "display_data",
     "data": {
      "text/html": [
       "<style scoped>\n",
       "  .table-result-container {\n",
       "    max-height: 300px;\n",
       "    overflow: auto;\n",
       "  }\n",
       "  table, th, td {\n",
       "    border: 1px solid black;\n",
       "    border-collapse: collapse;\n",
       "  }\n",
       "  th, td {\n",
       "    padding: 5px;\n",
       "  }\n",
       "  th {\n",
       "    text-align: left;\n",
       "  }\n",
       "</style><div class='table-result-container'><table class='table-result'><thead style='background-color: white'><tr><th>ID</th><th>NOMBRE</th><th>TELEFONO</th><th>CORREO</th><th>FECHA_INGRESO</th><th>EDAD</th><th>SALARIO</th><th>ID_EMPRESA</th><th>NUEVA_SALARIO_10</th></tr></thead><tbody><tr><td>1</td><td>Carl</td><td>1-745-633-9145</td><td>arcu.Sed.et@ante.co.uk</td><td>2004-04-23</td><td>32</td><td>20095.0</td><td>5</td><td>22104.5</td></tr><tr><td>2</td><td>Priscilla</td><td>155-2498</td><td>Donec.egestas.Aliquam@volutpatnunc.edu</td><td>2019-02-17</td><td>34</td><td>9298.0</td><td>2</td><td>10227.800000000001</td></tr><tr><td>3</td><td>Jocelyn</td><td>1-204-956-8594</td><td>amet.diam@lobortis.co.uk</td><td>2002-08-01</td><td>27</td><td>10853.0</td><td>3</td><td>11938.300000000001</td></tr><tr><td>4</td><td>Aidan</td><td>1-719-862-9385</td><td>euismod.et.commodo@nibhlaciniaorci.edu</td><td>2018-11-06</td><td>29</td><td>3387.0</td><td>10</td><td>3725.7000000000003</td></tr><tr><td>5</td><td>Leandra</td><td>839-8044</td><td>at@pretiumetrutrum.com</td><td>2002-10-10</td><td>41</td><td>22102.0</td><td>1</td><td>24312.2</td></tr><tr><td>6</td><td>Bert</td><td>797-4453</td><td>a.felis.ullamcorper@arcu.org</td><td>2017-04-25</td><td>70</td><td>7800.0</td><td>7</td><td>8580.0</td></tr><tr><td>7</td><td>Mark</td><td>1-680-102-6792</td><td>Quisque.ac@placerat.ca</td><td>2006-04-21</td><td>52</td><td>8112.0</td><td>5</td><td>8923.2</td></tr><tr><td>8</td><td>Jonah</td><td>214-2975</td><td>eu.ultrices.sit@vitae.ca</td><td>2017-10-07</td><td>23</td><td>17040.0</td><td>5</td><td>18744.0</td></tr><tr><td>9</td><td>Hanae</td><td>935-2277</td><td>eu@Nunc.ca</td><td>2003-05-25</td><td>69</td><td>6834.0</td><td>3</td><td>7517.400000000001</td></tr><tr><td>10</td><td>Cadman</td><td>1-866-561-2701</td><td>orci.adipiscing.non@semperNam.ca</td><td>2001-05-19</td><td>19</td><td>7996.0</td><td>7</td><td>8795.6</td></tr><tr><td>11</td><td>Melyssa</td><td>596-7736</td><td>vel@vulputateposuerevulputate.net</td><td>2008-10-14</td><td>48</td><td>4913.0</td><td>8</td><td>5404.3</td></tr><tr><td>12</td><td>Tanner</td><td>1-739-776-7897</td><td>arcu.Aliquam.ultrices@sociis.com</td><td>2011-05-10</td><td>24</td><td>19943.0</td><td>8</td><td>21937.300000000003</td></tr><tr><td>13</td><td>Trevor</td><td>512-1955</td><td>Nunc.quis.arcu@egestasa.org</td><td>2010-08-06</td><td>34</td><td>9501.0</td><td>5</td><td>10451.1</td></tr><tr><td>14</td><td>Allen</td><td>733-2795</td><td>felis.Donec@necleo.org</td><td>2005-03-07</td><td>59</td><td>16289.0</td><td>2</td><td>17917.9</td></tr><tr><td>15</td><td>Wanda</td><td>359-6973</td><td>Nam.nulla.magna@In.org</td><td>2005-08-21</td><td>27</td><td>1539.0</td><td>5</td><td>1692.9</td></tr><tr><td>16</td><td>Alden</td><td>341-8522</td><td>odio@morbitristiquesenectus.ca</td><td>2006-12-05</td><td>26</td><td>3377.0</td><td>2</td><td>3714.7000000000003</td></tr><tr><td>17</td><td>Omar</td><td>720-1543</td><td>Phasellus.vitae.mauris@sollicitudin.net</td><td>2014-06-24</td><td>60</td><td>6851.0</td><td>6</td><td>7536.1</td></tr><tr><td>18</td><td>Owen</td><td>1-167-335-7541</td><td>sociis@erat.com</td><td>2002-04-09</td><td>34</td><td>4759.0</td><td>7</td><td>5234.900000000001</td></tr><tr><td>19</td><td>Laura</td><td>1-974-623-2057</td><td>mollis@ornare.ca</td><td>2017-03-09</td><td>70</td><td>17403.0</td><td>4</td><td>19143.300000000003</td></tr><tr><td>20</td><td>Emery</td><td>1-672-840-0264</td><td>at.nisi@vel.org</td><td>2004-02-27</td><td>24</td><td>18752.0</td><td>9</td><td>20627.2</td></tr><tr><td>21</td><td>Carissa</td><td>1-300-877-0859</td><td>dignissim.pharetra.Nam@Pellentesqueultriciesdignissim.com</td><td>2011-10-16</td><td>31</td><td>1952.0</td><td>10</td><td>2147.2000000000003</td></tr><tr><td>22</td><td>Kibo</td><td>970-8006</td><td>scelerisque.lorem@mattis.org</td><td>2012-04-25</td><td>22</td><td>7449.0</td><td>2</td><td>8193.900000000001</td></tr><tr><td>23</td><td>Samson</td><td>1-430-188-6663</td><td>urna.justo.faucibus@neceleifendnon.net</td><td>2011-12-15</td><td>51</td><td>8099.0</td><td>6</td><td>8908.900000000001</td></tr><tr><td>24</td><td>Amaya</td><td>1-448-826-9497</td><td>ullamcorper.magna@dictumultriciesligula.org</td><td>2000-09-18</td><td>24</td><td>1801.0</td><td>8</td><td>1981.1000000000001</td></tr><tr><td>25</td><td>Pearl</td><td>1-850-202-3373</td><td>vel.convallis@rhoncus.co.uk</td><td>2018-12-21</td><td>52</td><td>14756.0</td><td>6</td><td>16231.600000000002</td></tr><tr><td>26</td><td>Brenden</td><td>1-455-726-9413</td><td>elit.pede.malesuada@liberomaurisaliquam.org</td><td>2000-03-17</td><td>33</td><td>20549.0</td><td>7</td><td>22603.9</td></tr><tr><td>27</td><td>Alexander</td><td>912-0676</td><td>semper.auctor.Mauris@mollislectuspede.edu</td><td>2000-08-16</td><td>55</td><td>13813.0</td><td>6</td><td>15194.300000000001</td></tr><tr><td>28</td><td>Stephen</td><td>326-2020</td><td>arcu.Aliquam.ultrices@acnullaIn.co.uk</td><td>2016-09-04</td><td>53</td><td>9469.0</td><td>8</td><td>10415.900000000001</td></tr><tr><td>29</td><td>Jana</td><td>1-564-106-5562</td><td>sed.dolor.Fusce@Sedet.co.uk</td><td>2008-10-18</td><td>39</td><td>6483.0</td><td>2</td><td>7131.3</td></tr><tr><td>30</td><td>Clayton</td><td>1-599-614-5185</td><td>est.Nunc@dictumeuplacerat.com</td><td>2008-10-08</td><td>52</td><td>9505.0</td><td>8</td><td>10455.5</td></tr><tr><td>31</td><td>Rylee</td><td>306-5447</td><td>Sed.nunc@turpis.edu</td><td>2001-09-17</td><td>47</td><td>21591.0</td><td>3</td><td>23750.100000000002</td></tr><tr><td>32</td><td>Gisela</td><td>406-8031</td><td>Praesent.luctus@dui.co.uk</td><td>2002-08-21</td><td>67</td><td>6497.0</td><td>1</td><td>7146.700000000001</td></tr><tr><td>33</td><td>Jin</td><td>1-620-779-3366</td><td>est.Nunc.ullamcorper@nullaInteger.co.uk</td><td>2016-11-07</td><td>42</td><td>22038.0</td><td>2</td><td>24241.800000000003</td></tr><tr><td>34</td><td>Lila</td><td>1-703-777-4150</td><td>viverra@sit.edu</td><td>2015-02-26</td><td>48</td><td>24305.0</td><td>4</td><td>26735.500000000004</td></tr><tr><td>35</td><td>Aurora</td><td>1-865-751-3479</td><td>magna@Cras.net</td><td>2017-10-21</td><td>54</td><td>4588.0</td><td>5</td><td>5046.8</td></tr><tr><td>36</td><td>Keely</td><td>1-882-403-3531</td><td>taciti@neceleifendnon.edu</td><td>2008-02-03</td><td>41</td><td>10373.0</td><td>9</td><td>11410.300000000001</td></tr><tr><td>37</td><td>Inga</td><td>767-6448</td><td>Mauris.quis.turpis@euismodurna.net</td><td>2016-12-31</td><td>41</td><td>8562.0</td><td>3</td><td>9418.2</td></tr><tr><td>38</td><td>Irma</td><td>722-8997</td><td>ac.urna.Ut@a.ca</td><td>2013-10-14</td><td>58</td><td>6747.0</td><td>8</td><td>7421.700000000001</td></tr><tr><td>39</td><td>Carolyn</td><td>846-7060</td><td>metus.Aenean.sed@odiosempercursus.ca</td><td>2013-05-29</td><td>64</td><td>22838.0</td><td>6</td><td>25121.800000000003</td></tr><tr><td>40</td><td>Ross</td><td>387-0945</td><td>amet.faucibus@ipsum.edu</td><td>2009-07-27</td><td>67</td><td>14285.0</td><td>3</td><td>15713.500000000002</td></tr><tr><td>41</td><td>Wynne</td><td>711-0298</td><td>eget@dolorQuisque.ca</td><td>2007-07-24</td><td>31</td><td>19522.0</td><td>4</td><td>21474.2</td></tr><tr><td>42</td><td>Wanda</td><td>941-3970</td><td>auctor.velit@sem.com</td><td>2011-12-12</td><td>42</td><td>5419.0</td><td>9</td><td>5960.900000000001</td></tr><tr><td>43</td><td>Yetta</td><td>986-0220</td><td>vitae@dapibusrutrumjusto.co.uk</td><td>2008-03-24</td><td>61</td><td>21452.0</td><td>2</td><td>23597.2</td></tr><tr><td>44</td><td>Azalia</td><td>582-8465</td><td>eu.odio@a.co.uk</td><td>2009-12-14</td><td>27</td><td>16735.0</td><td>10</td><td>18408.5</td></tr><tr><td>45</td><td>Kylynn</td><td>1-427-463-8734</td><td>porttitor.eros.nec@Integer.net</td><td>2006-12-19</td><td>22</td><td>7040.0</td><td>7</td><td>7744.000000000001</td></tr><tr><td>46</td><td>Camden</td><td>1-663-540-3304</td><td>leo@dignissimpharetraNam.net</td><td>2003-10-19</td><td>30</td><td>7860.0</td><td>10</td><td>8646.0</td></tr><tr><td>47</td><td>Vernon</td><td>735-8400</td><td>leo@mattisIntegereu.net</td><td>2000-11-23</td><td>35</td><td>7109.0</td><td>10</td><td>7819.900000000001</td></tr><tr><td>48</td><td>Illiana</td><td>572-3648</td><td>montes.nascetur.ridiculus@hendreritneque.co.uk</td><td>2017-07-25</td><td>18</td><td>1454.0</td><td>8</td><td>1599.4</td></tr><tr><td>49</td><td>Logan</td><td>706-7700</td><td>neque@sedpede.net</td><td>2008-03-07</td><td>63</td><td>4963.0</td><td>7</td><td>5459.3</td></tr><tr><td>50</td><td>Ross</td><td>1-587-285-1837</td><td>at.risus@milaciniamattis.com</td><td>2009-11-03</td><td>31</td><td>19092.0</td><td>5</td><td>21001.2</td></tr><tr><td>51</td><td>Damon</td><td>368-7630</td><td>nunc@dapibusquamquis.co.uk</td><td>2016-08-11</td><td>49</td><td>2669.0</td><td>5</td><td>2935.9</td></tr><tr><td>52</td><td>Whoopi</td><td>1-671-552-5009</td><td>semper@Cras.ca</td><td>2019-01-21</td><td>22</td><td>23051.0</td><td>9</td><td>25356.100000000002</td></tr><tr><td>53</td><td>Zachery</td><td>314-8083</td><td>hymenaeos.Mauris@mollis.ca</td><td>2001-01-06</td><td>22</td><td>23820.0</td><td>3</td><td>26202.000000000004</td></tr><tr><td>54</td><td>Lars</td><td>1-554-600-0855</td><td>commodo@Nam.edu</td><td>2005-06-22</td><td>25</td><td>20573.0</td><td>1</td><td>22630.300000000003</td></tr><tr><td>55</td><td>Jennifer</td><td>755-6162</td><td>id@ultrices.com</td><td>2011-10-19</td><td>64</td><td>19013.0</td><td>9</td><td>20914.300000000003</td></tr><tr><td>56</td><td>Colby</td><td>1-517-827-8614</td><td>nec.ligula@euneque.ca</td><td>2014-03-05</td><td>19</td><td>15496.0</td><td>7</td><td>17045.600000000002</td></tr><tr><td>57</td><td>Jillian</td><td>1-286-285-0336</td><td>ipsum@luctus.org</td><td>2006-06-02</td><td>47</td><td>13445.0</td><td>8</td><td>14789.500000000002</td></tr><tr><td>58</td><td>Igor</td><td>1-361-603-8276</td><td>mattis.Integer.eu@hendreritconsectetuer.net</td><td>2003-07-18</td><td>37</td><td>6191.0</td><td>3</td><td>6810.1</td></tr><tr><td>59</td><td>Quemby</td><td>930-5882</td><td>lorem.ut.aliquam@nuncsed.org</td><td>2017-10-04</td><td>26</td><td>12092.0</td><td>5</td><td>13301.2</td></tr><tr><td>60</td><td>Bernard</td><td>492-8823</td><td>vel.faucibus@Donec.edu</td><td>2005-04-15</td><td>27</td><td>10825.0</td><td>2</td><td>11907.500000000002</td></tr><tr><td>61</td><td>Abel</td><td>1-235-530-5916</td><td>Curae@afacilisis.org</td><td>2011-11-08</td><td>33</td><td>15070.0</td><td>9</td><td>16577.0</td></tr><tr><td>62</td><td>Amelia</td><td>119-9184</td><td>Donec.egestas.Aliquam@turpisvitae.co.uk</td><td>2016-01-15</td><td>35</td><td>6042.0</td><td>8</td><td>6646.200000000001</td></tr><tr><td>63</td><td>Sade</td><td>112-5494</td><td>In@utquam.com</td><td>2012-04-05</td><td>70</td><td>11112.0</td><td>6</td><td>12223.2</td></tr><tr><td>64</td><td>Graiden</td><td>874-4897</td><td>massa.Mauris.vestibulum@sitamet.co.uk</td><td>2010-06-10</td><td>28</td><td>22037.0</td><td>3</td><td>24240.7</td></tr><tr><td>65</td><td>Nehru</td><td>142-9576</td><td>nibh@sagittis.org</td><td>2017-08-13</td><td>34</td><td>12423.0</td><td>4</td><td>13665.300000000001</td></tr><tr><td>66</td><td>Adrian</td><td>220-8905</td><td>enim@mollisPhasellus.com</td><td>2018-03-15</td><td>46</td><td>22953.0</td><td>2</td><td>25248.300000000003</td></tr><tr><td>67</td><td>Buffy</td><td>1-538-190-2276</td><td>amet@at.ca</td><td>2005-10-21</td><td>38</td><td>15116.0</td><td>2</td><td>16627.600000000002</td></tr><tr><td>68</td><td>Hayes</td><td>712-8783</td><td>at@ametdiam.net</td><td>2011-12-31</td><td>31</td><td>7523.0</td><td>5</td><td>8275.300000000001</td></tr><tr><td>69</td><td>Halee</td><td>1-208-996-8549</td><td>interdum.feugiat@imperdietornare.edu</td><td>2008-12-25</td><td>30</td><td>16782.0</td><td>3</td><td>18460.2</td></tr><tr><td>70</td><td>Suki</td><td>1-654-418-8537</td><td>varius.orci.in@congueelit.co.uk</td><td>2010-05-15</td><td>43</td><td>12029.0</td><td>1</td><td>13231.900000000001</td></tr><tr><td>71</td><td>Doris</td><td>508-8624</td><td>Curabitur.vel.lectus@mauris.co.uk</td><td>2005-04-28</td><td>23</td><td>11538.0</td><td>6</td><td>12691.800000000001</td></tr><tr><td>72</td><td>Tallulah</td><td>1-314-720-8141</td><td>non@idmagnaet.ca</td><td>2000-04-03</td><td>46</td><td>9867.0</td><td>5</td><td>10853.7</td></tr><tr><td>73</td><td>Fiona</td><td>1-866-258-8730</td><td>sit@sedsemegestas.net</td><td>2009-09-27</td><td>42</td><td>9960.0</td><td>10</td><td>10956.0</td></tr><tr><td>74</td><td>Kaitlin</td><td>817-0415</td><td>Etiam.laoreet.libero@odiosagittissemper.net</td><td>2009-05-22</td><td>56</td><td>6515.0</td><td>10</td><td>7166.500000000001</td></tr><tr><td>75</td><td>Nyssa</td><td>362-0379</td><td>nisi.sem.semper@egestasligulaNullam.edu</td><td>2002-04-29</td><td>53</td><td>2284.0</td><td>6</td><td>2512.4</td></tr><tr><td>76</td><td>Omar</td><td>1-325-245-9578</td><td>elit.erat@utodiovel.co.uk</td><td>2012-11-19</td><td>34</td><td>12163.0</td><td>6</td><td>13379.300000000001</td></tr><tr><td>77</td><td>Brynne</td><td>1-357-977-8936</td><td>aliquet.nec.imperdiet@euismod.org</td><td>2013-06-04</td><td>22</td><td>16551.0</td><td>7</td><td>18206.100000000002</td></tr><tr><td>78</td><td>Lenore</td><td>1-817-973-5592</td><td>Nunc.pulvinar.arcu@Duisatlacus.co.uk</td><td>2014-07-07</td><td>57</td><td>1483.0</td><td>2</td><td>1631.3000000000002</td></tr><tr><td>79</td><td>Philip</td><td>1-113-528-3055</td><td>nisi.Cum@malesuadavel.edu</td><td>2012-09-17</td><td>51</td><td>3919.0</td><td>10</td><td>4310.900000000001</td></tr><tr><td>80</td><td>Ebony</td><td>1-291-360-4704</td><td>parturient.montes.nascetur@vitaeerat.com</td><td>2014-05-22</td><td>59</td><td>3600.0</td><td>6</td><td>3960.0000000000005</td></tr><tr><td>81</td><td>Joy</td><td>1-379-384-0646</td><td>mi.Aliquam@nislNulla.org</td><td>2015-11-15</td><td>19</td><td>1256.0</td><td>2</td><td>1381.6000000000001</td></tr><tr><td>82</td><td>Cally</td><td>1-658-890-5167</td><td>id@dolor.edu</td><td>2008-12-13</td><td>67</td><td>24575.0</td><td>10</td><td>27032.500000000004</td></tr><tr><td>83</td><td>Giselle</td><td>1-515-799-6913</td><td>ipsum.Suspendisse.sagittis@Innec.org</td><td>2002-10-31</td><td>45</td><td>2503.0</td><td>2</td><td>2753.3</td></tr><tr><td>84</td><td>Keith</td><td>1-319-281-9980</td><td>augue.ac@Nulla.co.uk</td><td>2008-01-03</td><td>33</td><td>13348.0</td><td>4</td><td>14682.800000000001</td></tr><tr><td>85</td><td>Kennedy</td><td>596-0668</td><td>nibh.sit@famesac.ca</td><td>2011-04-25</td><td>41</td><td>7272.0</td><td>3</td><td>7999.200000000001</td></tr><tr><td>86</td><td>Jack</td><td>860-9554</td><td>parturient.montes.nascetur@dui.com</td><td>2017-03-10</td><td>58</td><td>14473.0</td><td>5</td><td>15920.300000000001</td></tr><tr><td>87</td><td>Karly</td><td>1-644-725-7241</td><td>tempor.erat@feugiatnon.ca</td><td>2011-06-12</td><td>25</td><td>3715.0</td><td>1</td><td>4086.5000000000005</td></tr><tr><td>88</td><td>Zeus</td><td>1-525-361-5753</td><td>non.magna.Nam@nuncid.org</td><td>2000-09-15</td><td>29</td><td>21556.0</td><td>7</td><td>23711.600000000002</td></tr><tr><td>89</td><td>Kelly</td><td>430-9134</td><td>turpis.In@egestasFusce.ca</td><td>2016-04-01</td><td>55</td><td>10110.0</td><td>6</td><td>11121.0</td></tr><tr><td>90</td><td>Sigourney</td><td>598-8806</td><td>sit.amet@sem.net</td><td>2002-05-02</td><td>42</td><td>9145.0</td><td>6</td><td>10059.5</td></tr><tr><td>91</td><td>Erica</td><td>1-320-339-2705</td><td>tristique.senectus@eleifendnondapibus.org</td><td>2015-02-23</td><td>32</td><td>8934.0</td><td>6</td><td>9827.400000000001</td></tr><tr><td>92</td><td>Lesley</td><td>973-4902</td><td>felis.adipiscing.fringilla@Proinvelnisl.co.uk</td><td>2004-02-29</td><td>19</td><td>23547.0</td><td>4</td><td>25901.7</td></tr><tr><td>93</td><td>Althea</td><td>1-163-702-1244</td><td>sit.amet.nulla@elit.co.uk</td><td>2002-09-01</td><td>24</td><td>8818.0</td><td>1</td><td>9699.800000000001</td></tr><tr><td>94</td><td>Amir</td><td>1-221-717-0093</td><td>dapibus.ligula@faucibuslectus.com</td><td>2001-02-11</td><td>18</td><td>20980.0</td><td>4</td><td>23078.000000000004</td></tr><tr><td>95</td><td>Jayme</td><td>1-641-113-8418</td><td>ornare.Fusce@tinciduntcongueturpis.co.uk</td><td>2002-05-31</td><td>58</td><td>23975.0</td><td>4</td><td>26372.500000000004</td></tr><tr><td>96</td><td>Amos</td><td>729-4665</td><td>non.lacinia@pharetra.net</td><td>2017-11-27</td><td>42</td><td>15855.0</td><td>2</td><td>17440.5</td></tr><tr><td>97</td><td>Flavia</td><td>1-559-270-7164</td><td>erat.vel.pede@sedtortor.co.uk</td><td>2004-11-14</td><td>27</td><td>13473.0</td><td>3</td><td>14820.300000000001</td></tr><tr><td>98</td><td>Yuli</td><td>772-9996</td><td>sagittis@nisl.com</td><td>2005-04-17</td><td>57</td><td>1336.0</td><td>5</td><td>1469.6000000000001</td></tr><tr><td>99</td><td>Ray</td><td>1-420-314-2886</td><td>ac.risus.Morbi@telluseuaugue.org</td><td>2011-12-30</td><td>26</td><td>5570.0</td><td>1</td><td>6127.000000000001</td></tr><tr><td>100</td><td>Cynthia</td><td>148-9696</td><td>justo.nec.ante@tinciduntvehicula.org</td><td>2008-01-23</td><td>57</td><td>8682.0</td><td>5</td><td>9550.2</td></tr></tbody></table></div>"
      ]
     },
     "metadata": {
      "application/vnd.databricks.v1+output": {
       "addedWidgets": {},
       "aggData": [],
       "aggError": "",
       "aggOverflow": false,
       "aggSchema": [],
       "aggSeriesLimitReached": false,
       "aggType": "",
       "arguments": {},
       "columnCustomDisplayInfos": {},
       "data": [
        [
         1,
         "Carl",
         "1-745-633-9145",
         "arcu.Sed.et@ante.co.uk",
         "2004-04-23",
         32,
         20095.0,
         5,
         22104.5
        ],
        [
         2,
         "Priscilla",
         "155-2498",
         "Donec.egestas.Aliquam@volutpatnunc.edu",
         "2019-02-17",
         34,
         9298.0,
         2,
         10227.800000000001
        ],
        [
         3,
         "Jocelyn",
         "1-204-956-8594",
         "amet.diam@lobortis.co.uk",
         "2002-08-01",
         27,
         10853.0,
         3,
         11938.300000000001
        ],
        [
         4,
         "Aidan",
         "1-719-862-9385",
         "euismod.et.commodo@nibhlaciniaorci.edu",
         "2018-11-06",
         29,
         3387.0,
         10,
         3725.7000000000003
        ],
        [
         5,
         "Leandra",
         "839-8044",
         "at@pretiumetrutrum.com",
         "2002-10-10",
         41,
         22102.0,
         1,
         24312.2
        ],
        [
         6,
         "Bert",
         "797-4453",
         "a.felis.ullamcorper@arcu.org",
         "2017-04-25",
         70,
         7800.0,
         7,
         8580.0
        ],
        [
         7,
         "Mark",
         "1-680-102-6792",
         "Quisque.ac@placerat.ca",
         "2006-04-21",
         52,
         8112.0,
         5,
         8923.2
        ],
        [
         8,
         "Jonah",
         "214-2975",
         "eu.ultrices.sit@vitae.ca",
         "2017-10-07",
         23,
         17040.0,
         5,
         18744.0
        ],
        [
         9,
         "Hanae",
         "935-2277",
         "eu@Nunc.ca",
         "2003-05-25",
         69,
         6834.0,
         3,
         7517.400000000001
        ],
        [
         10,
         "Cadman",
         "1-866-561-2701",
         "orci.adipiscing.non@semperNam.ca",
         "2001-05-19",
         19,
         7996.0,
         7,
         8795.6
        ],
        [
         11,
         "Melyssa",
         "596-7736",
         "vel@vulputateposuerevulputate.net",
         "2008-10-14",
         48,
         4913.0,
         8,
         5404.3
        ],
        [
         12,
         "Tanner",
         "1-739-776-7897",
         "arcu.Aliquam.ultrices@sociis.com",
         "2011-05-10",
         24,
         19943.0,
         8,
         21937.300000000003
        ],
        [
         13,
         "Trevor",
         "512-1955",
         "Nunc.quis.arcu@egestasa.org",
         "2010-08-06",
         34,
         9501.0,
         5,
         10451.1
        ],
        [
         14,
         "Allen",
         "733-2795",
         "felis.Donec@necleo.org",
         "2005-03-07",
         59,
         16289.0,
         2,
         17917.9
        ],
        [
         15,
         "Wanda",
         "359-6973",
         "Nam.nulla.magna@In.org",
         "2005-08-21",
         27,
         1539.0,
         5,
         1692.9
        ],
        [
         16,
         "Alden",
         "341-8522",
         "odio@morbitristiquesenectus.ca",
         "2006-12-05",
         26,
         3377.0,
         2,
         3714.7000000000003
        ],
        [
         17,
         "Omar",
         "720-1543",
         "Phasellus.vitae.mauris@sollicitudin.net",
         "2014-06-24",
         60,
         6851.0,
         6,
         7536.1
        ],
        [
         18,
         "Owen",
         "1-167-335-7541",
         "sociis@erat.com",
         "2002-04-09",
         34,
         4759.0,
         7,
         5234.900000000001
        ],
        [
         19,
         "Laura",
         "1-974-623-2057",
         "mollis@ornare.ca",
         "2017-03-09",
         70,
         17403.0,
         4,
         19143.300000000003
        ],
        [
         20,
         "Emery",
         "1-672-840-0264",
         "at.nisi@vel.org",
         "2004-02-27",
         24,
         18752.0,
         9,
         20627.2
        ],
        [
         21,
         "Carissa",
         "1-300-877-0859",
         "dignissim.pharetra.Nam@Pellentesqueultriciesdignissim.com",
         "2011-10-16",
         31,
         1952.0,
         10,
         2147.2000000000003
        ],
        [
         22,
         "Kibo",
         "970-8006",
         "scelerisque.lorem@mattis.org",
         "2012-04-25",
         22,
         7449.0,
         2,
         8193.900000000001
        ],
        [
         23,
         "Samson",
         "1-430-188-6663",
         "urna.justo.faucibus@neceleifendnon.net",
         "2011-12-15",
         51,
         8099.0,
         6,
         8908.900000000001
        ],
        [
         24,
         "Amaya",
         "1-448-826-9497",
         "ullamcorper.magna@dictumultriciesligula.org",
         "2000-09-18",
         24,
         1801.0,
         8,
         1981.1000000000001
        ],
        [
         25,
         "Pearl",
         "1-850-202-3373",
         "vel.convallis@rhoncus.co.uk",
         "2018-12-21",
         52,
         14756.0,
         6,
         16231.600000000002
        ],
        [
         26,
         "Brenden",
         "1-455-726-9413",
         "elit.pede.malesuada@liberomaurisaliquam.org",
         "2000-03-17",
         33,
         20549.0,
         7,
         22603.9
        ],
        [
         27,
         "Alexander",
         "912-0676",
         "semper.auctor.Mauris@mollislectuspede.edu",
         "2000-08-16",
         55,
         13813.0,
         6,
         15194.300000000001
        ],
        [
         28,
         "Stephen",
         "326-2020",
         "arcu.Aliquam.ultrices@acnullaIn.co.uk",
         "2016-09-04",
         53,
         9469.0,
         8,
         10415.900000000001
        ],
        [
         29,
         "Jana",
         "1-564-106-5562",
         "sed.dolor.Fusce@Sedet.co.uk",
         "2008-10-18",
         39,
         6483.0,
         2,
         7131.3
        ],
        [
         30,
         "Clayton",
         "1-599-614-5185",
         "est.Nunc@dictumeuplacerat.com",
         "2008-10-08",
         52,
         9505.0,
         8,
         10455.5
        ],
        [
         31,
         "Rylee",
         "306-5447",
         "Sed.nunc@turpis.edu",
         "2001-09-17",
         47,
         21591.0,
         3,
         23750.100000000002
        ],
        [
         32,
         "Gisela",
         "406-8031",
         "Praesent.luctus@dui.co.uk",
         "2002-08-21",
         67,
         6497.0,
         1,
         7146.700000000001
        ],
        [
         33,
         "Jin",
         "1-620-779-3366",
         "est.Nunc.ullamcorper@nullaInteger.co.uk",
         "2016-11-07",
         42,
         22038.0,
         2,
         24241.800000000003
        ],
        [
         34,
         "Lila",
         "1-703-777-4150",
         "viverra@sit.edu",
         "2015-02-26",
         48,
         24305.0,
         4,
         26735.500000000004
        ],
        [
         35,
         "Aurora",
         "1-865-751-3479",
         "magna@Cras.net",
         "2017-10-21",
         54,
         4588.0,
         5,
         5046.8
        ],
        [
         36,
         "Keely",
         "1-882-403-3531",
         "taciti@neceleifendnon.edu",
         "2008-02-03",
         41,
         10373.0,
         9,
         11410.300000000001
        ],
        [
         37,
         "Inga",
         "767-6448",
         "Mauris.quis.turpis@euismodurna.net",
         "2016-12-31",
         41,
         8562.0,
         3,
         9418.2
        ],
        [
         38,
         "Irma",
         "722-8997",
         "ac.urna.Ut@a.ca",
         "2013-10-14",
         58,
         6747.0,
         8,
         7421.700000000001
        ],
        [
         39,
         "Carolyn",
         "846-7060",
         "metus.Aenean.sed@odiosempercursus.ca",
         "2013-05-29",
         64,
         22838.0,
         6,
         25121.800000000003
        ],
        [
         40,
         "Ross",
         "387-0945",
         "amet.faucibus@ipsum.edu",
         "2009-07-27",
         67,
         14285.0,
         3,
         15713.500000000002
        ],
        [
         41,
         "Wynne",
         "711-0298",
         "eget@dolorQuisque.ca",
         "2007-07-24",
         31,
         19522.0,
         4,
         21474.2
        ],
        [
         42,
         "Wanda",
         "941-3970",
         "auctor.velit@sem.com",
         "2011-12-12",
         42,
         5419.0,
         9,
         5960.900000000001
        ],
        [
         43,
         "Yetta",
         "986-0220",
         "vitae@dapibusrutrumjusto.co.uk",
         "2008-03-24",
         61,
         21452.0,
         2,
         23597.2
        ],
        [
         44,
         "Azalia",
         "582-8465",
         "eu.odio@a.co.uk",
         "2009-12-14",
         27,
         16735.0,
         10,
         18408.5
        ],
        [
         45,
         "Kylynn",
         "1-427-463-8734",
         "porttitor.eros.nec@Integer.net",
         "2006-12-19",
         22,
         7040.0,
         7,
         7744.000000000001
        ],
        [
         46,
         "Camden",
         "1-663-540-3304",
         "leo@dignissimpharetraNam.net",
         "2003-10-19",
         30,
         7860.0,
         10,
         8646.0
        ],
        [
         47,
         "Vernon",
         "735-8400",
         "leo@mattisIntegereu.net",
         "2000-11-23",
         35,
         7109.0,
         10,
         7819.900000000001
        ],
        [
         48,
         "Illiana",
         "572-3648",
         "montes.nascetur.ridiculus@hendreritneque.co.uk",
         "2017-07-25",
         18,
         1454.0,
         8,
         1599.4
        ],
        [
         49,
         "Logan",
         "706-7700",
         "neque@sedpede.net",
         "2008-03-07",
         63,
         4963.0,
         7,
         5459.3
        ],
        [
         50,
         "Ross",
         "1-587-285-1837",
         "at.risus@milaciniamattis.com",
         "2009-11-03",
         31,
         19092.0,
         5,
         21001.2
        ],
        [
         51,
         "Damon",
         "368-7630",
         "nunc@dapibusquamquis.co.uk",
         "2016-08-11",
         49,
         2669.0,
         5,
         2935.9
        ],
        [
         52,
         "Whoopi",
         "1-671-552-5009",
         "semper@Cras.ca",
         "2019-01-21",
         22,
         23051.0,
         9,
         25356.100000000002
        ],
        [
         53,
         "Zachery",
         "314-8083",
         "hymenaeos.Mauris@mollis.ca",
         "2001-01-06",
         22,
         23820.0,
         3,
         26202.000000000004
        ],
        [
         54,
         "Lars",
         "1-554-600-0855",
         "commodo@Nam.edu",
         "2005-06-22",
         25,
         20573.0,
         1,
         22630.300000000003
        ],
        [
         55,
         "Jennifer",
         "755-6162",
         "id@ultrices.com",
         "2011-10-19",
         64,
         19013.0,
         9,
         20914.300000000003
        ],
        [
         56,
         "Colby",
         "1-517-827-8614",
         "nec.ligula@euneque.ca",
         "2014-03-05",
         19,
         15496.0,
         7,
         17045.600000000002
        ],
        [
         57,
         "Jillian",
         "1-286-285-0336",
         "ipsum@luctus.org",
         "2006-06-02",
         47,
         13445.0,
         8,
         14789.500000000002
        ],
        [
         58,
         "Igor",
         "1-361-603-8276",
         "mattis.Integer.eu@hendreritconsectetuer.net",
         "2003-07-18",
         37,
         6191.0,
         3,
         6810.1
        ],
        [
         59,
         "Quemby",
         "930-5882",
         "lorem.ut.aliquam@nuncsed.org",
         "2017-10-04",
         26,
         12092.0,
         5,
         13301.2
        ],
        [
         60,
         "Bernard",
         "492-8823",
         "vel.faucibus@Donec.edu",
         "2005-04-15",
         27,
         10825.0,
         2,
         11907.500000000002
        ],
        [
         61,
         "Abel",
         "1-235-530-5916",
         "Curae@afacilisis.org",
         "2011-11-08",
         33,
         15070.0,
         9,
         16577.0
        ],
        [
         62,
         "Amelia",
         "119-9184",
         "Donec.egestas.Aliquam@turpisvitae.co.uk",
         "2016-01-15",
         35,
         6042.0,
         8,
         6646.200000000001
        ],
        [
         63,
         "Sade",
         "112-5494",
         "In@utquam.com",
         "2012-04-05",
         70,
         11112.0,
         6,
         12223.2
        ],
        [
         64,
         "Graiden",
         "874-4897",
         "massa.Mauris.vestibulum@sitamet.co.uk",
         "2010-06-10",
         28,
         22037.0,
         3,
         24240.7
        ],
        [
         65,
         "Nehru",
         "142-9576",
         "nibh@sagittis.org",
         "2017-08-13",
         34,
         12423.0,
         4,
         13665.300000000001
        ],
        [
         66,
         "Adrian",
         "220-8905",
         "enim@mollisPhasellus.com",
         "2018-03-15",
         46,
         22953.0,
         2,
         25248.300000000003
        ],
        [
         67,
         "Buffy",
         "1-538-190-2276",
         "amet@at.ca",
         "2005-10-21",
         38,
         15116.0,
         2,
         16627.600000000002
        ],
        [
         68,
         "Hayes",
         "712-8783",
         "at@ametdiam.net",
         "2011-12-31",
         31,
         7523.0,
         5,
         8275.300000000001
        ],
        [
         69,
         "Halee",
         "1-208-996-8549",
         "interdum.feugiat@imperdietornare.edu",
         "2008-12-25",
         30,
         16782.0,
         3,
         18460.2
        ],
        [
         70,
         "Suki",
         "1-654-418-8537",
         "varius.orci.in@congueelit.co.uk",
         "2010-05-15",
         43,
         12029.0,
         1,
         13231.900000000001
        ],
        [
         71,
         "Doris",
         "508-8624",
         "Curabitur.vel.lectus@mauris.co.uk",
         "2005-04-28",
         23,
         11538.0,
         6,
         12691.800000000001
        ],
        [
         72,
         "Tallulah",
         "1-314-720-8141",
         "non@idmagnaet.ca",
         "2000-04-03",
         46,
         9867.0,
         5,
         10853.7
        ],
        [
         73,
         "Fiona",
         "1-866-258-8730",
         "sit@sedsemegestas.net",
         "2009-09-27",
         42,
         9960.0,
         10,
         10956.0
        ],
        [
         74,
         "Kaitlin",
         "817-0415",
         "Etiam.laoreet.libero@odiosagittissemper.net",
         "2009-05-22",
         56,
         6515.0,
         10,
         7166.500000000001
        ],
        [
         75,
         "Nyssa",
         "362-0379",
         "nisi.sem.semper@egestasligulaNullam.edu",
         "2002-04-29",
         53,
         2284.0,
         6,
         2512.4
        ],
        [
         76,
         "Omar",
         "1-325-245-9578",
         "elit.erat@utodiovel.co.uk",
         "2012-11-19",
         34,
         12163.0,
         6,
         13379.300000000001
        ],
        [
         77,
         "Brynne",
         "1-357-977-8936",
         "aliquet.nec.imperdiet@euismod.org",
         "2013-06-04",
         22,
         16551.0,
         7,
         18206.100000000002
        ],
        [
         78,
         "Lenore",
         "1-817-973-5592",
         "Nunc.pulvinar.arcu@Duisatlacus.co.uk",
         "2014-07-07",
         57,
         1483.0,
         2,
         1631.3000000000002
        ],
        [
         79,
         "Philip",
         "1-113-528-3055",
         "nisi.Cum@malesuadavel.edu",
         "2012-09-17",
         51,
         3919.0,
         10,
         4310.900000000001
        ],
        [
         80,
         "Ebony",
         "1-291-360-4704",
         "parturient.montes.nascetur@vitaeerat.com",
         "2014-05-22",
         59,
         3600.0,
         6,
         3960.0000000000005
        ],
        [
         81,
         "Joy",
         "1-379-384-0646",
         "mi.Aliquam@nislNulla.org",
         "2015-11-15",
         19,
         1256.0,
         2,
         1381.6000000000001
        ],
        [
         82,
         "Cally",
         "1-658-890-5167",
         "id@dolor.edu",
         "2008-12-13",
         67,
         24575.0,
         10,
         27032.500000000004
        ],
        [
         83,
         "Giselle",
         "1-515-799-6913",
         "ipsum.Suspendisse.sagittis@Innec.org",
         "2002-10-31",
         45,
         2503.0,
         2,
         2753.3
        ],
        [
         84,
         "Keith",
         "1-319-281-9980",
         "augue.ac@Nulla.co.uk",
         "2008-01-03",
         33,
         13348.0,
         4,
         14682.800000000001
        ],
        [
         85,
         "Kennedy",
         "596-0668",
         "nibh.sit@famesac.ca",
         "2011-04-25",
         41,
         7272.0,
         3,
         7999.200000000001
        ],
        [
         86,
         "Jack",
         "860-9554",
         "parturient.montes.nascetur@dui.com",
         "2017-03-10",
         58,
         14473.0,
         5,
         15920.300000000001
        ],
        [
         87,
         "Karly",
         "1-644-725-7241",
         "tempor.erat@feugiatnon.ca",
         "2011-06-12",
         25,
         3715.0,
         1,
         4086.5000000000005
        ],
        [
         88,
         "Zeus",
         "1-525-361-5753",
         "non.magna.Nam@nuncid.org",
         "2000-09-15",
         29,
         21556.0,
         7,
         23711.600000000002
        ],
        [
         89,
         "Kelly",
         "430-9134",
         "turpis.In@egestasFusce.ca",
         "2016-04-01",
         55,
         10110.0,
         6,
         11121.0
        ],
        [
         90,
         "Sigourney",
         "598-8806",
         "sit.amet@sem.net",
         "2002-05-02",
         42,
         9145.0,
         6,
         10059.5
        ],
        [
         91,
         "Erica",
         "1-320-339-2705",
         "tristique.senectus@eleifendnondapibus.org",
         "2015-02-23",
         32,
         8934.0,
         6,
         9827.400000000001
        ],
        [
         92,
         "Lesley",
         "973-4902",
         "felis.adipiscing.fringilla@Proinvelnisl.co.uk",
         "2004-02-29",
         19,
         23547.0,
         4,
         25901.7
        ],
        [
         93,
         "Althea",
         "1-163-702-1244",
         "sit.amet.nulla@elit.co.uk",
         "2002-09-01",
         24,
         8818.0,
         1,
         9699.800000000001
        ],
        [
         94,
         "Amir",
         "1-221-717-0093",
         "dapibus.ligula@faucibuslectus.com",
         "2001-02-11",
         18,
         20980.0,
         4,
         23078.000000000004
        ],
        [
         95,
         "Jayme",
         "1-641-113-8418",
         "ornare.Fusce@tinciduntcongueturpis.co.uk",
         "2002-05-31",
         58,
         23975.0,
         4,
         26372.500000000004
        ],
        [
         96,
         "Amos",
         "729-4665",
         "non.lacinia@pharetra.net",
         "2017-11-27",
         42,
         15855.0,
         2,
         17440.5
        ],
        [
         97,
         "Flavia",
         "1-559-270-7164",
         "erat.vel.pede@sedtortor.co.uk",
         "2004-11-14",
         27,
         13473.0,
         3,
         14820.300000000001
        ],
        [
         98,
         "Yuli",
         "772-9996",
         "sagittis@nisl.com",
         "2005-04-17",
         57,
         1336.0,
         5,
         1469.6000000000001
        ],
        [
         99,
         "Ray",
         "1-420-314-2886",
         "ac.risus.Morbi@telluseuaugue.org",
         "2011-12-30",
         26,
         5570.0,
         1,
         6127.000000000001
        ],
        [
         100,
         "Cynthia",
         "148-9696",
         "justo.nec.ante@tinciduntvehicula.org",
         "2008-01-23",
         57,
         8682.0,
         5,
         9550.2
        ]
       ],
       "datasetInfos": [],
       "dbfsResultPath": null,
       "isJsonSchema": true,
       "metadata": {},
       "overflow": false,
       "plotOptions": {
        "customPlotOptions": {},
        "displayType": "table",
        "pivotAggregation": null,
        "pivotColumns": null,
        "xColumns": null,
        "yColumns": null
       },
       "removedWidgets": [],
       "schema": [
        {
         "metadata": "{}",
         "name": "ID",
         "type": "\"integer\""
        },
        {
         "metadata": "{}",
         "name": "NOMBRE",
         "type": "\"string\""
        },
        {
         "metadata": "{}",
         "name": "TELEFONO",
         "type": "\"string\""
        },
        {
         "metadata": "{}",
         "name": "CORREO",
         "type": "\"string\""
        },
        {
         "metadata": "{}",
         "name": "FECHA_INGRESO",
         "type": "\"string\""
        },
        {
         "metadata": "{}",
         "name": "EDAD",
         "type": "\"integer\""
        },
        {
         "metadata": "{}",
         "name": "SALARIO",
         "type": "\"double\""
        },
        {
         "metadata": "{}",
         "name": "ID_EMPRESA",
         "type": "\"integer\""
        },
        {
         "metadata": "{}",
         "name": "NUEVA_SALARIO_10",
         "type": "\"double\""
        }
       ],
       "type": "table"
      }
     },
     "output_type": "display_data"
    }
   ],
   "source": [
    "df_result = df_with_schema.withColumn(\"ID\",col(\"ID\").cast(\"INTEGER\"))\\\n",
    "    .withColumn(\"ID_EMPRESA\",col(\"ID_EMPRESA\").cast(\"INTEGER\"))\\\n",
    "    .withColumn(\"NUEVA_SALARIO_10\",col(\"SALARIO\") * 1.10)\n",
    "\n",
    "display(df_result)\n"
   ]
  },
  {
   "cell_type": "code",
   "execution_count": 0,
   "metadata": {
    "application/vnd.databricks.v1+cell": {
     "cellMetadata": {},
     "inputWidgets": {},
     "nuid": "e096d204-b15b-4efb-b62b-90726e67081e",
     "showTitle": false,
     "tableResultSettingsMap": {},
     "title": ""
    }
   },
   "outputs": [],
   "source": []
  },
  {
   "cell_type": "code",
   "execution_count": 0,
   "metadata": {
    "application/vnd.databricks.v1+cell": {
     "cellMetadata": {
      "byteLimit": 2048000,
      "rowLimit": 10000
     },
     "inputWidgets": {},
     "nuid": "f927b780-25da-486b-8622-4f4e4b80033a",
     "showTitle": false,
     "tableResultSettingsMap": {},
     "title": ""
    }
   },
   "outputs": [],
   "source": [
    "from datetime import datetime\n",
    "periodo = datetime.now().strftime(\"%Y%m\")\n",
    "df_result = df_with_schema.withColumn(\"ID\",col(\"ID\").cast(\"INTEGER\"))\\\n",
    "    .withColumn(\"ID_EMPRESA\",col(\"ID_EMPRESA\").cast(\"INTEGER\"))\\\n",
    "    .withColumn(\"NUEVA_SALARIO_10\",col(\"SALARIO\") * 1.10)\\\n",
    "    .withColumn(\"CATEGORIA_SALARIO\",when(col(\"SALARIO\")<5000,\"BAJO\")\\\n",
    "                    .when((col(\"SALARIO\")>=5000) & (col(\"SALARIO\")<15000),\"MEDIO\")\\\n",
    "                    .otherwise(\"ALTO\"))\\\n",
    "    .withColumn(\"PERIODO\",lit(periodo))\n"
   ]
  },
  {
   "cell_type": "code",
   "execution_count": 0,
   "metadata": {
    "application/vnd.databricks.v1+cell": {
     "cellMetadata": {
      "byteLimit": 2048000,
      "rowLimit": 10000
     },
     "inputWidgets": {},
     "nuid": "ebb50996-119b-4972-962e-53a7ff391298",
     "showTitle": false,
     "tableResultSettingsMap": {},
     "title": ""
    }
   },
   "outputs": [
    {
     "output_type": "display_data",
     "data": {
      "text/html": [
       "<style scoped>\n",
       "  .table-result-container {\n",
       "    max-height: 300px;\n",
       "    overflow: auto;\n",
       "  }\n",
       "  table, th, td {\n",
       "    border: 1px solid black;\n",
       "    border-collapse: collapse;\n",
       "  }\n",
       "  th, td {\n",
       "    padding: 5px;\n",
       "  }\n",
       "  th {\n",
       "    text-align: left;\n",
       "  }\n",
       "</style><div class='table-result-container'><table class='table-result'><thead style='background-color: white'><tr><th>ID</th><th>NOMBRE</th><th>TELEFONO</th><th>CORREO</th><th>FECHA_INGRESO</th><th>EDAD</th><th>SALARIO</th><th>ID_EMPRESA</th><th>NUEVA_SALARIO_10</th><th>CATEGORIA_SALARIO</th><th>PERIODO</th></tr></thead><tbody><tr><td>1</td><td>Carl</td><td>1-745-633-9145</td><td>arcu.Sed.et@ante.co.uk</td><td>2004-04-23</td><td>32</td><td>20095.0</td><td>5</td><td>22104.5</td><td>ALTO</td><td>202503</td></tr><tr><td>2</td><td>Priscilla</td><td>155-2498</td><td>Donec.egestas.Aliquam@volutpatnunc.edu</td><td>2019-02-17</td><td>34</td><td>9298.0</td><td>2</td><td>10227.800000000001</td><td>MEDIO</td><td>202503</td></tr><tr><td>3</td><td>Jocelyn</td><td>1-204-956-8594</td><td>amet.diam@lobortis.co.uk</td><td>2002-08-01</td><td>27</td><td>10853.0</td><td>3</td><td>11938.300000000001</td><td>MEDIO</td><td>202503</td></tr><tr><td>4</td><td>Aidan</td><td>1-719-862-9385</td><td>euismod.et.commodo@nibhlaciniaorci.edu</td><td>2018-11-06</td><td>29</td><td>3387.0</td><td>10</td><td>3725.7000000000003</td><td>BAJO</td><td>202503</td></tr><tr><td>5</td><td>Leandra</td><td>839-8044</td><td>at@pretiumetrutrum.com</td><td>2002-10-10</td><td>41</td><td>22102.0</td><td>1</td><td>24312.2</td><td>ALTO</td><td>202503</td></tr><tr><td>6</td><td>Bert</td><td>797-4453</td><td>a.felis.ullamcorper@arcu.org</td><td>2017-04-25</td><td>70</td><td>7800.0</td><td>7</td><td>8580.0</td><td>MEDIO</td><td>202503</td></tr><tr><td>7</td><td>Mark</td><td>1-680-102-6792</td><td>Quisque.ac@placerat.ca</td><td>2006-04-21</td><td>52</td><td>8112.0</td><td>5</td><td>8923.2</td><td>MEDIO</td><td>202503</td></tr><tr><td>8</td><td>Jonah</td><td>214-2975</td><td>eu.ultrices.sit@vitae.ca</td><td>2017-10-07</td><td>23</td><td>17040.0</td><td>5</td><td>18744.0</td><td>ALTO</td><td>202503</td></tr><tr><td>9</td><td>Hanae</td><td>935-2277</td><td>eu@Nunc.ca</td><td>2003-05-25</td><td>69</td><td>6834.0</td><td>3</td><td>7517.400000000001</td><td>MEDIO</td><td>202503</td></tr><tr><td>10</td><td>Cadman</td><td>1-866-561-2701</td><td>orci.adipiscing.non@semperNam.ca</td><td>2001-05-19</td><td>19</td><td>7996.0</td><td>7</td><td>8795.6</td><td>MEDIO</td><td>202503</td></tr><tr><td>11</td><td>Melyssa</td><td>596-7736</td><td>vel@vulputateposuerevulputate.net</td><td>2008-10-14</td><td>48</td><td>4913.0</td><td>8</td><td>5404.3</td><td>BAJO</td><td>202503</td></tr><tr><td>12</td><td>Tanner</td><td>1-739-776-7897</td><td>arcu.Aliquam.ultrices@sociis.com</td><td>2011-05-10</td><td>24</td><td>19943.0</td><td>8</td><td>21937.300000000003</td><td>ALTO</td><td>202503</td></tr><tr><td>13</td><td>Trevor</td><td>512-1955</td><td>Nunc.quis.arcu@egestasa.org</td><td>2010-08-06</td><td>34</td><td>9501.0</td><td>5</td><td>10451.1</td><td>MEDIO</td><td>202503</td></tr><tr><td>14</td><td>Allen</td><td>733-2795</td><td>felis.Donec@necleo.org</td><td>2005-03-07</td><td>59</td><td>16289.0</td><td>2</td><td>17917.9</td><td>ALTO</td><td>202503</td></tr><tr><td>15</td><td>Wanda</td><td>359-6973</td><td>Nam.nulla.magna@In.org</td><td>2005-08-21</td><td>27</td><td>1539.0</td><td>5</td><td>1692.9</td><td>BAJO</td><td>202503</td></tr><tr><td>16</td><td>Alden</td><td>341-8522</td><td>odio@morbitristiquesenectus.ca</td><td>2006-12-05</td><td>26</td><td>3377.0</td><td>2</td><td>3714.7000000000003</td><td>BAJO</td><td>202503</td></tr><tr><td>17</td><td>Omar</td><td>720-1543</td><td>Phasellus.vitae.mauris@sollicitudin.net</td><td>2014-06-24</td><td>60</td><td>6851.0</td><td>6</td><td>7536.1</td><td>MEDIO</td><td>202503</td></tr><tr><td>18</td><td>Owen</td><td>1-167-335-7541</td><td>sociis@erat.com</td><td>2002-04-09</td><td>34</td><td>4759.0</td><td>7</td><td>5234.900000000001</td><td>BAJO</td><td>202503</td></tr><tr><td>19</td><td>Laura</td><td>1-974-623-2057</td><td>mollis@ornare.ca</td><td>2017-03-09</td><td>70</td><td>17403.0</td><td>4</td><td>19143.300000000003</td><td>ALTO</td><td>202503</td></tr><tr><td>20</td><td>Emery</td><td>1-672-840-0264</td><td>at.nisi@vel.org</td><td>2004-02-27</td><td>24</td><td>18752.0</td><td>9</td><td>20627.2</td><td>ALTO</td><td>202503</td></tr><tr><td>21</td><td>Carissa</td><td>1-300-877-0859</td><td>dignissim.pharetra.Nam@Pellentesqueultriciesdignissim.com</td><td>2011-10-16</td><td>31</td><td>1952.0</td><td>10</td><td>2147.2000000000003</td><td>BAJO</td><td>202503</td></tr><tr><td>22</td><td>Kibo</td><td>970-8006</td><td>scelerisque.lorem@mattis.org</td><td>2012-04-25</td><td>22</td><td>7449.0</td><td>2</td><td>8193.900000000001</td><td>MEDIO</td><td>202503</td></tr><tr><td>23</td><td>Samson</td><td>1-430-188-6663</td><td>urna.justo.faucibus@neceleifendnon.net</td><td>2011-12-15</td><td>51</td><td>8099.0</td><td>6</td><td>8908.900000000001</td><td>MEDIO</td><td>202503</td></tr><tr><td>24</td><td>Amaya</td><td>1-448-826-9497</td><td>ullamcorper.magna@dictumultriciesligula.org</td><td>2000-09-18</td><td>24</td><td>1801.0</td><td>8</td><td>1981.1000000000001</td><td>BAJO</td><td>202503</td></tr><tr><td>25</td><td>Pearl</td><td>1-850-202-3373</td><td>vel.convallis@rhoncus.co.uk</td><td>2018-12-21</td><td>52</td><td>14756.0</td><td>6</td><td>16231.600000000002</td><td>MEDIO</td><td>202503</td></tr><tr><td>26</td><td>Brenden</td><td>1-455-726-9413</td><td>elit.pede.malesuada@liberomaurisaliquam.org</td><td>2000-03-17</td><td>33</td><td>20549.0</td><td>7</td><td>22603.9</td><td>ALTO</td><td>202503</td></tr><tr><td>27</td><td>Alexander</td><td>912-0676</td><td>semper.auctor.Mauris@mollislectuspede.edu</td><td>2000-08-16</td><td>55</td><td>13813.0</td><td>6</td><td>15194.300000000001</td><td>MEDIO</td><td>202503</td></tr><tr><td>28</td><td>Stephen</td><td>326-2020</td><td>arcu.Aliquam.ultrices@acnullaIn.co.uk</td><td>2016-09-04</td><td>53</td><td>9469.0</td><td>8</td><td>10415.900000000001</td><td>MEDIO</td><td>202503</td></tr><tr><td>29</td><td>Jana</td><td>1-564-106-5562</td><td>sed.dolor.Fusce@Sedet.co.uk</td><td>2008-10-18</td><td>39</td><td>6483.0</td><td>2</td><td>7131.3</td><td>MEDIO</td><td>202503</td></tr><tr><td>30</td><td>Clayton</td><td>1-599-614-5185</td><td>est.Nunc@dictumeuplacerat.com</td><td>2008-10-08</td><td>52</td><td>9505.0</td><td>8</td><td>10455.5</td><td>MEDIO</td><td>202503</td></tr><tr><td>31</td><td>Rylee</td><td>306-5447</td><td>Sed.nunc@turpis.edu</td><td>2001-09-17</td><td>47</td><td>21591.0</td><td>3</td><td>23750.100000000002</td><td>ALTO</td><td>202503</td></tr><tr><td>32</td><td>Gisela</td><td>406-8031</td><td>Praesent.luctus@dui.co.uk</td><td>2002-08-21</td><td>67</td><td>6497.0</td><td>1</td><td>7146.700000000001</td><td>MEDIO</td><td>202503</td></tr><tr><td>33</td><td>Jin</td><td>1-620-779-3366</td><td>est.Nunc.ullamcorper@nullaInteger.co.uk</td><td>2016-11-07</td><td>42</td><td>22038.0</td><td>2</td><td>24241.800000000003</td><td>ALTO</td><td>202503</td></tr><tr><td>34</td><td>Lila</td><td>1-703-777-4150</td><td>viverra@sit.edu</td><td>2015-02-26</td><td>48</td><td>24305.0</td><td>4</td><td>26735.500000000004</td><td>ALTO</td><td>202503</td></tr><tr><td>35</td><td>Aurora</td><td>1-865-751-3479</td><td>magna@Cras.net</td><td>2017-10-21</td><td>54</td><td>4588.0</td><td>5</td><td>5046.8</td><td>BAJO</td><td>202503</td></tr><tr><td>36</td><td>Keely</td><td>1-882-403-3531</td><td>taciti@neceleifendnon.edu</td><td>2008-02-03</td><td>41</td><td>10373.0</td><td>9</td><td>11410.300000000001</td><td>MEDIO</td><td>202503</td></tr><tr><td>37</td><td>Inga</td><td>767-6448</td><td>Mauris.quis.turpis@euismodurna.net</td><td>2016-12-31</td><td>41</td><td>8562.0</td><td>3</td><td>9418.2</td><td>MEDIO</td><td>202503</td></tr><tr><td>38</td><td>Irma</td><td>722-8997</td><td>ac.urna.Ut@a.ca</td><td>2013-10-14</td><td>58</td><td>6747.0</td><td>8</td><td>7421.700000000001</td><td>MEDIO</td><td>202503</td></tr><tr><td>39</td><td>Carolyn</td><td>846-7060</td><td>metus.Aenean.sed@odiosempercursus.ca</td><td>2013-05-29</td><td>64</td><td>22838.0</td><td>6</td><td>25121.800000000003</td><td>ALTO</td><td>202503</td></tr><tr><td>40</td><td>Ross</td><td>387-0945</td><td>amet.faucibus@ipsum.edu</td><td>2009-07-27</td><td>67</td><td>14285.0</td><td>3</td><td>15713.500000000002</td><td>MEDIO</td><td>202503</td></tr><tr><td>41</td><td>Wynne</td><td>711-0298</td><td>eget@dolorQuisque.ca</td><td>2007-07-24</td><td>31</td><td>19522.0</td><td>4</td><td>21474.2</td><td>ALTO</td><td>202503</td></tr><tr><td>42</td><td>Wanda</td><td>941-3970</td><td>auctor.velit@sem.com</td><td>2011-12-12</td><td>42</td><td>5419.0</td><td>9</td><td>5960.900000000001</td><td>MEDIO</td><td>202503</td></tr><tr><td>43</td><td>Yetta</td><td>986-0220</td><td>vitae@dapibusrutrumjusto.co.uk</td><td>2008-03-24</td><td>61</td><td>21452.0</td><td>2</td><td>23597.2</td><td>ALTO</td><td>202503</td></tr><tr><td>44</td><td>Azalia</td><td>582-8465</td><td>eu.odio@a.co.uk</td><td>2009-12-14</td><td>27</td><td>16735.0</td><td>10</td><td>18408.5</td><td>ALTO</td><td>202503</td></tr><tr><td>45</td><td>Kylynn</td><td>1-427-463-8734</td><td>porttitor.eros.nec@Integer.net</td><td>2006-12-19</td><td>22</td><td>7040.0</td><td>7</td><td>7744.000000000001</td><td>MEDIO</td><td>202503</td></tr><tr><td>46</td><td>Camden</td><td>1-663-540-3304</td><td>leo@dignissimpharetraNam.net</td><td>2003-10-19</td><td>30</td><td>7860.0</td><td>10</td><td>8646.0</td><td>MEDIO</td><td>202503</td></tr><tr><td>47</td><td>Vernon</td><td>735-8400</td><td>leo@mattisIntegereu.net</td><td>2000-11-23</td><td>35</td><td>7109.0</td><td>10</td><td>7819.900000000001</td><td>MEDIO</td><td>202503</td></tr><tr><td>48</td><td>Illiana</td><td>572-3648</td><td>montes.nascetur.ridiculus@hendreritneque.co.uk</td><td>2017-07-25</td><td>18</td><td>1454.0</td><td>8</td><td>1599.4</td><td>BAJO</td><td>202503</td></tr><tr><td>49</td><td>Logan</td><td>706-7700</td><td>neque@sedpede.net</td><td>2008-03-07</td><td>63</td><td>4963.0</td><td>7</td><td>5459.3</td><td>BAJO</td><td>202503</td></tr><tr><td>50</td><td>Ross</td><td>1-587-285-1837</td><td>at.risus@milaciniamattis.com</td><td>2009-11-03</td><td>31</td><td>19092.0</td><td>5</td><td>21001.2</td><td>ALTO</td><td>202503</td></tr><tr><td>51</td><td>Damon</td><td>368-7630</td><td>nunc@dapibusquamquis.co.uk</td><td>2016-08-11</td><td>49</td><td>2669.0</td><td>5</td><td>2935.9</td><td>BAJO</td><td>202503</td></tr><tr><td>52</td><td>Whoopi</td><td>1-671-552-5009</td><td>semper@Cras.ca</td><td>2019-01-21</td><td>22</td><td>23051.0</td><td>9</td><td>25356.100000000002</td><td>ALTO</td><td>202503</td></tr><tr><td>53</td><td>Zachery</td><td>314-8083</td><td>hymenaeos.Mauris@mollis.ca</td><td>2001-01-06</td><td>22</td><td>23820.0</td><td>3</td><td>26202.000000000004</td><td>ALTO</td><td>202503</td></tr><tr><td>54</td><td>Lars</td><td>1-554-600-0855</td><td>commodo@Nam.edu</td><td>2005-06-22</td><td>25</td><td>20573.0</td><td>1</td><td>22630.300000000003</td><td>ALTO</td><td>202503</td></tr><tr><td>55</td><td>Jennifer</td><td>755-6162</td><td>id@ultrices.com</td><td>2011-10-19</td><td>64</td><td>19013.0</td><td>9</td><td>20914.300000000003</td><td>ALTO</td><td>202503</td></tr><tr><td>56</td><td>Colby</td><td>1-517-827-8614</td><td>nec.ligula@euneque.ca</td><td>2014-03-05</td><td>19</td><td>15496.0</td><td>7</td><td>17045.600000000002</td><td>ALTO</td><td>202503</td></tr><tr><td>57</td><td>Jillian</td><td>1-286-285-0336</td><td>ipsum@luctus.org</td><td>2006-06-02</td><td>47</td><td>13445.0</td><td>8</td><td>14789.500000000002</td><td>MEDIO</td><td>202503</td></tr><tr><td>58</td><td>Igor</td><td>1-361-603-8276</td><td>mattis.Integer.eu@hendreritconsectetuer.net</td><td>2003-07-18</td><td>37</td><td>6191.0</td><td>3</td><td>6810.1</td><td>MEDIO</td><td>202503</td></tr><tr><td>59</td><td>Quemby</td><td>930-5882</td><td>lorem.ut.aliquam@nuncsed.org</td><td>2017-10-04</td><td>26</td><td>12092.0</td><td>5</td><td>13301.2</td><td>MEDIO</td><td>202503</td></tr><tr><td>60</td><td>Bernard</td><td>492-8823</td><td>vel.faucibus@Donec.edu</td><td>2005-04-15</td><td>27</td><td>10825.0</td><td>2</td><td>11907.500000000002</td><td>MEDIO</td><td>202503</td></tr><tr><td>61</td><td>Abel</td><td>1-235-530-5916</td><td>Curae@afacilisis.org</td><td>2011-11-08</td><td>33</td><td>15070.0</td><td>9</td><td>16577.0</td><td>ALTO</td><td>202503</td></tr><tr><td>62</td><td>Amelia</td><td>119-9184</td><td>Donec.egestas.Aliquam@turpisvitae.co.uk</td><td>2016-01-15</td><td>35</td><td>6042.0</td><td>8</td><td>6646.200000000001</td><td>MEDIO</td><td>202503</td></tr><tr><td>63</td><td>Sade</td><td>112-5494</td><td>In@utquam.com</td><td>2012-04-05</td><td>70</td><td>11112.0</td><td>6</td><td>12223.2</td><td>MEDIO</td><td>202503</td></tr><tr><td>64</td><td>Graiden</td><td>874-4897</td><td>massa.Mauris.vestibulum@sitamet.co.uk</td><td>2010-06-10</td><td>28</td><td>22037.0</td><td>3</td><td>24240.7</td><td>ALTO</td><td>202503</td></tr><tr><td>65</td><td>Nehru</td><td>142-9576</td><td>nibh@sagittis.org</td><td>2017-08-13</td><td>34</td><td>12423.0</td><td>4</td><td>13665.300000000001</td><td>MEDIO</td><td>202503</td></tr><tr><td>66</td><td>Adrian</td><td>220-8905</td><td>enim@mollisPhasellus.com</td><td>2018-03-15</td><td>46</td><td>22953.0</td><td>2</td><td>25248.300000000003</td><td>ALTO</td><td>202503</td></tr><tr><td>67</td><td>Buffy</td><td>1-538-190-2276</td><td>amet@at.ca</td><td>2005-10-21</td><td>38</td><td>15116.0</td><td>2</td><td>16627.600000000002</td><td>ALTO</td><td>202503</td></tr><tr><td>68</td><td>Hayes</td><td>712-8783</td><td>at@ametdiam.net</td><td>2011-12-31</td><td>31</td><td>7523.0</td><td>5</td><td>8275.300000000001</td><td>MEDIO</td><td>202503</td></tr><tr><td>69</td><td>Halee</td><td>1-208-996-8549</td><td>interdum.feugiat@imperdietornare.edu</td><td>2008-12-25</td><td>30</td><td>16782.0</td><td>3</td><td>18460.2</td><td>ALTO</td><td>202503</td></tr><tr><td>70</td><td>Suki</td><td>1-654-418-8537</td><td>varius.orci.in@congueelit.co.uk</td><td>2010-05-15</td><td>43</td><td>12029.0</td><td>1</td><td>13231.900000000001</td><td>MEDIO</td><td>202503</td></tr><tr><td>71</td><td>Doris</td><td>508-8624</td><td>Curabitur.vel.lectus@mauris.co.uk</td><td>2005-04-28</td><td>23</td><td>11538.0</td><td>6</td><td>12691.800000000001</td><td>MEDIO</td><td>202503</td></tr><tr><td>72</td><td>Tallulah</td><td>1-314-720-8141</td><td>non@idmagnaet.ca</td><td>2000-04-03</td><td>46</td><td>9867.0</td><td>5</td><td>10853.7</td><td>MEDIO</td><td>202503</td></tr><tr><td>73</td><td>Fiona</td><td>1-866-258-8730</td><td>sit@sedsemegestas.net</td><td>2009-09-27</td><td>42</td><td>9960.0</td><td>10</td><td>10956.0</td><td>MEDIO</td><td>202503</td></tr><tr><td>74</td><td>Kaitlin</td><td>817-0415</td><td>Etiam.laoreet.libero@odiosagittissemper.net</td><td>2009-05-22</td><td>56</td><td>6515.0</td><td>10</td><td>7166.500000000001</td><td>MEDIO</td><td>202503</td></tr><tr><td>75</td><td>Nyssa</td><td>362-0379</td><td>nisi.sem.semper@egestasligulaNullam.edu</td><td>2002-04-29</td><td>53</td><td>2284.0</td><td>6</td><td>2512.4</td><td>BAJO</td><td>202503</td></tr><tr><td>76</td><td>Omar</td><td>1-325-245-9578</td><td>elit.erat@utodiovel.co.uk</td><td>2012-11-19</td><td>34</td><td>12163.0</td><td>6</td><td>13379.300000000001</td><td>MEDIO</td><td>202503</td></tr><tr><td>77</td><td>Brynne</td><td>1-357-977-8936</td><td>aliquet.nec.imperdiet@euismod.org</td><td>2013-06-04</td><td>22</td><td>16551.0</td><td>7</td><td>18206.100000000002</td><td>ALTO</td><td>202503</td></tr><tr><td>78</td><td>Lenore</td><td>1-817-973-5592</td><td>Nunc.pulvinar.arcu@Duisatlacus.co.uk</td><td>2014-07-07</td><td>57</td><td>1483.0</td><td>2</td><td>1631.3000000000002</td><td>BAJO</td><td>202503</td></tr><tr><td>79</td><td>Philip</td><td>1-113-528-3055</td><td>nisi.Cum@malesuadavel.edu</td><td>2012-09-17</td><td>51</td><td>3919.0</td><td>10</td><td>4310.900000000001</td><td>BAJO</td><td>202503</td></tr><tr><td>80</td><td>Ebony</td><td>1-291-360-4704</td><td>parturient.montes.nascetur@vitaeerat.com</td><td>2014-05-22</td><td>59</td><td>3600.0</td><td>6</td><td>3960.0000000000005</td><td>BAJO</td><td>202503</td></tr><tr><td>81</td><td>Joy</td><td>1-379-384-0646</td><td>mi.Aliquam@nislNulla.org</td><td>2015-11-15</td><td>19</td><td>1256.0</td><td>2</td><td>1381.6000000000001</td><td>BAJO</td><td>202503</td></tr><tr><td>82</td><td>Cally</td><td>1-658-890-5167</td><td>id@dolor.edu</td><td>2008-12-13</td><td>67</td><td>24575.0</td><td>10</td><td>27032.500000000004</td><td>ALTO</td><td>202503</td></tr><tr><td>83</td><td>Giselle</td><td>1-515-799-6913</td><td>ipsum.Suspendisse.sagittis@Innec.org</td><td>2002-10-31</td><td>45</td><td>2503.0</td><td>2</td><td>2753.3</td><td>BAJO</td><td>202503</td></tr><tr><td>84</td><td>Keith</td><td>1-319-281-9980</td><td>augue.ac@Nulla.co.uk</td><td>2008-01-03</td><td>33</td><td>13348.0</td><td>4</td><td>14682.800000000001</td><td>MEDIO</td><td>202503</td></tr><tr><td>85</td><td>Kennedy</td><td>596-0668</td><td>nibh.sit@famesac.ca</td><td>2011-04-25</td><td>41</td><td>7272.0</td><td>3</td><td>7999.200000000001</td><td>MEDIO</td><td>202503</td></tr><tr><td>86</td><td>Jack</td><td>860-9554</td><td>parturient.montes.nascetur@dui.com</td><td>2017-03-10</td><td>58</td><td>14473.0</td><td>5</td><td>15920.300000000001</td><td>MEDIO</td><td>202503</td></tr><tr><td>87</td><td>Karly</td><td>1-644-725-7241</td><td>tempor.erat@feugiatnon.ca</td><td>2011-06-12</td><td>25</td><td>3715.0</td><td>1</td><td>4086.5000000000005</td><td>BAJO</td><td>202503</td></tr><tr><td>88</td><td>Zeus</td><td>1-525-361-5753</td><td>non.magna.Nam@nuncid.org</td><td>2000-09-15</td><td>29</td><td>21556.0</td><td>7</td><td>23711.600000000002</td><td>ALTO</td><td>202503</td></tr><tr><td>89</td><td>Kelly</td><td>430-9134</td><td>turpis.In@egestasFusce.ca</td><td>2016-04-01</td><td>55</td><td>10110.0</td><td>6</td><td>11121.0</td><td>MEDIO</td><td>202503</td></tr><tr><td>90</td><td>Sigourney</td><td>598-8806</td><td>sit.amet@sem.net</td><td>2002-05-02</td><td>42</td><td>9145.0</td><td>6</td><td>10059.5</td><td>MEDIO</td><td>202503</td></tr><tr><td>91</td><td>Erica</td><td>1-320-339-2705</td><td>tristique.senectus@eleifendnondapibus.org</td><td>2015-02-23</td><td>32</td><td>8934.0</td><td>6</td><td>9827.400000000001</td><td>MEDIO</td><td>202503</td></tr><tr><td>92</td><td>Lesley</td><td>973-4902</td><td>felis.adipiscing.fringilla@Proinvelnisl.co.uk</td><td>2004-02-29</td><td>19</td><td>23547.0</td><td>4</td><td>25901.7</td><td>ALTO</td><td>202503</td></tr><tr><td>93</td><td>Althea</td><td>1-163-702-1244</td><td>sit.amet.nulla@elit.co.uk</td><td>2002-09-01</td><td>24</td><td>8818.0</td><td>1</td><td>9699.800000000001</td><td>MEDIO</td><td>202503</td></tr><tr><td>94</td><td>Amir</td><td>1-221-717-0093</td><td>dapibus.ligula@faucibuslectus.com</td><td>2001-02-11</td><td>18</td><td>20980.0</td><td>4</td><td>23078.000000000004</td><td>ALTO</td><td>202503</td></tr><tr><td>95</td><td>Jayme</td><td>1-641-113-8418</td><td>ornare.Fusce@tinciduntcongueturpis.co.uk</td><td>2002-05-31</td><td>58</td><td>23975.0</td><td>4</td><td>26372.500000000004</td><td>ALTO</td><td>202503</td></tr><tr><td>96</td><td>Amos</td><td>729-4665</td><td>non.lacinia@pharetra.net</td><td>2017-11-27</td><td>42</td><td>15855.0</td><td>2</td><td>17440.5</td><td>ALTO</td><td>202503</td></tr><tr><td>97</td><td>Flavia</td><td>1-559-270-7164</td><td>erat.vel.pede@sedtortor.co.uk</td><td>2004-11-14</td><td>27</td><td>13473.0</td><td>3</td><td>14820.300000000001</td><td>MEDIO</td><td>202503</td></tr><tr><td>98</td><td>Yuli</td><td>772-9996</td><td>sagittis@nisl.com</td><td>2005-04-17</td><td>57</td><td>1336.0</td><td>5</td><td>1469.6000000000001</td><td>BAJO</td><td>202503</td></tr><tr><td>99</td><td>Ray</td><td>1-420-314-2886</td><td>ac.risus.Morbi@telluseuaugue.org</td><td>2011-12-30</td><td>26</td><td>5570.0</td><td>1</td><td>6127.000000000001</td><td>MEDIO</td><td>202503</td></tr><tr><td>100</td><td>Cynthia</td><td>148-9696</td><td>justo.nec.ante@tinciduntvehicula.org</td><td>2008-01-23</td><td>57</td><td>8682.0</td><td>5</td><td>9550.2</td><td>MEDIO</td><td>202503</td></tr></tbody></table></div>"
      ]
     },
     "metadata": {
      "application/vnd.databricks.v1+output": {
       "addedWidgets": {},
       "aggData": [],
       "aggError": "",
       "aggOverflow": false,
       "aggSchema": [],
       "aggSeriesLimitReached": false,
       "aggType": "",
       "arguments": {},
       "columnCustomDisplayInfos": {},
       "data": [
        [
         1,
         "Carl",
         "1-745-633-9145",
         "arcu.Sed.et@ante.co.uk",
         "2004-04-23",
         32,
         20095.0,
         5,
         22104.5,
         "ALTO",
         "202503"
        ],
        [
         2,
         "Priscilla",
         "155-2498",
         "Donec.egestas.Aliquam@volutpatnunc.edu",
         "2019-02-17",
         34,
         9298.0,
         2,
         10227.800000000001,
         "MEDIO",
         "202503"
        ],
        [
         3,
         "Jocelyn",
         "1-204-956-8594",
         "amet.diam@lobortis.co.uk",
         "2002-08-01",
         27,
         10853.0,
         3,
         11938.300000000001,
         "MEDIO",
         "202503"
        ],
        [
         4,
         "Aidan",
         "1-719-862-9385",
         "euismod.et.commodo@nibhlaciniaorci.edu",
         "2018-11-06",
         29,
         3387.0,
         10,
         3725.7000000000003,
         "BAJO",
         "202503"
        ],
        [
         5,
         "Leandra",
         "839-8044",
         "at@pretiumetrutrum.com",
         "2002-10-10",
         41,
         22102.0,
         1,
         24312.2,
         "ALTO",
         "202503"
        ],
        [
         6,
         "Bert",
         "797-4453",
         "a.felis.ullamcorper@arcu.org",
         "2017-04-25",
         70,
         7800.0,
         7,
         8580.0,
         "MEDIO",
         "202503"
        ],
        [
         7,
         "Mark",
         "1-680-102-6792",
         "Quisque.ac@placerat.ca",
         "2006-04-21",
         52,
         8112.0,
         5,
         8923.2,
         "MEDIO",
         "202503"
        ],
        [
         8,
         "Jonah",
         "214-2975",
         "eu.ultrices.sit@vitae.ca",
         "2017-10-07",
         23,
         17040.0,
         5,
         18744.0,
         "ALTO",
         "202503"
        ],
        [
         9,
         "Hanae",
         "935-2277",
         "eu@Nunc.ca",
         "2003-05-25",
         69,
         6834.0,
         3,
         7517.400000000001,
         "MEDIO",
         "202503"
        ],
        [
         10,
         "Cadman",
         "1-866-561-2701",
         "orci.adipiscing.non@semperNam.ca",
         "2001-05-19",
         19,
         7996.0,
         7,
         8795.6,
         "MEDIO",
         "202503"
        ],
        [
         11,
         "Melyssa",
         "596-7736",
         "vel@vulputateposuerevulputate.net",
         "2008-10-14",
         48,
         4913.0,
         8,
         5404.3,
         "BAJO",
         "202503"
        ],
        [
         12,
         "Tanner",
         "1-739-776-7897",
         "arcu.Aliquam.ultrices@sociis.com",
         "2011-05-10",
         24,
         19943.0,
         8,
         21937.300000000003,
         "ALTO",
         "202503"
        ],
        [
         13,
         "Trevor",
         "512-1955",
         "Nunc.quis.arcu@egestasa.org",
         "2010-08-06",
         34,
         9501.0,
         5,
         10451.1,
         "MEDIO",
         "202503"
        ],
        [
         14,
         "Allen",
         "733-2795",
         "felis.Donec@necleo.org",
         "2005-03-07",
         59,
         16289.0,
         2,
         17917.9,
         "ALTO",
         "202503"
        ],
        [
         15,
         "Wanda",
         "359-6973",
         "Nam.nulla.magna@In.org",
         "2005-08-21",
         27,
         1539.0,
         5,
         1692.9,
         "BAJO",
         "202503"
        ],
        [
         16,
         "Alden",
         "341-8522",
         "odio@morbitristiquesenectus.ca",
         "2006-12-05",
         26,
         3377.0,
         2,
         3714.7000000000003,
         "BAJO",
         "202503"
        ],
        [
         17,
         "Omar",
         "720-1543",
         "Phasellus.vitae.mauris@sollicitudin.net",
         "2014-06-24",
         60,
         6851.0,
         6,
         7536.1,
         "MEDIO",
         "202503"
        ],
        [
         18,
         "Owen",
         "1-167-335-7541",
         "sociis@erat.com",
         "2002-04-09",
         34,
         4759.0,
         7,
         5234.900000000001,
         "BAJO",
         "202503"
        ],
        [
         19,
         "Laura",
         "1-974-623-2057",
         "mollis@ornare.ca",
         "2017-03-09",
         70,
         17403.0,
         4,
         19143.300000000003,
         "ALTO",
         "202503"
        ],
        [
         20,
         "Emery",
         "1-672-840-0264",
         "at.nisi@vel.org",
         "2004-02-27",
         24,
         18752.0,
         9,
         20627.2,
         "ALTO",
         "202503"
        ],
        [
         21,
         "Carissa",
         "1-300-877-0859",
         "dignissim.pharetra.Nam@Pellentesqueultriciesdignissim.com",
         "2011-10-16",
         31,
         1952.0,
         10,
         2147.2000000000003,
         "BAJO",
         "202503"
        ],
        [
         22,
         "Kibo",
         "970-8006",
         "scelerisque.lorem@mattis.org",
         "2012-04-25",
         22,
         7449.0,
         2,
         8193.900000000001,
         "MEDIO",
         "202503"
        ],
        [
         23,
         "Samson",
         "1-430-188-6663",
         "urna.justo.faucibus@neceleifendnon.net",
         "2011-12-15",
         51,
         8099.0,
         6,
         8908.900000000001,
         "MEDIO",
         "202503"
        ],
        [
         24,
         "Amaya",
         "1-448-826-9497",
         "ullamcorper.magna@dictumultriciesligula.org",
         "2000-09-18",
         24,
         1801.0,
         8,
         1981.1000000000001,
         "BAJO",
         "202503"
        ],
        [
         25,
         "Pearl",
         "1-850-202-3373",
         "vel.convallis@rhoncus.co.uk",
         "2018-12-21",
         52,
         14756.0,
         6,
         16231.600000000002,
         "MEDIO",
         "202503"
        ],
        [
         26,
         "Brenden",
         "1-455-726-9413",
         "elit.pede.malesuada@liberomaurisaliquam.org",
         "2000-03-17",
         33,
         20549.0,
         7,
         22603.9,
         "ALTO",
         "202503"
        ],
        [
         27,
         "Alexander",
         "912-0676",
         "semper.auctor.Mauris@mollislectuspede.edu",
         "2000-08-16",
         55,
         13813.0,
         6,
         15194.300000000001,
         "MEDIO",
         "202503"
        ],
        [
         28,
         "Stephen",
         "326-2020",
         "arcu.Aliquam.ultrices@acnullaIn.co.uk",
         "2016-09-04",
         53,
         9469.0,
         8,
         10415.900000000001,
         "MEDIO",
         "202503"
        ],
        [
         29,
         "Jana",
         "1-564-106-5562",
         "sed.dolor.Fusce@Sedet.co.uk",
         "2008-10-18",
         39,
         6483.0,
         2,
         7131.3,
         "MEDIO",
         "202503"
        ],
        [
         30,
         "Clayton",
         "1-599-614-5185",
         "est.Nunc@dictumeuplacerat.com",
         "2008-10-08",
         52,
         9505.0,
         8,
         10455.5,
         "MEDIO",
         "202503"
        ],
        [
         31,
         "Rylee",
         "306-5447",
         "Sed.nunc@turpis.edu",
         "2001-09-17",
         47,
         21591.0,
         3,
         23750.100000000002,
         "ALTO",
         "202503"
        ],
        [
         32,
         "Gisela",
         "406-8031",
         "Praesent.luctus@dui.co.uk",
         "2002-08-21",
         67,
         6497.0,
         1,
         7146.700000000001,
         "MEDIO",
         "202503"
        ],
        [
         33,
         "Jin",
         "1-620-779-3366",
         "est.Nunc.ullamcorper@nullaInteger.co.uk",
         "2016-11-07",
         42,
         22038.0,
         2,
         24241.800000000003,
         "ALTO",
         "202503"
        ],
        [
         34,
         "Lila",
         "1-703-777-4150",
         "viverra@sit.edu",
         "2015-02-26",
         48,
         24305.0,
         4,
         26735.500000000004,
         "ALTO",
         "202503"
        ],
        [
         35,
         "Aurora",
         "1-865-751-3479",
         "magna@Cras.net",
         "2017-10-21",
         54,
         4588.0,
         5,
         5046.8,
         "BAJO",
         "202503"
        ],
        [
         36,
         "Keely",
         "1-882-403-3531",
         "taciti@neceleifendnon.edu",
         "2008-02-03",
         41,
         10373.0,
         9,
         11410.300000000001,
         "MEDIO",
         "202503"
        ],
        [
         37,
         "Inga",
         "767-6448",
         "Mauris.quis.turpis@euismodurna.net",
         "2016-12-31",
         41,
         8562.0,
         3,
         9418.2,
         "MEDIO",
         "202503"
        ],
        [
         38,
         "Irma",
         "722-8997",
         "ac.urna.Ut@a.ca",
         "2013-10-14",
         58,
         6747.0,
         8,
         7421.700000000001,
         "MEDIO",
         "202503"
        ],
        [
         39,
         "Carolyn",
         "846-7060",
         "metus.Aenean.sed@odiosempercursus.ca",
         "2013-05-29",
         64,
         22838.0,
         6,
         25121.800000000003,
         "ALTO",
         "202503"
        ],
        [
         40,
         "Ross",
         "387-0945",
         "amet.faucibus@ipsum.edu",
         "2009-07-27",
         67,
         14285.0,
         3,
         15713.500000000002,
         "MEDIO",
         "202503"
        ],
        [
         41,
         "Wynne",
         "711-0298",
         "eget@dolorQuisque.ca",
         "2007-07-24",
         31,
         19522.0,
         4,
         21474.2,
         "ALTO",
         "202503"
        ],
        [
         42,
         "Wanda",
         "941-3970",
         "auctor.velit@sem.com",
         "2011-12-12",
         42,
         5419.0,
         9,
         5960.900000000001,
         "MEDIO",
         "202503"
        ],
        [
         43,
         "Yetta",
         "986-0220",
         "vitae@dapibusrutrumjusto.co.uk",
         "2008-03-24",
         61,
         21452.0,
         2,
         23597.2,
         "ALTO",
         "202503"
        ],
        [
         44,
         "Azalia",
         "582-8465",
         "eu.odio@a.co.uk",
         "2009-12-14",
         27,
         16735.0,
         10,
         18408.5,
         "ALTO",
         "202503"
        ],
        [
         45,
         "Kylynn",
         "1-427-463-8734",
         "porttitor.eros.nec@Integer.net",
         "2006-12-19",
         22,
         7040.0,
         7,
         7744.000000000001,
         "MEDIO",
         "202503"
        ],
        [
         46,
         "Camden",
         "1-663-540-3304",
         "leo@dignissimpharetraNam.net",
         "2003-10-19",
         30,
         7860.0,
         10,
         8646.0,
         "MEDIO",
         "202503"
        ],
        [
         47,
         "Vernon",
         "735-8400",
         "leo@mattisIntegereu.net",
         "2000-11-23",
         35,
         7109.0,
         10,
         7819.900000000001,
         "MEDIO",
         "202503"
        ],
        [
         48,
         "Illiana",
         "572-3648",
         "montes.nascetur.ridiculus@hendreritneque.co.uk",
         "2017-07-25",
         18,
         1454.0,
         8,
         1599.4,
         "BAJO",
         "202503"
        ],
        [
         49,
         "Logan",
         "706-7700",
         "neque@sedpede.net",
         "2008-03-07",
         63,
         4963.0,
         7,
         5459.3,
         "BAJO",
         "202503"
        ],
        [
         50,
         "Ross",
         "1-587-285-1837",
         "at.risus@milaciniamattis.com",
         "2009-11-03",
         31,
         19092.0,
         5,
         21001.2,
         "ALTO",
         "202503"
        ],
        [
         51,
         "Damon",
         "368-7630",
         "nunc@dapibusquamquis.co.uk",
         "2016-08-11",
         49,
         2669.0,
         5,
         2935.9,
         "BAJO",
         "202503"
        ],
        [
         52,
         "Whoopi",
         "1-671-552-5009",
         "semper@Cras.ca",
         "2019-01-21",
         22,
         23051.0,
         9,
         25356.100000000002,
         "ALTO",
         "202503"
        ],
        [
         53,
         "Zachery",
         "314-8083",
         "hymenaeos.Mauris@mollis.ca",
         "2001-01-06",
         22,
         23820.0,
         3,
         26202.000000000004,
         "ALTO",
         "202503"
        ],
        [
         54,
         "Lars",
         "1-554-600-0855",
         "commodo@Nam.edu",
         "2005-06-22",
         25,
         20573.0,
         1,
         22630.300000000003,
         "ALTO",
         "202503"
        ],
        [
         55,
         "Jennifer",
         "755-6162",
         "id@ultrices.com",
         "2011-10-19",
         64,
         19013.0,
         9,
         20914.300000000003,
         "ALTO",
         "202503"
        ],
        [
         56,
         "Colby",
         "1-517-827-8614",
         "nec.ligula@euneque.ca",
         "2014-03-05",
         19,
         15496.0,
         7,
         17045.600000000002,
         "ALTO",
         "202503"
        ],
        [
         57,
         "Jillian",
         "1-286-285-0336",
         "ipsum@luctus.org",
         "2006-06-02",
         47,
         13445.0,
         8,
         14789.500000000002,
         "MEDIO",
         "202503"
        ],
        [
         58,
         "Igor",
         "1-361-603-8276",
         "mattis.Integer.eu@hendreritconsectetuer.net",
         "2003-07-18",
         37,
         6191.0,
         3,
         6810.1,
         "MEDIO",
         "202503"
        ],
        [
         59,
         "Quemby",
         "930-5882",
         "lorem.ut.aliquam@nuncsed.org",
         "2017-10-04",
         26,
         12092.0,
         5,
         13301.2,
         "MEDIO",
         "202503"
        ],
        [
         60,
         "Bernard",
         "492-8823",
         "vel.faucibus@Donec.edu",
         "2005-04-15",
         27,
         10825.0,
         2,
         11907.500000000002,
         "MEDIO",
         "202503"
        ],
        [
         61,
         "Abel",
         "1-235-530-5916",
         "Curae@afacilisis.org",
         "2011-11-08",
         33,
         15070.0,
         9,
         16577.0,
         "ALTO",
         "202503"
        ],
        [
         62,
         "Amelia",
         "119-9184",
         "Donec.egestas.Aliquam@turpisvitae.co.uk",
         "2016-01-15",
         35,
         6042.0,
         8,
         6646.200000000001,
         "MEDIO",
         "202503"
        ],
        [
         63,
         "Sade",
         "112-5494",
         "In@utquam.com",
         "2012-04-05",
         70,
         11112.0,
         6,
         12223.2,
         "MEDIO",
         "202503"
        ],
        [
         64,
         "Graiden",
         "874-4897",
         "massa.Mauris.vestibulum@sitamet.co.uk",
         "2010-06-10",
         28,
         22037.0,
         3,
         24240.7,
         "ALTO",
         "202503"
        ],
        [
         65,
         "Nehru",
         "142-9576",
         "nibh@sagittis.org",
         "2017-08-13",
         34,
         12423.0,
         4,
         13665.300000000001,
         "MEDIO",
         "202503"
        ],
        [
         66,
         "Adrian",
         "220-8905",
         "enim@mollisPhasellus.com",
         "2018-03-15",
         46,
         22953.0,
         2,
         25248.300000000003,
         "ALTO",
         "202503"
        ],
        [
         67,
         "Buffy",
         "1-538-190-2276",
         "amet@at.ca",
         "2005-10-21",
         38,
         15116.0,
         2,
         16627.600000000002,
         "ALTO",
         "202503"
        ],
        [
         68,
         "Hayes",
         "712-8783",
         "at@ametdiam.net",
         "2011-12-31",
         31,
         7523.0,
         5,
         8275.300000000001,
         "MEDIO",
         "202503"
        ],
        [
         69,
         "Halee",
         "1-208-996-8549",
         "interdum.feugiat@imperdietornare.edu",
         "2008-12-25",
         30,
         16782.0,
         3,
         18460.2,
         "ALTO",
         "202503"
        ],
        [
         70,
         "Suki",
         "1-654-418-8537",
         "varius.orci.in@congueelit.co.uk",
         "2010-05-15",
         43,
         12029.0,
         1,
         13231.900000000001,
         "MEDIO",
         "202503"
        ],
        [
         71,
         "Doris",
         "508-8624",
         "Curabitur.vel.lectus@mauris.co.uk",
         "2005-04-28",
         23,
         11538.0,
         6,
         12691.800000000001,
         "MEDIO",
         "202503"
        ],
        [
         72,
         "Tallulah",
         "1-314-720-8141",
         "non@idmagnaet.ca",
         "2000-04-03",
         46,
         9867.0,
         5,
         10853.7,
         "MEDIO",
         "202503"
        ],
        [
         73,
         "Fiona",
         "1-866-258-8730",
         "sit@sedsemegestas.net",
         "2009-09-27",
         42,
         9960.0,
         10,
         10956.0,
         "MEDIO",
         "202503"
        ],
        [
         74,
         "Kaitlin",
         "817-0415",
         "Etiam.laoreet.libero@odiosagittissemper.net",
         "2009-05-22",
         56,
         6515.0,
         10,
         7166.500000000001,
         "MEDIO",
         "202503"
        ],
        [
         75,
         "Nyssa",
         "362-0379",
         "nisi.sem.semper@egestasligulaNullam.edu",
         "2002-04-29",
         53,
         2284.0,
         6,
         2512.4,
         "BAJO",
         "202503"
        ],
        [
         76,
         "Omar",
         "1-325-245-9578",
         "elit.erat@utodiovel.co.uk",
         "2012-11-19",
         34,
         12163.0,
         6,
         13379.300000000001,
         "MEDIO",
         "202503"
        ],
        [
         77,
         "Brynne",
         "1-357-977-8936",
         "aliquet.nec.imperdiet@euismod.org",
         "2013-06-04",
         22,
         16551.0,
         7,
         18206.100000000002,
         "ALTO",
         "202503"
        ],
        [
         78,
         "Lenore",
         "1-817-973-5592",
         "Nunc.pulvinar.arcu@Duisatlacus.co.uk",
         "2014-07-07",
         57,
         1483.0,
         2,
         1631.3000000000002,
         "BAJO",
         "202503"
        ],
        [
         79,
         "Philip",
         "1-113-528-3055",
         "nisi.Cum@malesuadavel.edu",
         "2012-09-17",
         51,
         3919.0,
         10,
         4310.900000000001,
         "BAJO",
         "202503"
        ],
        [
         80,
         "Ebony",
         "1-291-360-4704",
         "parturient.montes.nascetur@vitaeerat.com",
         "2014-05-22",
         59,
         3600.0,
         6,
         3960.0000000000005,
         "BAJO",
         "202503"
        ],
        [
         81,
         "Joy",
         "1-379-384-0646",
         "mi.Aliquam@nislNulla.org",
         "2015-11-15",
         19,
         1256.0,
         2,
         1381.6000000000001,
         "BAJO",
         "202503"
        ],
        [
         82,
         "Cally",
         "1-658-890-5167",
         "id@dolor.edu",
         "2008-12-13",
         67,
         24575.0,
         10,
         27032.500000000004,
         "ALTO",
         "202503"
        ],
        [
         83,
         "Giselle",
         "1-515-799-6913",
         "ipsum.Suspendisse.sagittis@Innec.org",
         "2002-10-31",
         45,
         2503.0,
         2,
         2753.3,
         "BAJO",
         "202503"
        ],
        [
         84,
         "Keith",
         "1-319-281-9980",
         "augue.ac@Nulla.co.uk",
         "2008-01-03",
         33,
         13348.0,
         4,
         14682.800000000001,
         "MEDIO",
         "202503"
        ],
        [
         85,
         "Kennedy",
         "596-0668",
         "nibh.sit@famesac.ca",
         "2011-04-25",
         41,
         7272.0,
         3,
         7999.200000000001,
         "MEDIO",
         "202503"
        ],
        [
         86,
         "Jack",
         "860-9554",
         "parturient.montes.nascetur@dui.com",
         "2017-03-10",
         58,
         14473.0,
         5,
         15920.300000000001,
         "MEDIO",
         "202503"
        ],
        [
         87,
         "Karly",
         "1-644-725-7241",
         "tempor.erat@feugiatnon.ca",
         "2011-06-12",
         25,
         3715.0,
         1,
         4086.5000000000005,
         "BAJO",
         "202503"
        ],
        [
         88,
         "Zeus",
         "1-525-361-5753",
         "non.magna.Nam@nuncid.org",
         "2000-09-15",
         29,
         21556.0,
         7,
         23711.600000000002,
         "ALTO",
         "202503"
        ],
        [
         89,
         "Kelly",
         "430-9134",
         "turpis.In@egestasFusce.ca",
         "2016-04-01",
         55,
         10110.0,
         6,
         11121.0,
         "MEDIO",
         "202503"
        ],
        [
         90,
         "Sigourney",
         "598-8806",
         "sit.amet@sem.net",
         "2002-05-02",
         42,
         9145.0,
         6,
         10059.5,
         "MEDIO",
         "202503"
        ],
        [
         91,
         "Erica",
         "1-320-339-2705",
         "tristique.senectus@eleifendnondapibus.org",
         "2015-02-23",
         32,
         8934.0,
         6,
         9827.400000000001,
         "MEDIO",
         "202503"
        ],
        [
         92,
         "Lesley",
         "973-4902",
         "felis.adipiscing.fringilla@Proinvelnisl.co.uk",
         "2004-02-29",
         19,
         23547.0,
         4,
         25901.7,
         "ALTO",
         "202503"
        ],
        [
         93,
         "Althea",
         "1-163-702-1244",
         "sit.amet.nulla@elit.co.uk",
         "2002-09-01",
         24,
         8818.0,
         1,
         9699.800000000001,
         "MEDIO",
         "202503"
        ],
        [
         94,
         "Amir",
         "1-221-717-0093",
         "dapibus.ligula@faucibuslectus.com",
         "2001-02-11",
         18,
         20980.0,
         4,
         23078.000000000004,
         "ALTO",
         "202503"
        ],
        [
         95,
         "Jayme",
         "1-641-113-8418",
         "ornare.Fusce@tinciduntcongueturpis.co.uk",
         "2002-05-31",
         58,
         23975.0,
         4,
         26372.500000000004,
         "ALTO",
         "202503"
        ],
        [
         96,
         "Amos",
         "729-4665",
         "non.lacinia@pharetra.net",
         "2017-11-27",
         42,
         15855.0,
         2,
         17440.5,
         "ALTO",
         "202503"
        ],
        [
         97,
         "Flavia",
         "1-559-270-7164",
         "erat.vel.pede@sedtortor.co.uk",
         "2004-11-14",
         27,
         13473.0,
         3,
         14820.300000000001,
         "MEDIO",
         "202503"
        ],
        [
         98,
         "Yuli",
         "772-9996",
         "sagittis@nisl.com",
         "2005-04-17",
         57,
         1336.0,
         5,
         1469.6000000000001,
         "BAJO",
         "202503"
        ],
        [
         99,
         "Ray",
         "1-420-314-2886",
         "ac.risus.Morbi@telluseuaugue.org",
         "2011-12-30",
         26,
         5570.0,
         1,
         6127.000000000001,
         "MEDIO",
         "202503"
        ],
        [
         100,
         "Cynthia",
         "148-9696",
         "justo.nec.ante@tinciduntvehicula.org",
         "2008-01-23",
         57,
         8682.0,
         5,
         9550.2,
         "MEDIO",
         "202503"
        ]
       ],
       "datasetInfos": [],
       "dbfsResultPath": null,
       "isJsonSchema": true,
       "metadata": {},
       "overflow": false,
       "plotOptions": {
        "customPlotOptions": {},
        "displayType": "table",
        "pivotAggregation": null,
        "pivotColumns": null,
        "xColumns": null,
        "yColumns": null
       },
       "removedWidgets": [],
       "schema": [
        {
         "metadata": "{}",
         "name": "ID",
         "type": "\"integer\""
        },
        {
         "metadata": "{}",
         "name": "NOMBRE",
         "type": "\"string\""
        },
        {
         "metadata": "{}",
         "name": "TELEFONO",
         "type": "\"string\""
        },
        {
         "metadata": "{}",
         "name": "CORREO",
         "type": "\"string\""
        },
        {
         "metadata": "{}",
         "name": "FECHA_INGRESO",
         "type": "\"string\""
        },
        {
         "metadata": "{}",
         "name": "EDAD",
         "type": "\"integer\""
        },
        {
         "metadata": "{}",
         "name": "SALARIO",
         "type": "\"double\""
        },
        {
         "metadata": "{}",
         "name": "ID_EMPRESA",
         "type": "\"integer\""
        },
        {
         "metadata": "{}",
         "name": "NUEVA_SALARIO_10",
         "type": "\"double\""
        },
        {
         "metadata": "{}",
         "name": "CATEGORIA_SALARIO",
         "type": "\"string\""
        },
        {
         "metadata": "{}",
         "name": "PERIODO",
         "type": "\"string\""
        }
       ],
       "type": "table"
      }
     },
     "output_type": "display_data"
    }
   ],
   "source": [
    "display(df_result)"
   ]
  },
  {
   "cell_type": "code",
   "execution_count": 0,
   "metadata": {
    "application/vnd.databricks.v1+cell": {
     "cellMetadata": {
      "byteLimit": 2048000,
      "rowLimit": 10000
     },
     "inputWidgets": {},
     "nuid": "7d87fb65-8371-4852-8b57-135378117d5c",
     "showTitle": false,
     "tableResultSettingsMap": {},
     "title": ""
    }
   },
   "outputs": [
    {
     "output_type": "display_data",
     "data": {
      "text/html": [
       "<style scoped>\n",
       "  .table-result-container {\n",
       "    max-height: 300px;\n",
       "    overflow: auto;\n",
       "  }\n",
       "  table, th, td {\n",
       "    border: 1px solid black;\n",
       "    border-collapse: collapse;\n",
       "  }\n",
       "  th, td {\n",
       "    padding: 5px;\n",
       "  }\n",
       "  th {\n",
       "    text-align: left;\n",
       "  }\n",
       "</style><div class='table-result-container'><table class='table-result'><thead style='background-color: white'><tr><th>ID</th><th>NOMBRE</th><th>TELEFONO</th><th>CORREO</th><th>FECHA_INGRESO</th><th>EDAD</th><th>SALARIO</th><th>ID_EMPRESA</th></tr></thead><tbody><tr><td>1</td><td>Carl</td><td>1-745-633-9145</td><td>arcu.Sed.et@ante.co.uk</td><td>2004-04-23</td><td>32</td><td>20095.0</td><td>5</td></tr><tr><td>91</td><td>Erica</td><td>1-320-339-2705</td><td>tristique.senectus@eleifendnondapibus.org</td><td>2015-02-23</td><td>32</td><td>8934.0</td><td>6</td></tr></tbody></table></div>"
      ]
     },
     "metadata": {
      "application/vnd.databricks.v1+output": {
       "addedWidgets": {},
       "aggData": [],
       "aggError": "",
       "aggOverflow": false,
       "aggSchema": [],
       "aggSeriesLimitReached": false,
       "aggType": "",
       "arguments": {},
       "columnCustomDisplayInfos": {},
       "data": [
        [
         "1",
         "Carl",
         "1-745-633-9145",
         "arcu.Sed.et@ante.co.uk",
         "2004-04-23",
         32,
         20095.0,
         "5"
        ],
        [
         "91",
         "Erica",
         "1-320-339-2705",
         "tristique.senectus@eleifendnondapibus.org",
         "2015-02-23",
         32,
         8934.0,
         "6"
        ]
       ],
       "datasetInfos": [],
       "dbfsResultPath": null,
       "isJsonSchema": true,
       "metadata": {},
       "overflow": false,
       "plotOptions": {
        "customPlotOptions": {},
        "displayType": "table",
        "pivotAggregation": null,
        "pivotColumns": null,
        "xColumns": null,
        "yColumns": null
       },
       "removedWidgets": [],
       "schema": [
        {
         "metadata": "{}",
         "name": "ID",
         "type": "\"string\""
        },
        {
         "metadata": "{}",
         "name": "NOMBRE",
         "type": "\"string\""
        },
        {
         "metadata": "{}",
         "name": "TELEFONO",
         "type": "\"string\""
        },
        {
         "metadata": "{}",
         "name": "CORREO",
         "type": "\"string\""
        },
        {
         "metadata": "{}",
         "name": "FECHA_INGRESO",
         "type": "\"string\""
        },
        {
         "metadata": "{}",
         "name": "EDAD",
         "type": "\"integer\""
        },
        {
         "metadata": "{}",
         "name": "SALARIO",
         "type": "\"double\""
        },
        {
         "metadata": "{}",
         "name": "ID_EMPRESA",
         "type": "\"string\""
        }
       ],
       "type": "table"
      }
     },
     "output_type": "display_data"
    }
   ],
   "source": [
    "display(df_with_schema.where(col('EDAD')==32))"
   ]
  },
  {
   "cell_type": "code",
   "execution_count": 0,
   "metadata": {
    "application/vnd.databricks.v1+cell": {
     "cellMetadata": {
      "byteLimit": 2048000,
      "rowLimit": 10000
     },
     "inputWidgets": {},
     "nuid": "b8d5db96-3b3e-46b7-8d98-8bfc1aded418",
     "showTitle": false,
     "tableResultSettingsMap": {},
     "title": ""
    }
   },
   "outputs": [
    {
     "output_type": "display_data",
     "data": {
      "text/html": [
       "<style scoped>\n",
       "  .table-result-container {\n",
       "    max-height: 300px;\n",
       "    overflow: auto;\n",
       "  }\n",
       "  table, th, td {\n",
       "    border: 1px solid black;\n",
       "    border-collapse: collapse;\n",
       "  }\n",
       "  th, td {\n",
       "    padding: 5px;\n",
       "  }\n",
       "  th {\n",
       "    text-align: left;\n",
       "  }\n",
       "</style><div class='table-result-container'><table class='table-result'><thead style='background-color: white'><tr><th>ID</th><th>NOMBRE</th><th>TELEFONO</th><th>CORREO</th><th>FECHA_INGRESO</th><th>EDAD</th><th>SALARIO</th><th>ID_EMPRESA</th></tr></thead><tbody><tr><td>1</td><td>Carl</td><td>1-745-633-9145</td><td>arcu.Sed.et@ante.co.uk</td><td>2004-04-23</td><td>32</td><td>20095.0</td><td>5</td></tr></tbody></table></div>"
      ]
     },
     "metadata": {
      "application/vnd.databricks.v1+output": {
       "addedWidgets": {},
       "aggData": [],
       "aggError": "",
       "aggOverflow": false,
       "aggSchema": [],
       "aggSeriesLimitReached": false,
       "aggType": "",
       "arguments": {},
       "columnCustomDisplayInfos": {},
       "data": [
        [
         "1",
         "Carl",
         "1-745-633-9145",
         "arcu.Sed.et@ante.co.uk",
         "2004-04-23",
         32,
         20095.0,
         "5"
        ]
       ],
       "datasetInfos": [],
       "dbfsResultPath": null,
       "isJsonSchema": true,
       "metadata": {},
       "overflow": false,
       "plotOptions": {
        "customPlotOptions": {},
        "displayType": "table",
        "pivotAggregation": null,
        "pivotColumns": null,
        "xColumns": null,
        "yColumns": null
       },
       "removedWidgets": [],
       "schema": [
        {
         "metadata": "{}",
         "name": "ID",
         "type": "\"string\""
        },
        {
         "metadata": "{}",
         "name": "NOMBRE",
         "type": "\"string\""
        },
        {
         "metadata": "{}",
         "name": "TELEFONO",
         "type": "\"string\""
        },
        {
         "metadata": "{}",
         "name": "CORREO",
         "type": "\"string\""
        },
        {
         "metadata": "{}",
         "name": "FECHA_INGRESO",
         "type": "\"string\""
        },
        {
         "metadata": "{}",
         "name": "EDAD",
         "type": "\"integer\""
        },
        {
         "metadata": "{}",
         "name": "SALARIO",
         "type": "\"double\""
        },
        {
         "metadata": "{}",
         "name": "ID_EMPRESA",
         "type": "\"string\""
        }
       ],
       "type": "table"
      }
     },
     "output_type": "display_data"
    }
   ],
   "source": [
    "display(df_with_schema.where((col('EDAD')==32) & (col('SALARIO')>=10000)))"
   ]
  },
  {
   "cell_type": "code",
   "execution_count": 0,
   "metadata": {
    "application/vnd.databricks.v1+cell": {
     "cellMetadata": {
      "byteLimit": 2048000,
      "rowLimit": 10000
     },
     "inputWidgets": {},
     "nuid": "ff402858-74ff-407f-b36a-b97e89be50bb",
     "showTitle": false,
     "tableResultSettingsMap": {},
     "title": ""
    }
   },
   "outputs": [
    {
     "output_type": "display_data",
     "data": {
      "text/plain": [
       "\u001B[0;31m---------------------------------------------------------------------------\u001B[0m\n",
       "\u001B[0;31mAnalysisException\u001B[0m                         Traceback (most recent call last)\n",
       "File \u001B[0;32m<command-1417292924602747>:2\u001B[0m\n",
       "\u001B[1;32m      1\u001B[0m Categorias \u001B[38;5;241m=\u001B[39m [\u001B[38;5;124m\"\u001B[39m\u001B[38;5;124mBAJO\u001B[39m\u001B[38;5;124m\"\u001B[39m,\u001B[38;5;124m\"\u001B[39m\u001B[38;5;124mMEDIO\u001B[39m\u001B[38;5;124m\"\u001B[39m]\n",
       "\u001B[0;32m----> 2\u001B[0m display(df_with_schema\u001B[38;5;241m.\u001B[39mwhere(col(\u001B[38;5;124m\"\u001B[39m\u001B[38;5;124mCATEGORIA_SALARIO\u001B[39m\u001B[38;5;124m\"\u001B[39m)\u001B[38;5;241m.\u001B[39misin(Categorias)))\n",
       "\n",
       "File \u001B[0;32m/databricks/spark/python/pyspark/instrumentation_utils.py:48\u001B[0m, in \u001B[0;36m_wrap_function.<locals>.wrapper\u001B[0;34m(*args, **kwargs)\u001B[0m\n",
       "\u001B[1;32m     46\u001B[0m start \u001B[38;5;241m=\u001B[39m time\u001B[38;5;241m.\u001B[39mperf_counter()\n",
       "\u001B[1;32m     47\u001B[0m \u001B[38;5;28;01mtry\u001B[39;00m:\n",
       "\u001B[0;32m---> 48\u001B[0m     res \u001B[38;5;241m=\u001B[39m \u001B[43mfunc\u001B[49m\u001B[43m(\u001B[49m\u001B[38;5;241;43m*\u001B[39;49m\u001B[43margs\u001B[49m\u001B[43m,\u001B[49m\u001B[43m \u001B[49m\u001B[38;5;241;43m*\u001B[39;49m\u001B[38;5;241;43m*\u001B[39;49m\u001B[43mkwargs\u001B[49m\u001B[43m)\u001B[49m\n",
       "\u001B[1;32m     49\u001B[0m     logger\u001B[38;5;241m.\u001B[39mlog_success(\n",
       "\u001B[1;32m     50\u001B[0m         module_name, class_name, function_name, time\u001B[38;5;241m.\u001B[39mperf_counter() \u001B[38;5;241m-\u001B[39m start, signature\n",
       "\u001B[1;32m     51\u001B[0m     )\n",
       "\u001B[1;32m     52\u001B[0m     \u001B[38;5;28;01mreturn\u001B[39;00m res\n",
       "\n",
       "File \u001B[0;32m/databricks/spark/python/pyspark/sql/dataframe.py:3125\u001B[0m, in \u001B[0;36mDataFrame.filter\u001B[0;34m(self, condition)\u001B[0m\n",
       "\u001B[1;32m   3123\u001B[0m     jdf \u001B[38;5;241m=\u001B[39m \u001B[38;5;28mself\u001B[39m\u001B[38;5;241m.\u001B[39m_jdf\u001B[38;5;241m.\u001B[39mfilter(condition)\n",
       "\u001B[1;32m   3124\u001B[0m \u001B[38;5;28;01melif\u001B[39;00m \u001B[38;5;28misinstance\u001B[39m(condition, Column):\n",
       "\u001B[0;32m-> 3125\u001B[0m     jdf \u001B[38;5;241m=\u001B[39m \u001B[38;5;28;43mself\u001B[39;49m\u001B[38;5;241;43m.\u001B[39;49m\u001B[43m_jdf\u001B[49m\u001B[38;5;241;43m.\u001B[39;49m\u001B[43mfilter\u001B[49m\u001B[43m(\u001B[49m\u001B[43mcondition\u001B[49m\u001B[38;5;241;43m.\u001B[39;49m\u001B[43m_jc\u001B[49m\u001B[43m)\u001B[49m\n",
       "\u001B[1;32m   3126\u001B[0m \u001B[38;5;28;01melse\u001B[39;00m:\n",
       "\u001B[1;32m   3127\u001B[0m     \u001B[38;5;28;01mraise\u001B[39;00m PySparkTypeError(\n",
       "\u001B[1;32m   3128\u001B[0m         error_class\u001B[38;5;241m=\u001B[39m\u001B[38;5;124m\"\u001B[39m\u001B[38;5;124mNOT_COLUMN_OR_STRING\u001B[39m\u001B[38;5;124m\"\u001B[39m,\n",
       "\u001B[1;32m   3129\u001B[0m         message_parameters\u001B[38;5;241m=\u001B[39m{\u001B[38;5;124m\"\u001B[39m\u001B[38;5;124marg_name\u001B[39m\u001B[38;5;124m\"\u001B[39m: \u001B[38;5;124m\"\u001B[39m\u001B[38;5;124mcondition\u001B[39m\u001B[38;5;124m\"\u001B[39m, \u001B[38;5;124m\"\u001B[39m\u001B[38;5;124marg_type\u001B[39m\u001B[38;5;124m\"\u001B[39m: \u001B[38;5;28mtype\u001B[39m(condition)\u001B[38;5;241m.\u001B[39m\u001B[38;5;18m__name__\u001B[39m},\n",
       "\u001B[1;32m   3130\u001B[0m     )\n",
       "\n",
       "File \u001B[0;32m/databricks/spark/python/lib/py4j-0.10.9.5-src.zip/py4j/java_gateway.py:1321\u001B[0m, in \u001B[0;36mJavaMember.__call__\u001B[0;34m(self, *args)\u001B[0m\n",
       "\u001B[1;32m   1315\u001B[0m command \u001B[38;5;241m=\u001B[39m proto\u001B[38;5;241m.\u001B[39mCALL_COMMAND_NAME \u001B[38;5;241m+\u001B[39m\\\n",
       "\u001B[1;32m   1316\u001B[0m     \u001B[38;5;28mself\u001B[39m\u001B[38;5;241m.\u001B[39mcommand_header \u001B[38;5;241m+\u001B[39m\\\n",
       "\u001B[1;32m   1317\u001B[0m     args_command \u001B[38;5;241m+\u001B[39m\\\n",
       "\u001B[1;32m   1318\u001B[0m     proto\u001B[38;5;241m.\u001B[39mEND_COMMAND_PART\n",
       "\u001B[1;32m   1320\u001B[0m answer \u001B[38;5;241m=\u001B[39m \u001B[38;5;28mself\u001B[39m\u001B[38;5;241m.\u001B[39mgateway_client\u001B[38;5;241m.\u001B[39msend_command(command)\n",
       "\u001B[0;32m-> 1321\u001B[0m return_value \u001B[38;5;241m=\u001B[39m \u001B[43mget_return_value\u001B[49m\u001B[43m(\u001B[49m\n",
       "\u001B[1;32m   1322\u001B[0m \u001B[43m    \u001B[49m\u001B[43manswer\u001B[49m\u001B[43m,\u001B[49m\u001B[43m \u001B[49m\u001B[38;5;28;43mself\u001B[39;49m\u001B[38;5;241;43m.\u001B[39;49m\u001B[43mgateway_client\u001B[49m\u001B[43m,\u001B[49m\u001B[43m \u001B[49m\u001B[38;5;28;43mself\u001B[39;49m\u001B[38;5;241;43m.\u001B[39;49m\u001B[43mtarget_id\u001B[49m\u001B[43m,\u001B[49m\u001B[43m \u001B[49m\u001B[38;5;28;43mself\u001B[39;49m\u001B[38;5;241;43m.\u001B[39;49m\u001B[43mname\u001B[49m\u001B[43m)\u001B[49m\n",
       "\u001B[1;32m   1324\u001B[0m \u001B[38;5;28;01mfor\u001B[39;00m temp_arg \u001B[38;5;129;01min\u001B[39;00m temp_args:\n",
       "\u001B[1;32m   1325\u001B[0m     temp_arg\u001B[38;5;241m.\u001B[39m_detach()\n",
       "\n",
       "File \u001B[0;32m/databricks/spark/python/pyspark/errors/exceptions.py:234\u001B[0m, in \u001B[0;36mcapture_sql_exception.<locals>.deco\u001B[0;34m(*a, **kw)\u001B[0m\n",
       "\u001B[1;32m    230\u001B[0m converted \u001B[38;5;241m=\u001B[39m convert_exception(e\u001B[38;5;241m.\u001B[39mjava_exception)\n",
       "\u001B[1;32m    231\u001B[0m \u001B[38;5;28;01mif\u001B[39;00m \u001B[38;5;129;01mnot\u001B[39;00m \u001B[38;5;28misinstance\u001B[39m(converted, UnknownException):\n",
       "\u001B[1;32m    232\u001B[0m     \u001B[38;5;66;03m# Hide where the exception came from that shows a non-Pythonic\u001B[39;00m\n",
       "\u001B[1;32m    233\u001B[0m     \u001B[38;5;66;03m# JVM exception message.\u001B[39;00m\n",
       "\u001B[0;32m--> 234\u001B[0m     \u001B[38;5;28;01mraise\u001B[39;00m converted \u001B[38;5;28;01mfrom\u001B[39;00m \u001B[38;5;28mNone\u001B[39m\n",
       "\u001B[1;32m    235\u001B[0m \u001B[38;5;28;01melse\u001B[39;00m:\n",
       "\u001B[1;32m    236\u001B[0m     \u001B[38;5;28;01mraise\u001B[39;00m\n",
       "\n",
       "\u001B[0;31mAnalysisException\u001B[0m: [UNRESOLVED_COLUMN.WITH_SUGGESTION] A column or function parameter with name `CATEGORIA_SALARIO` cannot be resolved. Did you mean one of the following? [`SALARIO`, `CORREO`, `FECHA_INGRESO`, `ID_EMPRESA`, `TELEFONO`].;\n",
       "'Filter 'CATEGORIA_SALARIO IN (BAJO,MEDIO)\n",
       "+- Relation [ID#348,NOMBRE#349,TELEFONO#350,CORREO#351,FECHA_INGRESO#352,EDAD#353,SALARIO#354,ID_EMPRESA#355] csv\n"
      ]
     },
     "metadata": {
      "application/vnd.databricks.v1+output": {
       "arguments": {},
       "data": "\u001B[0;31m---------------------------------------------------------------------------\u001B[0m\n\u001B[0;31mAnalysisException\u001B[0m                         Traceback (most recent call last)\nFile \u001B[0;32m<command-1417292924602747>:2\u001B[0m\n\u001B[1;32m      1\u001B[0m Categorias \u001B[38;5;241m=\u001B[39m [\u001B[38;5;124m\"\u001B[39m\u001B[38;5;124mBAJO\u001B[39m\u001B[38;5;124m\"\u001B[39m,\u001B[38;5;124m\"\u001B[39m\u001B[38;5;124mMEDIO\u001B[39m\u001B[38;5;124m\"\u001B[39m]\n\u001B[0;32m----> 2\u001B[0m display(df_with_schema\u001B[38;5;241m.\u001B[39mwhere(col(\u001B[38;5;124m\"\u001B[39m\u001B[38;5;124mCATEGORIA_SALARIO\u001B[39m\u001B[38;5;124m\"\u001B[39m)\u001B[38;5;241m.\u001B[39misin(Categorias)))\n\nFile \u001B[0;32m/databricks/spark/python/pyspark/instrumentation_utils.py:48\u001B[0m, in \u001B[0;36m_wrap_function.<locals>.wrapper\u001B[0;34m(*args, **kwargs)\u001B[0m\n\u001B[1;32m     46\u001B[0m start \u001B[38;5;241m=\u001B[39m time\u001B[38;5;241m.\u001B[39mperf_counter()\n\u001B[1;32m     47\u001B[0m \u001B[38;5;28;01mtry\u001B[39;00m:\n\u001B[0;32m---> 48\u001B[0m     res \u001B[38;5;241m=\u001B[39m \u001B[43mfunc\u001B[49m\u001B[43m(\u001B[49m\u001B[38;5;241;43m*\u001B[39;49m\u001B[43margs\u001B[49m\u001B[43m,\u001B[49m\u001B[43m \u001B[49m\u001B[38;5;241;43m*\u001B[39;49m\u001B[38;5;241;43m*\u001B[39;49m\u001B[43mkwargs\u001B[49m\u001B[43m)\u001B[49m\n\u001B[1;32m     49\u001B[0m     logger\u001B[38;5;241m.\u001B[39mlog_success(\n\u001B[1;32m     50\u001B[0m         module_name, class_name, function_name, time\u001B[38;5;241m.\u001B[39mperf_counter() \u001B[38;5;241m-\u001B[39m start, signature\n\u001B[1;32m     51\u001B[0m     )\n\u001B[1;32m     52\u001B[0m     \u001B[38;5;28;01mreturn\u001B[39;00m res\n\nFile \u001B[0;32m/databricks/spark/python/pyspark/sql/dataframe.py:3125\u001B[0m, in \u001B[0;36mDataFrame.filter\u001B[0;34m(self, condition)\u001B[0m\n\u001B[1;32m   3123\u001B[0m     jdf \u001B[38;5;241m=\u001B[39m \u001B[38;5;28mself\u001B[39m\u001B[38;5;241m.\u001B[39m_jdf\u001B[38;5;241m.\u001B[39mfilter(condition)\n\u001B[1;32m   3124\u001B[0m \u001B[38;5;28;01melif\u001B[39;00m \u001B[38;5;28misinstance\u001B[39m(condition, Column):\n\u001B[0;32m-> 3125\u001B[0m     jdf \u001B[38;5;241m=\u001B[39m \u001B[38;5;28;43mself\u001B[39;49m\u001B[38;5;241;43m.\u001B[39;49m\u001B[43m_jdf\u001B[49m\u001B[38;5;241;43m.\u001B[39;49m\u001B[43mfilter\u001B[49m\u001B[43m(\u001B[49m\u001B[43mcondition\u001B[49m\u001B[38;5;241;43m.\u001B[39;49m\u001B[43m_jc\u001B[49m\u001B[43m)\u001B[49m\n\u001B[1;32m   3126\u001B[0m \u001B[38;5;28;01melse\u001B[39;00m:\n\u001B[1;32m   3127\u001B[0m     \u001B[38;5;28;01mraise\u001B[39;00m PySparkTypeError(\n\u001B[1;32m   3128\u001B[0m         error_class\u001B[38;5;241m=\u001B[39m\u001B[38;5;124m\"\u001B[39m\u001B[38;5;124mNOT_COLUMN_OR_STRING\u001B[39m\u001B[38;5;124m\"\u001B[39m,\n\u001B[1;32m   3129\u001B[0m         message_parameters\u001B[38;5;241m=\u001B[39m{\u001B[38;5;124m\"\u001B[39m\u001B[38;5;124marg_name\u001B[39m\u001B[38;5;124m\"\u001B[39m: \u001B[38;5;124m\"\u001B[39m\u001B[38;5;124mcondition\u001B[39m\u001B[38;5;124m\"\u001B[39m, \u001B[38;5;124m\"\u001B[39m\u001B[38;5;124marg_type\u001B[39m\u001B[38;5;124m\"\u001B[39m: \u001B[38;5;28mtype\u001B[39m(condition)\u001B[38;5;241m.\u001B[39m\u001B[38;5;18m__name__\u001B[39m},\n\u001B[1;32m   3130\u001B[0m     )\n\nFile \u001B[0;32m/databricks/spark/python/lib/py4j-0.10.9.5-src.zip/py4j/java_gateway.py:1321\u001B[0m, in \u001B[0;36mJavaMember.__call__\u001B[0;34m(self, *args)\u001B[0m\n\u001B[1;32m   1315\u001B[0m command \u001B[38;5;241m=\u001B[39m proto\u001B[38;5;241m.\u001B[39mCALL_COMMAND_NAME \u001B[38;5;241m+\u001B[39m\\\n\u001B[1;32m   1316\u001B[0m     \u001B[38;5;28mself\u001B[39m\u001B[38;5;241m.\u001B[39mcommand_header \u001B[38;5;241m+\u001B[39m\\\n\u001B[1;32m   1317\u001B[0m     args_command \u001B[38;5;241m+\u001B[39m\\\n\u001B[1;32m   1318\u001B[0m     proto\u001B[38;5;241m.\u001B[39mEND_COMMAND_PART\n\u001B[1;32m   1320\u001B[0m answer \u001B[38;5;241m=\u001B[39m \u001B[38;5;28mself\u001B[39m\u001B[38;5;241m.\u001B[39mgateway_client\u001B[38;5;241m.\u001B[39msend_command(command)\n\u001B[0;32m-> 1321\u001B[0m return_value \u001B[38;5;241m=\u001B[39m \u001B[43mget_return_value\u001B[49m\u001B[43m(\u001B[49m\n\u001B[1;32m   1322\u001B[0m \u001B[43m    \u001B[49m\u001B[43manswer\u001B[49m\u001B[43m,\u001B[49m\u001B[43m \u001B[49m\u001B[38;5;28;43mself\u001B[39;49m\u001B[38;5;241;43m.\u001B[39;49m\u001B[43mgateway_client\u001B[49m\u001B[43m,\u001B[49m\u001B[43m \u001B[49m\u001B[38;5;28;43mself\u001B[39;49m\u001B[38;5;241;43m.\u001B[39;49m\u001B[43mtarget_id\u001B[49m\u001B[43m,\u001B[49m\u001B[43m \u001B[49m\u001B[38;5;28;43mself\u001B[39;49m\u001B[38;5;241;43m.\u001B[39;49m\u001B[43mname\u001B[49m\u001B[43m)\u001B[49m\n\u001B[1;32m   1324\u001B[0m \u001B[38;5;28;01mfor\u001B[39;00m temp_arg \u001B[38;5;129;01min\u001B[39;00m temp_args:\n\u001B[1;32m   1325\u001B[0m     temp_arg\u001B[38;5;241m.\u001B[39m_detach()\n\nFile \u001B[0;32m/databricks/spark/python/pyspark/errors/exceptions.py:234\u001B[0m, in \u001B[0;36mcapture_sql_exception.<locals>.deco\u001B[0;34m(*a, **kw)\u001B[0m\n\u001B[1;32m    230\u001B[0m converted \u001B[38;5;241m=\u001B[39m convert_exception(e\u001B[38;5;241m.\u001B[39mjava_exception)\n\u001B[1;32m    231\u001B[0m \u001B[38;5;28;01mif\u001B[39;00m \u001B[38;5;129;01mnot\u001B[39;00m \u001B[38;5;28misinstance\u001B[39m(converted, UnknownException):\n\u001B[1;32m    232\u001B[0m     \u001B[38;5;66;03m# Hide where the exception came from that shows a non-Pythonic\u001B[39;00m\n\u001B[1;32m    233\u001B[0m     \u001B[38;5;66;03m# JVM exception message.\u001B[39;00m\n\u001B[0;32m--> 234\u001B[0m     \u001B[38;5;28;01mraise\u001B[39;00m converted \u001B[38;5;28;01mfrom\u001B[39;00m \u001B[38;5;28mNone\u001B[39m\n\u001B[1;32m    235\u001B[0m \u001B[38;5;28;01melse\u001B[39;00m:\n\u001B[1;32m    236\u001B[0m     \u001B[38;5;28;01mraise\u001B[39;00m\n\n\u001B[0;31mAnalysisException\u001B[0m: [UNRESOLVED_COLUMN.WITH_SUGGESTION] A column or function parameter with name `CATEGORIA_SALARIO` cannot be resolved. Did you mean one of the following? [`SALARIO`, `CORREO`, `FECHA_INGRESO`, `ID_EMPRESA`, `TELEFONO`].;\n'Filter 'CATEGORIA_SALARIO IN (BAJO,MEDIO)\n+- Relation [ID#348,NOMBRE#349,TELEFONO#350,CORREO#351,FECHA_INGRESO#352,EDAD#353,SALARIO#354,ID_EMPRESA#355] csv\n",
       "errorSummary": "<span class='ansi-red-fg'>AnalysisException</span>: [UNRESOLVED_COLUMN.WITH_SUGGESTION] A column or function parameter with name `CATEGORIA_SALARIO` cannot be resolved. Did you mean one of the following? [`SALARIO`, `CORREO`, `FECHA_INGRESO`, `ID_EMPRESA`, `TELEFONO`].;\n'Filter 'CATEGORIA_SALARIO IN (BAJO,MEDIO)\n+- Relation [ID#348,NOMBRE#349,TELEFONO#350,CORREO#351,FECHA_INGRESO#352,EDAD#353,SALARIO#354,ID_EMPRESA#355] csv\n",
       "errorTraceType": "ansi",
       "metadata": {},
       "type": "ipynbError"
      }
     },
     "output_type": "display_data"
    }
   ],
   "source": [
    "Categorias = [\"BAJO\",\"MEDIO\"]\n",
    "display(df_with_schema.where(col(\"CATEGORIA_SALARIO\").isin(Categorias)))"
   ]
  },
  {
   "cell_type": "code",
   "execution_count": 0,
   "metadata": {
    "application/vnd.databricks.v1+cell": {
     "cellMetadata": {},
     "inputWidgets": {},
     "nuid": "bc7f4465-4740-428f-bbd4-8b8141449275",
     "showTitle": false,
     "tableResultSettingsMap": {},
     "title": ""
    }
   },
   "outputs": [],
   "source": []
  }
 ],
 "metadata": {
  "application/vnd.databricks.v1+notebook": {
   "computePreferences": null,
   "dashboards": [],
   "environmentMetadata": {
    "base_environment": "",
    "environment_version": "1"
   },
   "inputWidgetPreferences": null,
   "language": "python",
   "notebookMetadata": {
    "pythonIndentUnit": 4
   },
   "notebookName": "Spark01 2025-03-10 09:17:44",
   "widgets": {}
  }
 },
 "nbformat": 4,
 "nbformat_minor": 0
}