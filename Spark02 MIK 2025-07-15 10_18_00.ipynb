{
 "cells": [
  {
   "cell_type": "code",
   "execution_count": 0,
   "metadata": {
    "application/vnd.databricks.v1+cell": {
     "cellMetadata": {
      "byteLimit": 2048000,
      "rowLimit": 10000
     },
     "inputWidgets": {},
     "nuid": "3331fd72-f827-4df1-a452-285676bbd152",
     "showTitle": false,
     "tableResultSettingsMap": {},
     "title": ""
    }
   },
   "outputs": [
    {
     "output_type": "stream",
     "name": "stdout",
     "output_type": "stream",
     "text": [
      "map(func): [2, 4, 6, 8, 10]\n"
     ]
    }
   ],
   "source": [
    "# Crea un RDD de ejemplo\n",
    "data = [1, 2, 3, 4, 5]\n",
    "rdd = spark.sparkContext.parallelize(data)\n",
    "# Transformación map(func)\n",
    "mapped_rdd = rdd.map(lambda x: x * 2)\n",
    "print(\"map(func):\", mapped_rdd.collect())b"
   ]
  },
  {
   "cell_type": "code",
   "execution_count": 0,
   "metadata": {
    "application/vnd.databricks.v1+cell": {
     "cellMetadata": {
      "byteLimit": 2048000,
      "rowLimit": 10000
     },
     "inputWidgets": {},
     "nuid": "06933844-bc04-46a3-af39-e172414da8ef",
     "showTitle": false,
     "tableResultSettingsMap": {},
     "title": ""
    }
   },
   "outputs": [
    {
     "output_type": "stream",
     "name": "stdout",
     "output_type": "stream",
     "text": [
      "filter(func): [2, 4]\n"
     ]
    }
   ],
   "source": [
    "# Transformación filter(func)\n",
    "filtered_rdd = rdd.filter(lambda x: x % 2 == 0)\n",
    "print(\"filter(func):\", filtered_rdd.collect())"
   ]
  },
  {
   "cell_type": "code",
   "execution_count": 0,
   "metadata": {
    "application/vnd.databricks.v1+cell": {
     "cellMetadata": {
      "byteLimit": 2048000,
      "rowLimit": 10000
     },
     "inputWidgets": {},
     "nuid": "40e31986-8ab3-449e-8059-3491a09ee8d3",
     "showTitle": false,
     "tableResultSettingsMap": {},
     "title": ""
    }
   },
   "outputs": [
    {
     "output_type": "stream",
     "name": "stdout",
     "output_type": "stream",
     "text": [
      "PythonRDD[3] at RDD at PythonRDD.scala:58\n"
     ]
    }
   ],
   "source": [
    "# Crear un RDD de pares clave-valor para las transformaciones restantes\n",
    "key_value_rdd = rdd.map(lambda x: (x, x))\n",
    "print(key_value_rdd)"
   ]
  },
  {
   "cell_type": "code",
   "execution_count": 0,
   "metadata": {
    "application/vnd.databricks.v1+cell": {
     "cellMetadata": {
      "byteLimit": 2048000,
      "rowLimit": 10000
     },
     "inputWidgets": {},
     "nuid": "e11bf87f-75cb-411d-96d7-950981e58831",
     "showTitle": false,
     "tableResultSettingsMap": {},
     "title": ""
    }
   },
   "outputs": [
    {
     "output_type": "stream",
     "name": "stdout",
     "output_type": "stream",
     "text": [
      "groupByKey(): [(1, [1]), (2, [2]), (3, [3]), (4, [4]), (5, [5])]\n"
     ]
    }
   ],
   "source": [
    "# Transformación groupByKey()\n",
    "grouped_rdd = key_value_rdd.groupByKey()\n",
    "print(\"groupByKey():\", grouped_rdd.mapValues(list).collect())"
   ]
  },
  {
   "cell_type": "code",
   "execution_count": 0,
   "metadata": {
    "application/vnd.databricks.v1+cell": {
     "cellMetadata": {
      "byteLimit": 2048000,
      "rowLimit": 10000
     },
     "inputWidgets": {},
     "nuid": "cfec9917-f4df-4b02-ba25-d6b64167e1f8",
     "showTitle": false,
     "tableResultSettingsMap": {},
     "title": ""
    }
   },
   "outputs": [
    {
     "output_type": "stream",
     "name": "stdout",
     "output_type": "stream",
     "text": [
      "reduceByKey(func): [(1, 1), (2, 2), (3, 3), (4, 4), (5, 5)]\n"
     ]
    }
   ],
   "source": [
    "# Transformación reduceByKey(func)\n",
    "reduced_rdd = key_value_rdd.reduceByKey(lambda x, y: x + y)\n",
    "print(\"reduceByKey(func):\", reduced_rdd.collect())"
   ]
  },
  {
   "cell_type": "code",
   "execution_count": 0,
   "metadata": {
    "application/vnd.databricks.v1+cell": {
     "cellMetadata": {
      "byteLimit": 2048000,
      "rowLimit": 10000
     },
     "inputWidgets": {},
     "nuid": "dafc27d7-72f9-48f4-b98f-1b2436c14701",
     "showTitle": false,
     "tableResultSettingsMap": {},
     "title": ""
    }
   },
   "outputs": [
    {
     "output_type": "stream",
     "name": "stdout",
     "output_type": "stream",
     "text": [
      "sortByKey(): [(5, 5), (4, 4), (3, 3), (2, 2), (1, 1)]\n"
     ]
    }
   ],
   "source": [
    "# Transformación sortByKey()\n",
    "sorted_rdd = key_value_rdd.sortByKey(ascending=False)\n",
    "print(\"sortByKey():\", sorted_rdd.collect())"
   ]
  },
  {
   "cell_type": "code",
   "execution_count": 0,
   "metadata": {
    "application/vnd.databricks.v1+cell": {
     "cellMetadata": {
      "byteLimit": 2048000,
      "rowLimit": 10000
     },
     "inputWidgets": {},
     "nuid": "d066c7c1-88b6-4ede-b521-f3140a974a1c",
     "showTitle": false,
     "tableResultSettingsMap": {},
     "title": ""
    }
   },
   "outputs": [
    {
     "output_type": "stream",
     "name": "stdout",
     "output_type": "stream",
     "text": [
      "join(otherDataset): [(1, (1, 'A')), (2, (2, 'B'))]\n"
     ]
    }
   ],
   "source": [
    "# Transformación join(otherDataset)\n",
    "other_rdd = spark.sparkContext.parallelize([(1, 'A'), (2, 'B')])\n",
    "joined_rdd = key_value_rdd.join(other_rdd)\n",
    "print(\"join(otherDataset):\", joined_rdd.collect())"
   ]
  },
  {
   "cell_type": "code",
   "execution_count": 0,
   "metadata": {
    "application/vnd.databricks.v1+cell": {
     "cellMetadata": {
      "byteLimit": 2048000,
      "rowLimit": 10000
     },
     "inputWidgets": {},
     "nuid": "26beeb11-70dc-4df9-8df0-e23885c4c6fb",
     "showTitle": false,
     "tableResultSettingsMap": {},
     "title": ""
    }
   },
   "outputs": [
    {
     "output_type": "stream",
     "name": "stdout",
     "output_type": "stream",
     "text": [
      "union(otherDataset): [1, 2, 3, 4, 5, 6, 7, 8]\n"
     ]
    }
   ],
   "source": [
    "# Transformación union(otherDataset)\n",
    "other_data = [6, 7, 8]\n",
    "other_rdd = spark.sparkContext.parallelize(other_data)\n",
    "unioned_rdd = rdd.union(other_rdd)\n",
    "print(\"union(otherDataset):\", unioned_rdd.collect())"
   ]
  },
  {
   "cell_type": "code",
   "execution_count": 0,
   "metadata": {
    "application/vnd.databricks.v1+cell": {
     "cellMetadata": {
      "byteLimit": 2048000,
      "rowLimit": 10000
     },
     "inputWidgets": {},
     "nuid": "65238298-cb12-40d5-870a-f83769777ec7",
     "showTitle": false,
     "tableResultSettingsMap": {},
     "title": ""
    }
   },
   "outputs": [
    {
     "output_type": "stream",
     "name": "stdout",
     "output_type": "stream",
     "text": [
      "distinct(): [1, 2, 3, 4, 5]\n"
     ]
    }
   ],
   "source": [
    "# Transformación distinct()\n",
    "duplicated_data = [1, 2, 2, 3, 3, 4, 5, 5]\n",
    "duplicated_rdd = spark.sparkContext.parallelize(duplicated_data)\n",
    "distinct_rdd = duplicated_rdd.distinct()\n",
    "print(\"distinct():\", distinct_rdd.collect())"
   ]
  },
  {
   "cell_type": "code",
   "execution_count": 0,
   "metadata": {
    "application/vnd.databricks.v1+cell": {
     "cellMetadata": {
      "byteLimit": 2048000,
      "rowLimit": 10000
     },
     "inputWidgets": {},
     "nuid": "7545d1b9-12d9-4fbc-9a73-ff5c803018d8",
     "showTitle": false,
     "tableResultSettingsMap": {},
     "title": ""
    }
   },
   "outputs": [
    {
     "output_type": "display_data",
     "data": {
      "application/vnd.databricks.v1+bamboolib_hint": "{\"pd.DataFrames\": [], \"version\": \"0.0.1\"}",
      "text/plain": []
     },
     "metadata": {},
     "output_type": "display_data"
    }
   ],
   "source": [
    "from pyspark.sql import SparkSession\n",
    "import requests\n",
    "import pandas as pd\n",
    "import io\n",
    "import warnings\n",
    "warnings.filterwarnings(\"ignore\")"
   ]
  },
  {
   "cell_type": "code",
   "execution_count": 0,
   "metadata": {
    "application/vnd.databricks.v1+cell": {
     "cellMetadata": {
      "byteLimit": 2048000,
      "rowLimit": 10000
     },
     "inputWidgets": {},
     "nuid": "21db91b4-6017-4b35-a760-e85a4e1746f8",
     "showTitle": false,
     "tableResultSettingsMap": {},
     "title": ""
    }
   },
   "outputs": [
    {
     "output_type": "display_data",
     "data": {
      "text/html": [
       "\n",
       "            <div>\n",
       "                <p><b>SparkSession - hive</b></p>\n",
       "                \n",
       "        <div>\n",
       "            <p><b>SparkContext</b></p>\n",
       "\n",
       "            <p><a href=\"/?o=4318321526858260#setting/sparkui/0715-141601-whotxo63/driver-4690251852282807827\">Spark UI</a></p>\n",
       "\n",
       "            <dl>\n",
       "              <dt>Version</dt>\n",
       "                <dd><code>v3.3.2</code></dd>\n",
       "              <dt>Master</dt>\n",
       "                <dd><code>local[8]</code></dd>\n",
       "              <dt>AppName</dt>\n",
       "                <dd><code>Databricks Shell</code></dd>\n",
       "            </dl>\n",
       "        </div>\n",
       "        \n",
       "            </div>\n",
       "        "
      ]
     },
     "metadata": {
      "application/vnd.databricks.v1+output": {
       "addedWidgets": {},
       "arguments": {},
       "data": "\n            <div>\n                <p><b>SparkSession - hive</b></p>\n                \n        <div>\n            <p><b>SparkContext</b></p>\n\n            <p><a href=\"/?o=4318321526858260#setting/sparkui/0715-141601-whotxo63/driver-4690251852282807827\">Spark UI</a></p>\n\n            <dl>\n              <dt>Version</dt>\n                <dd><code>v3.3.2</code></dd>\n              <dt>Master</dt>\n                <dd><code>local[8]</code></dd>\n              <dt>AppName</dt>\n                <dd><code>Databricks Shell</code></dd>\n            </dl>\n        </div>\n        \n            </div>\n        ",
       "datasetInfos": [],
       "metadata": {},
       "removedWidgets": [],
       "textData": null,
       "type": "htmlSandbox"
      }
     },
     "output_type": "display_data"
    }
   ],
   "source": [
    "# Creating spar session object\n",
    "spark = SparkSession.builder.appName('manipulacion_data').getOrCreate()\n",
    "spark"
   ]
  },
  {
   "cell_type": "code",
   "execution_count": 0,
   "metadata": {
    "application/vnd.databricks.v1+cell": {
     "cellMetadata": {
      "byteLimit": 2048000,
      "rowLimit": 10000
     },
     "inputWidgets": {},
     "nuid": "67983311-8309-4ab5-ba70-eaded43b99cf",
     "showTitle": false,
     "tableResultSettingsMap": {},
     "title": ""
    }
   },
   "outputs": [
    {
     "output_type": "stream",
     "name": "stdout",
     "output_type": "stream",
     "text": [
      "+-----------+-------+-------------+-------------+-------+----+------------------------+---+-------+\n|Pregnancies|Glucose|BloodPressure|SkinThickness|Insulin| BMI|DiabetesPedigreeFunction|Age|Outcome|\n+-----------+-------+-------------+-------------+-------+----+------------------------+---+-------+\n|          6|    148|           72|           35|      0|33.6|                   0.627| 50|      1|\n|          1|     85|           66|           29|      0|26.6|                   0.351| 31|      0|\n|          8|    183|           64|            0|      0|23.3|                   0.672| 32|      1|\n|          1|     89|           66|           23|     94|28.1|                   0.167| 21|      0|\n|          0|    137|           40|           35|    168|43.1|                   2.288| 33|      1|\n|          5|    116|           74|            0|      0|25.6|                   0.201| 30|      0|\n|          3|     78|           50|           32|     88|31.0|                   0.248| 26|      1|\n|         10|    115|            0|            0|      0|35.3|                   0.134| 29|      0|\n|          2|    197|           70|           45|    543|30.5|                   0.158| 53|      1|\n|          8|    125|           96|            0|      0| 0.0|                   0.232| 54|      1|\n|          4|    110|           92|            0|      0|37.6|                   0.191| 30|      0|\n|         10|    168|           74|            0|      0|38.0|                   0.537| 34|      1|\n|         10|    139|           80|            0|      0|27.1|                   1.441| 57|      0|\n|          1|    189|           60|           23|    846|30.1|                   0.398| 59|      1|\n|          5|    166|           72|           19|    175|25.8|                   0.587| 51|      1|\n|          7|    100|            0|            0|      0|30.0|                   0.484| 32|      1|\n|          0|    118|           84|           47|    230|45.8|                   0.551| 31|      1|\n|          7|    107|           74|            0|      0|29.6|                   0.254| 31|      1|\n|          1|    103|           30|           38|     83|43.3|                   0.183| 33|      0|\n|          1|    115|           70|           30|     96|34.6|                   0.529| 32|      1|\n+-----------+-------+-------------+-------------+-------+----+------------------------+---+-------+\nonly showing top 20 rows\n\n"
     ]
    }
   ],
   "source": [
    "df_url = \"https://raw.githubusercontent.com/narencastellon/Mi-Dataset/refs/heads/main/diabetes_data.csv\"\n",
    "# Download the CSV file using requests\n",
    "response = requests.get(df_url)\n",
    "response.raise_for_status()  # Raise an exception for bad responses\n",
    "# Read the CSV data into a Pandas DataFrame\n",
    "diabetes = pd.read_csv(io.StringIO(response.text), sep=',')\n",
    "# Convert the Pandas DataFrame to a Spark DataFrame\n",
    "df = spark.createDataFrame(diabetes)\n",
    "df.show()"
   ]
  },
  {
   "cell_type": "code",
   "execution_count": 0,
   "metadata": {
    "application/vnd.databricks.v1+cell": {
     "cellMetadata": {
      "byteLimit": 2048000,
      "rowLimit": 10000
     },
     "inputWidgets": {},
     "nuid": "4695d161-1e21-486d-b1d5-34f192b198ef",
     "showTitle": false,
     "tableResultSettingsMap": {},
     "title": ""
    }
   },
   "outputs": [
    {
     "output_type": "stream",
     "name": "stdout",
     "output_type": "stream",
     "text": [
      "+-----------+-------+-------------+-------------+-------+----+------------------------+---+-------+\n|Pregnancies|Glucose|BloodPressure|SkinThickness|Insulin| BMI|DiabetesPedigreeFunction|Age|Outcome|\n+-----------+-------+-------------+-------------+-------+----+------------------------+---+-------+\n|          6|    148|           72|           35|      0|33.6|                   0.627| 50|      1|\n|          1|     85|           66|           29|      0|26.6|                   0.351| 31|      0|\n|          8|    183|           64|            0|      0|23.3|                   0.672| 32|      1|\n|          1|     89|           66|           23|     94|28.1|                   0.167| 21|      0|\n|          0|    137|           40|           35|    168|43.1|                   2.288| 33|      1|\n+-----------+-------+-------------+-------------+-------+----+------------------------+---+-------+\nonly showing top 5 rows\n\n"
     ]
    }
   ],
   "source": [
    "df.show(5)"
   ]
  },
  {
   "cell_type": "code",
   "execution_count": 0,
   "metadata": {
    "application/vnd.databricks.v1+cell": {
     "cellMetadata": {
      "byteLimit": 2048000,
      "rowLimit": 10000
     },
     "inputWidgets": {},
     "nuid": "5b6e1f47-eab1-4185-9cef-abebc73289d5",
     "showTitle": false,
     "tableResultSettingsMap": {},
     "title": ""
    }
   },
   "outputs": [
    {
     "output_type": "stream",
     "name": "stdout",
     "output_type": "stream",
     "text": [
      "Out[15]: ['Pregnancies',\n 'Glucose',\n 'BloodPressure',\n 'SkinThickness',\n 'Insulin',\n 'BMI',\n 'DiabetesPedigreeFunction',\n 'Age',\n 'Outcome']"
     ]
    }
   ],
   "source": [
    "df.columns"
   ]
  },
  {
   "cell_type": "code",
   "execution_count": 0,
   "metadata": {
    "application/vnd.databricks.v1+cell": {
     "cellMetadata": {
      "byteLimit": 2048000,
      "rowLimit": 10000
     },
     "inputWidgets": {},
     "nuid": "e9f914d5-1c7a-4b87-a3ee-e1a465d8f352",
     "showTitle": false,
     "tableResultSettingsMap": {},
     "title": ""
    }
   },
   "outputs": [
    {
     "output_type": "stream",
     "name": "stdout",
     "output_type": "stream",
     "text": [
      "768 9\n"
     ]
    }
   ],
   "source": [
    "print(df.count(), len(df.columns))"
   ]
  },
  {
   "cell_type": "code",
   "execution_count": 0,
   "metadata": {
    "application/vnd.databricks.v1+cell": {
     "cellMetadata": {
      "byteLimit": 2048000,
      "rowLimit": 10000
     },
     "inputWidgets": {},
     "nuid": "4d8947db-35d6-4e57-9cdd-83c47dda22ec",
     "showTitle": false,
     "tableResultSettingsMap": {},
     "title": ""
    }
   },
   "outputs": [
    {
     "output_type": "stream",
     "name": "stdout",
     "output_type": "stream",
     "text": [
      "root\n |-- Pregnancies: long (nullable = true)\n |-- Glucose: long (nullable = true)\n |-- BloodPressure: long (nullable = true)\n |-- SkinThickness: long (nullable = true)\n |-- Insulin: long (nullable = true)\n |-- BMI: double (nullable = true)\n |-- DiabetesPedigreeFunction: double (nullable = true)\n |-- Age: long (nullable = true)\n |-- Outcome: long (nullable = true)\n\n"
     ]
    }
   ],
   "source": [
    "df.printSchema()"
   ]
  },
  {
   "cell_type": "code",
   "execution_count": 0,
   "metadata": {
    "application/vnd.databricks.v1+cell": {
     "cellMetadata": {
      "byteLimit": 2048000,
      "rowLimit": 10000
     },
     "inputWidgets": {},
     "nuid": "f8f897e1-1a9c-45ba-89c0-48023c13a019",
     "showTitle": false,
     "tableResultSettingsMap": {},
     "title": ""
    }
   },
   "outputs": [
    {
     "output_type": "stream",
     "name": "stdout",
     "output_type": "stream",
     "text": [
      "+-------+-----------+-------+-------------+-------------+-------+-----+------------------------+-----+-------+\n|summary|Pregnancies|Glucose|BloodPressure|SkinThickness|Insulin|  BMI|DiabetesPedigreeFunction|  Age|Outcome|\n+-------+-----------+-------+-------------+-------------+-------+-----+------------------------+-----+-------+\n|  count|        768|    768|          768|          768|    768|  768|                     768|  768|    768|\n|   mean|      3....|  12...|        69...|        20...|  79...|31...|                   0....|33...|  0....|\n|  st...|      3....|  31...|        19...|        15...|  11...|7....|                   0....|11...|  0....|\n|    min|          0|      0|            0|            0|      0|  0.0|                   0.078|   21|      0|\n|    max|         17|    199|          122|           99|    846| 67.1|                    2.42|   81|      1|\n+-------+-----------+-------+-------------+-------------+-------+-----+------------------------+-----+-------+\n\n"
     ]
    }
   ],
   "source": [
    "df.describe().show(truncate=5)"
   ]
  },
  {
   "cell_type": "code",
   "execution_count": 0,
   "metadata": {
    "application/vnd.databricks.v1+cell": {
     "cellMetadata": {
      "byteLimit": 2048000,
      "rowLimit": 10000
     },
     "inputWidgets": {},
     "nuid": "4d44bb4f-b607-4f93-bab7-52e420da480a",
     "showTitle": false,
     "tableResultSettingsMap": {},
     "title": ""
    }
   },
   "outputs": [
    {
     "output_type": "stream",
     "name": "stdout",
     "output_type": "stream",
     "text": [
      "+-----------+---+\n|Pregnancies|Age|\n+-----------+---+\n|          6| 50|\n|          1| 31|\n|          8| 32|\n|          1| 21|\n|          0| 33|\n+-----------+---+\nonly showing top 5 rows\n\n"
     ]
    }
   ],
   "source": [
    "df.select('Pregnancies', 'Age').show(5)"
   ]
  },
  {
   "cell_type": "code",
   "execution_count": 0,
   "metadata": {
    "application/vnd.databricks.v1+cell": {
     "cellMetadata": {
      "byteLimit": 2048000,
      "rowLimit": 10000
     },
     "inputWidgets": {},
     "nuid": "428ffbe8-097c-427a-afb5-ee1d81d5ab6e",
     "showTitle": false,
     "tableResultSettingsMap": {},
     "title": ""
    }
   },
   "outputs": [
    {
     "output_type": "stream",
     "name": "stdout",
     "output_type": "stream",
     "text": [
      "+-----------+---+\n|Pregnancies|Age|\n+-----------+---+\n|          6| 50|\n|          1| 31|\n|          8| 32|\n|          1| 21|\n|          0| 33|\n+-----------+---+\nonly showing top 5 rows\n\n"
     ]
    }
   ],
   "source": [
    "import pyspark.sql.functions as F\n",
    "df.select(F.col('Pregnancies'), F.col('Age')).show(5)"
   ]
  },
  {
   "cell_type": "code",
   "execution_count": 0,
   "metadata": {
    "application/vnd.databricks.v1+cell": {
     "cellMetadata": {
      "byteLimit": 2048000,
      "rowLimit": 10000
     },
     "inputWidgets": {},
     "nuid": "1c5c2541-ed78-40a9-90a0-5d830d7d55d0",
     "showTitle": false,
     "tableResultSettingsMap": {},
     "title": ""
    }
   },
   "outputs": [
    {
     "output_type": "stream",
     "name": "stdout",
     "output_type": "stream",
     "text": [
      "+-----------+-------+-------------+-------------+-------+----+------------------------+---+-------+\n|Pregnancies|Glucose|BloodPressure|SkinThickness|Insulin| BMI|DiabetesPedigreeFunction|Age|Outcome|\n+-----------+-------+-------------+-------------+-------+----+------------------------+---+-------+\n|          1|     85|           66|           29|      0|26.6|                   0.351| 31|      0|\n|          8|    183|           64|            0|      0|23.3|                   0.672| 32|      1|\n|          1|     89|           66|           23|     94|28.1|                   0.167| 21|      0|\n|          0|    137|           40|           35|    168|43.1|                   2.288| 33|      1|\n|          5|    116|           74|            0|      0|25.6|                   0.201| 30|      0|\n+-----------+-------+-------------+-------------+-------+----+------------------------+---+-------+\nonly showing top 5 rows\n\n"
     ]
    }
   ],
   "source": [
    "df.filter(df['Age']<40).show(5)"
   ]
  },
  {
   "cell_type": "code",
   "execution_count": 0,
   "metadata": {
    "application/vnd.databricks.v1+cell": {
     "cellMetadata": {
      "byteLimit": 2048000,
      "rowLimit": 10000
     },
     "inputWidgets": {},
     "nuid": "3335e0e5-3831-4b1d-8ad8-70b7d6f134d5",
     "showTitle": false,
     "tableResultSettingsMap": {},
     "title": ""
    }
   },
   "outputs": [
    {
     "output_type": "stream",
     "name": "stdout",
     "output_type": "stream",
     "text": [
      "+-------+-------+\n|Insulin|Outcome|\n+-------+-------+\n|      0|      0|\n|      0|      1|\n|     94|      0|\n+-------+-------+\nonly showing top 3 rows\n\n"
     ]
    }
   ],
   "source": [
    "df.filter(df['Age']<40).select('Insulin','Outcome').show(3)"
   ]
  },
  {
   "cell_type": "code",
   "execution_count": 0,
   "metadata": {
    "application/vnd.databricks.v1+cell": {
     "cellMetadata": {
      "byteLimit": 2048000,
      "rowLimit": 10000
     },
     "inputWidgets": {},
     "nuid": "32a63db6-db0e-4912-99d4-c9e5e3821e52",
     "showTitle": false,
     "tableResultSettingsMap": {},
     "title": ""
    }
   },
   "outputs": [
    {
     "output_type": "stream",
     "name": "stdout",
     "output_type": "stream",
     "text": [
      "+-----------+-------+-------------+-------------+-------+----+------------------------+---+-------+\n|Pregnancies|Glucose|BloodPressure|SkinThickness|Insulin| BMI|DiabetesPedigreeFunction|Age|Outcome|\n+-----------+-------+-------------+-------------+-------+----+------------------------+---+-------+\n|          4|    146|           92|            0|      0|31.2|                   0.539| 61|      1|\n|          0|    105|           84|            0|      0|27.9|                   0.741| 62|      1|\n|          2|    158|           90|            0|      0|31.6|                   0.805| 66|      1|\n+-----------+-------+-------------+-------------+-------+----+------------------------+---+-------+\nonly showing top 3 rows\n\n"
     ]
    }
   ],
   "source": [
    "df.filter(df['age']>60).filter(df['Outcome']=='1').show(3)"
   ]
  },
  {
   "cell_type": "code",
   "execution_count": 0,
   "metadata": {
    "application/vnd.databricks.v1+cell": {
     "cellMetadata": {
      "byteLimit": 2048000,
      "rowLimit": 10000
     },
     "inputWidgets": {},
     "nuid": "401cdc9b-e314-4c7b-95ed-b470c1c77968",
     "showTitle": false,
     "tableResultSettingsMap": {},
     "title": ""
    }
   },
   "outputs": [
    {
     "output_type": "stream",
     "name": "stdout",
     "output_type": "stream",
     "text": [
      "+-----------+-------+-------------+-------------+-------+----+------------------------+---+-------+\n|Pregnancies|Glucose|BloodPressure|SkinThickness|Insulin| BMI|DiabetesPedigreeFunction|Age|Outcome|\n+-----------+-------+-------------+-------------+-------+----+------------------------+---+-------+\n|         10|    168|           74|            0|      0|38.0|                   0.537| 34|      1|\n|         11|    143|           94|           33|    146|36.6|                   0.254| 51|      1|\n|         10|    125|           70|           26|    115|31.1|                   0.205| 41|      1|\n+-----------+-------+-------------+-------------+-------+----+------------------------+---+-------+\nonly showing top 3 rows\n\n"
     ]
    }
   ],
   "source": [
    "df.filter( (df['Outcome']==1) & (df['Pregnancies']>9)).show(3)"
   ]
  },
  {
   "cell_type": "code",
   "execution_count": 0,
   "metadata": {
    "application/vnd.databricks.v1+cell": {
     "cellMetadata": {
      "byteLimit": 2048000,
      "rowLimit": 10000
     },
     "inputWidgets": {},
     "nuid": "341405b3-6140-4231-8b66-764132d81cde",
     "showTitle": false,
     "tableResultSettingsMap": {},
     "title": ""
    }
   },
   "outputs": [
    {
     "output_type": "stream",
     "name": "stdout",
     "output_type": "stream",
     "text": [
      "Out[31]: 194"
     ]
    }
   ],
   "source": [
    "df.filter(df['age']>40).count()"
   ]
  },
  {
   "cell_type": "code",
   "execution_count": 0,
   "metadata": {
    "application/vnd.databricks.v1+cell": {
     "cellMetadata": {
      "byteLimit": 2048000,
      "rowLimit": 10000
     },
     "inputWidgets": {},
     "nuid": "b9041cb4-ea78-4c1e-ab9b-4640739a05c6",
     "showTitle": false,
     "tableResultSettingsMap": {},
     "title": ""
    }
   },
   "outputs": [
    {
     "output_type": "stream",
     "name": "stdout",
     "output_type": "stream",
     "text": [
      "+-----------+-------+-------------+-------------+-------+----+------------------------+---+-------+\n|Pregnancies|Glucose|BloodPressure|SkinThickness|Insulin| BMI|DiabetesPedigreeFunction|Age|Outcome|\n+-----------+-------+-------------+-------------+-------+----+------------------------+---+-------+\n|         10|    168|           74|            0|      0|38.0|                   0.537| 34|      1|\n|         11|    143|           94|           33|    146|36.6|                   0.254| 51|      1|\n|         10|    125|           70|           26|    115|31.1|                   0.205| 41|      1|\n+-----------+-------+-------------+-------------+-------+----+------------------------+---+-------+\nonly showing top 3 rows\n\n"
     ]
    }
   ],
   "source": [
    "df.where((df['Outcome']==1)&(df['Pregnancies']>9)).show(3)"
   ]
  },
  {
   "cell_type": "code",
   "execution_count": 0,
   "metadata": {
    "application/vnd.databricks.v1+cell": {
     "cellMetadata": {
      "byteLimit": 2048000,
      "rowLimit": 10000
     },
     "inputWidgets": {},
     "nuid": "4f95cd2c-38d4-4495-b866-7cbb9552f87e",
     "showTitle": false,
     "tableResultSettingsMap": {},
     "title": ""
    }
   },
   "outputs": [
    {
     "output_type": "stream",
     "name": "stdout",
     "output_type": "stream",
     "text": [
      "Out[33]: 194"
     ]
    }
   ],
   "source": [
    "df.where(df['age']>40).count()"
   ]
  },
  {
   "cell_type": "code",
   "execution_count": 0,
   "metadata": {
    "application/vnd.databricks.v1+cell": {
     "cellMetadata": {
      "byteLimit": 2048000,
      "rowLimit": 10000
     },
     "inputWidgets": {},
     "nuid": "211caa9f-6864-4590-8d9f-b0913d97b03d",
     "showTitle": false,
     "tableResultSettingsMap": {},
     "title": ""
    }
   },
   "outputs": [
    {
     "output_type": "stream",
     "name": "stdout",
     "output_type": "stream",
     "text": [
      "+-----------+-------+-------------+-------------+-------+----+------------------------+---+-------+-------+\n|Pregnancies|Glucose|BloodPressure|SkinThickness|Insulin| BMI|DiabetesPedigreeFunction|Age|Outcome|New_Age|\n+-----------+-------+-------------+-------------+-------+----+------------------------+---+-------+-------+\n|          6|    148|           72|           35|      0|33.6|                   0.627| 50|      1|     60|\n|          1|     85|           66|           29|      0|26.6|                   0.351| 31|      0|     41|\n|          8|    183|           64|            0|      0|23.3|                   0.672| 32|      1|     42|\n+-----------+-------+-------------+-------------+-------+----+------------------------+---+-------+-------+\nonly showing top 3 rows\n\n"
     ]
    }
   ],
   "source": [
    "df.withColumn('New_Age', df['age']+10).show(3)"
   ]
  },
  {
   "cell_type": "code",
   "execution_count": 0,
   "metadata": {
    "application/vnd.databricks.v1+cell": {
     "cellMetadata": {
      "byteLimit": 2048000,
      "rowLimit": 10000
     },
     "inputWidgets": {},
     "nuid": "5e5526f7-b22e-49f7-b721-494e4004f759",
     "showTitle": false,
     "tableResultSettingsMap": {},
     "title": ""
    }
   },
   "outputs": [
    {
     "output_type": "stream",
     "name": "stdout",
     "output_type": "stream",
     "text": [
      "+-------+-----+\n|Outcome|count|\n+-------+-----+\n|      0|  500|\n|      1|  268|\n+-------+-----+\n\n"
     ]
    }
   ],
   "source": [
    "df.groupBy('Outcome').count().show()"
   ]
  },
  {
   "cell_type": "code",
   "execution_count": 0,
   "metadata": {
    "application/vnd.databricks.v1+cell": {
     "cellMetadata": {
      "byteLimit": 2048000,
      "rowLimit": 10000
     },
     "inputWidgets": {},
     "nuid": "55856991-2bf3-4f1c-98a8-052af72a01f7",
     "showTitle": false,
     "tableResultSettingsMap": {},
     "title": ""
    }
   },
   "outputs": [
    {
     "output_type": "stream",
     "name": "stdout",
     "output_type": "stream",
     "text": [
      "Out[36]: 17"
     ]
    }
   ],
   "source": [
    "df.select('Pregnancies').distinct().count()"
   ]
  },
  {
   "cell_type": "code",
   "execution_count": 0,
   "metadata": {
    "application/vnd.databricks.v1+cell": {
     "cellMetadata": {
      "byteLimit": 2048000,
      "rowLimit": 10000
     },
     "inputWidgets": {},
     "nuid": "ee18da16-16fa-4e3e-8183-00c9426101de",
     "showTitle": false,
     "tableResultSettingsMap": {},
     "title": ""
    }
   },
   "outputs": [
    {
     "output_type": "stream",
     "name": "stdout",
     "output_type": "stream",
     "text": [
      "+-------+-----------------+\n|Outcome|         age_mean|\n+-------+-----------------+\n|      0|            31.19|\n|      1|37.06716417910448|\n+-------+-----------------+\n\n"
     ]
    }
   ],
   "source": [
    "df.groupBy('Outcome').agg(F.mean('age').alias('age_mean')).show()"
   ]
  },
  {
   "cell_type": "code",
   "execution_count": 0,
   "metadata": {
    "application/vnd.databricks.v1+cell": {
     "cellMetadata": {
      "byteLimit": 2048000,
      "rowLimit": 10000
     },
     "inputWidgets": {},
     "nuid": "032492de-e0df-4484-ad00-f49ddf3549ff",
     "showTitle": false,
     "tableResultSettingsMap": {},
     "title": ""
    }
   },
   "outputs": [],
   "source": [
    "def diabetes(case):\n",
    "    if case==1:\n",
    "        return 'diabetes'\n",
    "    else:\n",
    "        return 'no diabetes'"
   ]
  },
  {
   "cell_type": "code",
   "execution_count": 0,
   "metadata": {
    "application/vnd.databricks.v1+cell": {
     "cellMetadata": {
      "byteLimit": 2048000,
      "rowLimit": 10000
     },
     "inputWidgets": {},
     "nuid": "02313a68-8ab7-4626-bc41-0276168c6552",
     "showTitle": false,
     "tableResultSettingsMap": {},
     "title": ""
    }
   },
   "outputs": [
    {
     "output_type": "stream",
     "name": "stdout",
     "output_type": "stream",
     "text": [
      "+-----------+-------+-------------+-------------+-------+----+------------------------+---+-------+------------+\n|Pregnancies|Glucose|BloodPressure|SkinThickness|Insulin| BMI|DiabetesPedigreeFunction|Age|Outcome|diabete_case|\n+-----------+-------+-------------+-------------+-------+----+------------------------+---+-------+------------+\n|          6|    148|           72|           35|      0|33.6|                   0.627| 50|      1|    diabetes|\n|          1|     85|           66|           29|      0|26.6|                   0.351| 31|      0| no diabetes|\n|          8|    183|           64|            0|      0|23.3|                   0.672| 32|      1|    diabetes|\n+-----------+-------+-------------+-------------+-------+----+------------------------+---+-------+------------+\nonly showing top 3 rows\n\n"
     ]
    }
   ],
   "source": [
    "#Applying User-Defined Functions\n",
    "from pyspark.sql.types import *\n",
    "diabetes_udf= F.udf(diabetes, StringType())\n",
    "df.withColumn('diabete_case', diabetes_udf(df['Outcome'])).show(3)"
   ]
  },
  {
   "cell_type": "code",
   "execution_count": 0,
   "metadata": {
    "application/vnd.databricks.v1+cell": {
     "cellMetadata": {
      "byteLimit": 2048000,
      "rowLimit": 10000
     },
     "inputWidgets": {},
     "nuid": "14f25bc5-58d4-48bd-9254-0c755485b810",
     "showTitle": false,
     "tableResultSettingsMap": {},
     "title": ""
    }
   },
   "outputs": [
    {
     "output_type": "stream",
     "name": "stdout",
     "output_type": "stream",
     "text": [
      "+-----------+-------+-------------+-------------+----+------------------------+---+-------+\n|Pregnancies|Glucose|BloodPressure|SkinThickness| BMI|DiabetesPedigreeFunction|Age|Outcome|\n+-----------+-------+-------------+-------------+----+------------------------+---+-------+\n|          6|    148|           72|           35|33.6|                   0.627| 50|      1|\n|          1|     85|           66|           29|26.6|                   0.351| 31|      0|\n|          8|    183|           64|            0|23.3|                   0.672| 32|      1|\n+-----------+-------+-------------+-------------+----+------------------------+---+-------+\nonly showing top 3 rows\n\n"
     ]
    }
   ],
   "source": [
    "df.drop('Insulin').show(3)"
   ]
  },
  {
   "cell_type": "code",
   "execution_count": 0,
   "metadata": {
    "application/vnd.databricks.v1+cell": {
     "cellMetadata": {
      "byteLimit": 2048000,
      "rowLimit": 10000
     },
     "inputWidgets": {},
     "nuid": "c54930c2-3a76-4608-8294-400f97232dc2",
     "showTitle": false,
     "tableResultSettingsMap": {},
     "title": ""
    }
   },
   "outputs": [
    {
     "output_type": "stream",
     "name": "stdout",
     "output_type": "stream",
     "text": [
      "The number of records:  768\nThe number of records after removing the duplicate:  768\n"
     ]
    }
   ],
   "source": [
    "print('The number of records: ',df.count() )\n",
    "df=df.dropDuplicates()\n",
    "print('The number of records after removing the duplicate: ', df.count())"
   ]
  },
  {
   "cell_type": "code",
   "execution_count": 0,
   "metadata": {
    "application/vnd.databricks.v1+cell": {
     "cellMetadata": {
      "byteLimit": 2048000,
      "rowLimit": 10000
     },
     "inputWidgets": {},
     "nuid": "76ca534f-37bd-498c-a20f-2bf156f300f4",
     "showTitle": false,
     "tableResultSettingsMap": {},
     "title": ""
    }
   },
   "outputs": [],
   "source": [
    "df.write.format('csv').option('header','true').save('./CursoSpark/my_dataset01.csv')"
   ]
  },
  {
   "cell_type": "code",
   "execution_count": 0,
   "metadata": {
    "application/vnd.databricks.v1+cell": {
     "cellMetadata": {
      "byteLimit": 2048000,
      "rowLimit": 10000
     },
     "inputWidgets": {},
     "nuid": "b1048803-9cc7-4519-880d-03c1bc5480f4",
     "showTitle": false,
     "tableResultSettingsMap": {},
     "title": ""
    }
   },
   "outputs": [
    {
     "output_type": "stream",
     "name": "stdout",
     "output_type": "stream",
     "text": [
      "ok\n"
     ]
    }
   ],
   "source": [
    "df.write.csv('./my_dataset.csv')\n",
    "print('ok')"
   ]
  }
 ],
 "metadata": {
  "application/vnd.databricks.v1+notebook": {
   "computePreferences": null,
   "dashboards": [],
   "environmentMetadata": {
    "base_environment": "",
    "environment_version": "1"
   },
   "inputWidgetPreferences": null,
   "language": "python",
   "notebookMetadata": {
    "pythonIndentUnit": 4
   },
   "notebookName": "Spark02 MIK 2025-07-15 10:18:00",
   "widgets": {}
  }
 },
 "nbformat": 4,
 "nbformat_minor": 0
}