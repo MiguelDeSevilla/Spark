{
 "cells": [
  {
   "cell_type": "code",
   "execution_count": 0,
   "metadata": {
    "application/vnd.databricks.v1+cell": {
     "cellMetadata": {
      "byteLimit": 2048000,
      "rowLimit": 10000
     },
     "inputWidgets": {},
     "nuid": "d902a3d9-765f-43cf-b35d-c5c295d3d0f8",
     "showTitle": false,
     "tableResultSettingsMap": {},
     "title": ""
    }
   },
   "outputs": [],
   "source": [
    "#create sparksession object\n",
    "from pyspark.sql import SparkSession\n",
    "spark=SparkSession.builder.appName('Regresión_lineal').getOrCreate()\n",
    "import warnings\n",
    "warnings.filterwarnings(\"ignore\")"
   ]
  },
  {
   "cell_type": "code",
   "execution_count": 0,
   "metadata": {
    "application/vnd.databricks.v1+cell": {
     "cellMetadata": {
      "byteLimit": 2048000,
      "rowLimit": 10000
     },
     "inputWidgets": {},
     "nuid": "0035c555-66e3-4302-8f17-24b54acb923a",
     "showTitle": false,
     "tableResultSettingsMap": {},
     "title": ""
    }
   },
   "outputs": [],
   "source": [
    "#import Linear Regression from spark's MLlib\n",
    "from pyspark.ml.regression import LinearRegression\n",
    "from pyspark.sql import functions as F"
   ]
  },
  {
   "cell_type": "code",
   "execution_count": 0,
   "metadata": {
    "application/vnd.databricks.v1+cell": {
     "cellMetadata": {
      "byteLimit": 2048000,
      "rowLimit": 10000
     },
     "inputWidgets": {},
     "nuid": "ab8c8bc4-b0eb-4d88-a635-a8e480292d61",
     "showTitle": false,
     "tableResultSettingsMap": {},
     "title": ""
    }
   },
   "outputs": [
    {
     "output_type": "stream",
     "name": "stdout",
     "output_type": "stream",
     "text": [
      "+-------+----+-----+----+-----+-----+----+------+---+---+-------+------+-----+----+\n|   crim|  zn|indus|chas|  nox|   rm| age|   dis|rad|tax|ptratio|     b|lstat|medv|\n+-------+----+-----+----+-----+-----+----+------+---+---+-------+------+-----+----+\n|0.00632|18.0| 2.31|   0|0.538|6.575|65.2|  4.09|  1|296|   15.3| 396.9| 4.98|24.0|\n|0.02731| 0.0| 7.07|   0|0.469|6.421|78.9|4.9671|  2|242|   17.8| 396.9| 9.14|21.6|\n|0.02729| 0.0| 7.07|   0|0.469|7.185|61.1|4.9671|  2|242|   17.8|392.83| 4.03|34.7|\n|0.03237| 0.0| 2.18|   0|0.458|6.998|45.8|6.0622|  3|222|   18.7|394.63| 2.94|33.4|\n|0.06905| 0.0| 2.18|   0|0.458|7.147|54.2|6.0622|  3|222|   18.7| 396.9| 5.33|36.2|\n+-------+----+-----+----+-----+-----+----+------+---+---+-------+------+-----+----+\nonly showing top 5 rows\n\n"
     ]
    }
   ],
   "source": [
    "# Cargamos los datos\n",
    "#filename = \"/FileStore/tables/Linear_regression_dataset.csv\"\n",
    "filename = \"/FileStore/tables/housing.csv\"\n",
    "df = spark.read.csv(filename, header=True, inferSchema=True, sep=',')\n",
    "#display(df)\n",
    "df.show(5)"
   ]
  },
  {
   "cell_type": "code",
   "execution_count": 0,
   "metadata": {
    "application/vnd.databricks.v1+cell": {
     "cellMetadata": {
      "byteLimit": 2048000,
      "rowLimit": 10000
     },
     "inputWidgets": {},
     "nuid": "61c3a82e-ae5d-48ab-b72a-c5581865630d",
     "showTitle": false,
     "tableResultSettingsMap": {},
     "title": ""
    }
   },
   "outputs": [
    {
     "output_type": "stream",
     "name": "stdout",
     "output_type": "stream",
     "text": [
      "(506, 14)\n"
     ]
    }
   ],
   "source": [
    "# Tamaño de mis datos \n",
    "print((df.count(), len(df.columns)))"
   ]
  },
  {
   "cell_type": "code",
   "execution_count": 0,
   "metadata": {
    "application/vnd.databricks.v1+cell": {
     "cellMetadata": {
      "byteLimit": 2048000,
      "rowLimit": 10000
     },
     "inputWidgets": {},
     "nuid": "e2e518dc-354c-4f01-a20f-9b8d435ec07f",
     "showTitle": false,
     "tableResultSettingsMap": {},
     "title": ""
    }
   },
   "outputs": [
    {
     "output_type": "stream",
     "name": "stdout",
     "output_type": "stream",
     "text": [
      "root\n |-- crim: double (nullable = true)\n |-- zn: double (nullable = true)\n |-- indus: double (nullable = true)\n |-- chas: integer (nullable = true)\n |-- nox: double (nullable = true)\n |-- rm: double (nullable = true)\n |-- age: double (nullable = true)\n |-- dis: double (nullable = true)\n |-- rad: integer (nullable = true)\n |-- tax: integer (nullable = true)\n |-- ptratio: double (nullable = true)\n |-- b: double (nullable = true)\n |-- lstat: double (nullable = true)\n |-- medv: double (nullable = true)\n\n"
     ]
    }
   ],
   "source": [
    "#explore the data\n",
    "df.printSchema()"
   ]
  },
  {
   "cell_type": "code",
   "execution_count": 0,
   "metadata": {
    "application/vnd.databricks.v1+cell": {
     "cellMetadata": {
      "byteLimit": 2048000,
      "rowLimit": 10000
     },
     "inputWidgets": {},
     "nuid": "2a823e9a-cd67-4055-802b-24d7f0732498",
     "showTitle": false,
     "tableResultSettingsMap": {},
     "title": ""
    }
   },
   "outputs": [
    {
     "output_type": "stream",
     "name": "stdout",
     "output_type": "stream",
     "text": [
      "+-------+------------------+------------------+------------------+------------------+-------------------+------------------+------------------+-----------------+-----------------+------------------+------------------+------------------+------------------+------------------+\n|summary|crim              |zn                |indus             |chas              |nox                |rm                |age               |dis              |rad              |tax               |ptratio           |b                 |lstat             |medv              |\n+-------+------------------+------------------+------------------+------------------+-------------------+------------------+------------------+-----------------+-----------------+------------------+------------------+------------------+------------------+------------------+\n|count  |506               |506               |506               |506               |506                |506               |506               |506              |506              |506               |506               |506               |506               |506               |\n|mean   |3.6135235573122535|11.363636363636363|11.136778656126504|0.0691699604743083|0.5546950592885372 |6.284634387351787 |68.57490118577078 |3.795042687747034|9.549407114624506|408.2371541501976 |18.455533596837967|356.67403162055257|12.653063241106723|22.532806324110698|\n|stddev |8.601545105332491 |23.32245299451514 |6.860352940897589 |0.2539940413404101|0.11587767566755584|0.7026171434153232|28.148861406903595|2.10571012662761 |8.707259384239366|168.53711605495903|2.1649455237144455|91.29486438415782 |7.141061511348571 |9.197104087379815 |\n|min    |0.00632           |0.0               |0.46              |0                 |0.385              |3.561             |2.9               |1.1296           |1                |187               |12.6              |0.32              |1.73              |5.0               |\n|max    |88.9762           |100.0             |27.74             |1                 |0.871              |8.78              |100.0             |12.1265          |24               |711               |22.0              |396.9             |37.97             |50.0              |\n+-------+------------------+------------------+------------------+------------------+-------------------+------------------+------------------+-----------------+-----------------+------------------+------------------+------------------+------------------+------------------+\n\n"
     ]
    }
   ],
   "source": [
    "#view statistical measures of data \n",
    "df.describe().show(5,False)"
   ]
  },
  {
   "cell_type": "code",
   "execution_count": 0,
   "metadata": {
    "application/vnd.databricks.v1+cell": {
     "cellMetadata": {
      "byteLimit": 2048000,
      "rowLimit": 10000
     },
     "inputWidgets": {},
     "nuid": "227ab967-12bc-4266-834d-e53e9170687a",
     "showTitle": false,
     "tableResultSettingsMap": {},
     "title": ""
    }
   },
   "outputs": [
    {
     "output_type": "stream",
     "name": "stdout",
     "output_type": "stream",
     "text": [
      "+-------+------------------+------------------+------------------+------------------+-------------------+------------------+------------------+-----------------+-----------------+------------------+------------------+------------------+------------------+------------------+\n|summary|              crim|                zn|             indus|              chas|                nox|                rm|               age|              dis|              rad|               tax|           ptratio|                 b|             lstat|              medv|\n+-------+------------------+------------------+------------------+------------------+-------------------+------------------+------------------+-----------------+-----------------+------------------+------------------+------------------+------------------+------------------+\n|  count|               506|               506|               506|               506|                506|               506|               506|              506|              506|               506|               506|               506|               506|               506|\n|   mean|3.6135235573122535|11.363636363636363|11.136778656126504|0.0691699604743083| 0.5546950592885372| 6.284634387351787| 68.57490118577078|3.795042687747034|9.549407114624506| 408.2371541501976|18.455533596837967|356.67403162055257|12.653063241106723|22.532806324110698|\n| stddev| 8.601545105332491| 23.32245299451514| 6.860352940897589|0.2539940413404101|0.11587767566755584|0.7026171434153232|28.148861406903595| 2.10571012662761|8.707259384239366|168.53711605495903|2.1649455237144455| 91.29486438415782| 7.141061511348571| 9.197104087379815|\n|    min|           0.00632|               0.0|              0.46|                 0|              0.385|             3.561|               2.9|           1.1296|                1|               187|              12.6|              0.32|              1.73|               5.0|\n|    25%|           0.08199|               0.0|              5.19|                 0|              0.449|             5.885|              45.0|              2.1|                4|               279|              17.4|            375.33|              6.93|              17.0|\n|    50%|           0.25387|               0.0|              9.69|                 0|              0.538|             6.208|              77.3|           3.1992|                5|               330|              19.0|            391.43|             11.34|              21.2|\n|    75%|           3.67822|              12.5|              18.1|                 0|              0.624|             6.625|              94.1|           5.2119|               24|               666|              20.2|            396.23|             16.96|              25.0|\n|    max|           88.9762|             100.0|             27.74|                 1|              0.871|              8.78|             100.0|          12.1265|               24|               711|              22.0|             396.9|             37.97|              50.0|\n+-------+------------------+------------------+------------------+------------------+-------------------+------------------+------------------+-----------------+-----------------+------------------+------------------+------------------+------------------+------------------+\n\n"
     ]
    }
   ],
   "source": [
    "#df.summary().display()\n",
    "df.summary().show()"
   ]
  },
  {
   "cell_type": "code",
   "execution_count": 0,
   "metadata": {
    "application/vnd.databricks.v1+cell": {
     "cellMetadata": {
      "byteLimit": 2048000,
      "rowLimit": 10000
     },
     "inputWidgets": {},
     "nuid": "5d37b5d1-85be-4536-9884-a3c3b23621b8",
     "showTitle": false,
     "tableResultSettingsMap": {},
     "title": ""
    }
   },
   "outputs": [],
   "source": [
    "from pyspark.sql.types import * \n",
    "from pyspark.sql.functions import * "
   ]
  },
  {
   "cell_type": "code",
   "execution_count": 0,
   "metadata": {
    "application/vnd.databricks.v1+cell": {
     "cellMetadata": {
      "byteLimit": 2048000,
      "rowLimit": 10000
     },
     "inputWidgets": {},
     "nuid": "1107a9fa-d02d-4cef-8989-584428d4764c",
     "showTitle": false,
     "tableResultSettingsMap": {},
     "title": ""
    }
   },
   "outputs": [
    {
     "output_type": "stream",
     "name": "stdout",
     "output_type": "stream",
     "text": [
      "crim columna 0 tiene missing value.\nzn columna 0 tiene missing value.\nindus columna 0 tiene missing value.\nchas columna 0 tiene missing value.\nnox columna 0 tiene missing value.\nrm columna 0 tiene missing value.\nage columna 0 tiene missing value.\ndis columna 0 tiene missing value.\nrad columna 0 tiene missing value.\ntax columna 0 tiene missing value.\nptratio columna 0 tiene missing value.\nb columna 0 tiene missing value.\nlstat columna 0 tiene missing value.\nmedv columna 0 tiene missing value.\n"
     ]
    }
   ],
   "source": [
    "for colu in df.columns:\n",
    "    miss = df.filter(col(colu).isNull()).count()\n",
    "    print(f\"{colu} columna {miss} tiene missing value.\")"
   ]
  },
  {
   "cell_type": "code",
   "execution_count": 0,
   "metadata": {
    "application/vnd.databricks.v1+cell": {
     "cellMetadata": {
      "byteLimit": 2048000,
      "rowLimit": 10000
     },
     "inputWidgets": {},
     "nuid": "01aed2bd-f02d-4dce-af18-6a2f8cbdd2d6",
     "showTitle": false,
     "tableResultSettingsMap": {},
     "title": ""
    }
   },
   "outputs": [
    {
     "output_type": "stream",
     "name": "stdout",
     "output_type": "stream",
     "text": [
      "Out[11]: 68.57490118577078"
     ]
    }
   ],
   "source": [
    "# estimamo la media\n",
    "mean_bedroom = df.select(mean(df['age'])).collect()[0][0]\n",
    "mean_bedroom"
   ]
  },
  {
   "cell_type": "code",
   "execution_count": 0,
   "metadata": {
    "application/vnd.databricks.v1+cell": {
     "cellMetadata": {
      "byteLimit": 2048000,
      "rowLimit": 10000
     },
     "inputWidgets": {},
     "nuid": "0e231668-9535-4682-af13-876613563488",
     "showTitle": false,
     "tableResultSettingsMap": {},
     "title": ""
    }
   },
   "outputs": [
    {
     "output_type": "stream",
     "name": "stdout",
     "output_type": "stream",
     "text": [
      "Out[13]: 0"
     ]
    }
   ],
   "source": [
    "df = df.na.fill({'age': mean_bedroom})\n",
    "#la función de control tiene algún valor faltante\n",
    "df.filter(col(\"age\").isNull()).count()"
   ]
  },
  {
   "cell_type": "code",
   "execution_count": 0,
   "metadata": {
    "application/vnd.databricks.v1+cell": {
     "cellMetadata": {
      "byteLimit": 2048000,
      "rowLimit": 10000
     },
     "inputWidgets": {},
     "nuid": "a87e7a16-e9c3-4abc-9292-3641f5b0c850",
     "showTitle": false,
     "tableResultSettingsMap": {},
     "title": ""
    }
   },
   "outputs": [],
   "source": [
    "#import corr function from pyspark functions\n",
    "from pyspark.sql.functions import corr"
   ]
  },
  {
   "cell_type": "code",
   "execution_count": 0,
   "metadata": {
    "application/vnd.databricks.v1+cell": {
     "cellMetadata": {
      "byteLimit": 2048000,
      "rowLimit": 10000
     },
     "inputWidgets": {},
     "nuid": "9910a518-72c8-4f6d-8048-17e59720b29d",
     "showTitle": false,
     "tableResultSettingsMap": {},
     "title": ""
    }
   },
   "outputs": [
    {
     "output_type": "stream",
     "name": "stdout",
     "output_type": "stream",
     "text": [
      "+--------------------+\n|       corr(age, rm)|\n+--------------------+\n|-0.24026493104775062|\n+--------------------+\n\n"
     ]
    }
   ],
   "source": [
    "# check for correlation\n",
    "df.select(corr(\"age\",  \"rm\")).show()"
   ]
  },
  {
   "cell_type": "code",
   "execution_count": 0,
   "metadata": {
    "application/vnd.databricks.v1+cell": {
     "cellMetadata": {
      "byteLimit": 2048000,
      "rowLimit": 10000
     },
     "inputWidgets": {},
     "nuid": "3cdecf13-d14b-46c9-8e68-4211348108f8",
     "showTitle": false,
     "tableResultSettingsMap": {},
     "title": ""
    }
   },
   "outputs": [
    {
     "output_type": "stream",
     "name": "stdout",
     "output_type": "stream",
     "text": [
      "+-------+----+-----+----+-----+-----+----+------+---+---+-------+------+-----+----+\n|   crim|  zn|indus|chas|  nox|   rm| age|   dis|rad|tax|ptratio|     b|lstat|medv|\n+-------+----+-----+----+-----+-----+----+------+---+---+-------+------+-----+----+\n|0.00632|18.0| 2.31|   0|0.538|6.575|65.2|  4.09|  1|296|   15.3| 396.9| 4.98|24.0|\n|0.02731| 0.0| 7.07|   0|0.469|6.421|78.9|4.9671|  2|242|   17.8| 396.9| 9.14|21.6|\n|0.02729| 0.0| 7.07|   0|0.469|7.185|61.1|4.9671|  2|242|   17.8|392.83| 4.03|34.7|\n|0.03237| 0.0| 2.18|   0|0.458|6.998|45.8|6.0622|  3|222|   18.7|394.63| 2.94|33.4|\n|0.06905| 0.0| 2.18|   0|0.458|7.147|54.2|6.0622|  3|222|   18.7| 396.9| 5.33|36.2|\n+-------+----+-----+----+-----+-----+----+------+---+---+-------+------+-----+----+\nonly showing top 5 rows\n\n"
     ]
    }
   ],
   "source": [
    "df.show(5)"
   ]
  },
  {
   "cell_type": "code",
   "execution_count": 0,
   "metadata": {
    "application/vnd.databricks.v1+cell": {
     "cellMetadata": {
      "byteLimit": 2048000,
      "rowLimit": 10000
     },
     "inputWidgets": {},
     "nuid": "9b8f6602-52df-4a74-b909-1b8e23dbdb6a",
     "showTitle": false,
     "tableResultSettingsMap": {},
     "title": ""
    }
   },
   "outputs": [
    {
     "output_type": "stream",
     "name": "stdout",
     "output_type": "stream",
     "text": [
      "+-------+----+-----+----+-----+-----+----+------+---+---+-------+------+-----+----+---------+\n|   crim|  zn|indus|chas|  nox|   rm| age|   dis|rad|tax|ptratio|     b|lstat|medv|age_index|\n+-------+----+-----+----+-----+-----+----+------+---+---+-------+------+-----+----+---------+\n|0.00632|18.0| 2.31|   0|0.538|6.575|65.2|  4.09|  1|296|   15.3| 396.9| 4.98|24.0|     40.0|\n|0.02731| 0.0| 7.07|   0|0.469|6.421|78.9|4.9671|  2|242|   17.8| 396.9| 9.14|21.6|    275.0|\n|0.02729| 0.0| 7.07|   0|0.469|7.185|61.1|4.9671|  2|242|   17.8|392.83| 4.03|34.7|    216.0|\n|0.03237| 0.0| 2.18|   0|0.458|6.998|45.8|6.0622|  3|222|   18.7|394.63| 2.94|33.4|     31.0|\n|0.06905| 0.0| 2.18|   0|0.458|7.147|54.2|6.0622|  3|222|   18.7| 396.9| 5.33|36.2|    195.0|\n+-------+----+-----+----+-----+-----+----+------+---+---+-------+------+-----+----+---------+\nonly showing top 5 rows\n\n"
     ]
    }
   ],
   "source": [
    "from pyspark.ml.feature import StringIndexer \n",
    "from pyspark.ml.feature import VectorAssembler\n",
    "\n",
    "# StringIndexer ile 'ocean_proximity' label to numeric\n",
    "stringIndexer = StringIndexer(inputCol=\"age\", outputCol=\"age_index\")\n",
    "stringIndexerModel = stringIndexer.fit(df)  # Ftting Traing\n",
    "df_transformed = stringIndexerModel.transform(df)\n",
    "df_transformed.show(5)\n",
    "#display(df_transformed)"
   ]
  },
  {
   "cell_type": "code",
   "execution_count": 0,
   "metadata": {
    "application/vnd.databricks.v1+cell": {
     "cellMetadata": {
      "byteLimit": 2048000,
      "rowLimit": 10000
     },
     "inputWidgets": {},
     "nuid": "8e09baea-77a1-4041-a60b-06530ee87c47",
     "showTitle": false,
     "tableResultSettingsMap": {},
     "title": ""
    }
   },
   "outputs": [
    {
     "output_type": "stream",
     "name": "stdout",
     "output_type": "stream",
     "text": [
      "+-------+----+-----+----+-----+-----+------+---+---+-------+------+-----+----+---------+\n|   crim|  zn|indus|chas|  nox|   rm|   dis|rad|tax|ptratio|     b|lstat|medv|age_index|\n+-------+----+-----+----+-----+-----+------+---+---+-------+------+-----+----+---------+\n|0.00632|18.0| 2.31|   0|0.538|6.575|  4.09|  1|296|   15.3| 396.9| 4.98|24.0|     40.0|\n|0.02731| 0.0| 7.07|   0|0.469|6.421|4.9671|  2|242|   17.8| 396.9| 9.14|21.6|    275.0|\n|0.02729| 0.0| 7.07|   0|0.469|7.185|4.9671|  2|242|   17.8|392.83| 4.03|34.7|    216.0|\n|0.03237| 0.0| 2.18|   0|0.458|6.998|6.0622|  3|222|   18.7|394.63| 2.94|33.4|     31.0|\n|0.06905| 0.0| 2.18|   0|0.458|7.147|6.0622|  3|222|   18.7| 396.9| 5.33|36.2|    195.0|\n|0.02985| 0.0| 2.18|   0|0.458| 6.43|6.0622|  3|222|   18.7|394.12| 5.21|28.7|     36.0|\n|0.08829|12.5| 7.87|   0|0.524|6.012|5.5605|  5|311|   15.2| 395.6|12.43|22.9|    233.0|\n|0.14455|12.5| 7.87|   0|0.524|6.172|5.9505|  5|311|   15.2| 396.9|19.15|27.1|     78.0|\n|0.21124|12.5| 7.87|   0|0.524|5.631|6.0821|  5|311|   15.2|386.63|29.93|16.5|      0.0|\n|0.17004|12.5| 7.87|   0|0.524|6.004|6.5921|  5|311|   15.2|386.71| 17.1|18.9|    301.0|\n|0.22489|12.5| 7.87|   0|0.524|6.377|6.3467|  5|311|   15.2|392.52|20.45|15.0|     72.0|\n|0.11747|12.5| 7.87|   0|0.524|6.009|6.2267|  5|311|   15.2| 396.9|13.27|18.9|     51.0|\n|0.09378|12.5| 7.87|   0|0.524|5.889|5.4509|  5|311|   15.2| 390.5|15.71|21.7|    150.0|\n|0.62976| 0.0| 8.14|   0|0.538|5.949|4.7075|  4|307|   21.0| 396.9| 8.26|20.4|    218.0|\n|0.63796| 0.0| 8.14|   0|0.538|6.096|4.4619|  4|307|   21.0|380.02|10.26|18.2|    295.0|\n|0.62739| 0.0| 8.14|   0|0.538|5.834|4.4986|  4|307|   21.0|395.62| 8.47|19.9|    200.0|\n|1.05393| 0.0| 8.14|   0|0.538|5.935|4.4986|  4|307|   21.0|386.85| 6.58|23.1|    119.0|\n| 0.7842| 0.0| 8.14|   0|0.538| 5.99|4.2579|  4|307|   21.0|386.75|14.67|17.5|    283.0|\n|0.80271| 0.0| 8.14|   0|0.538|5.456|3.7965|  4|307|   21.0|288.99|11.69|20.2|      9.0|\n| 0.7258| 0.0| 8.14|   0|0.538|5.727|3.7965|  4|307|   21.0|390.95|11.28|18.2|    243.0|\n+-------+----+-----+----+-----+-----+------+---+---+-------+------+-----+----+---------+\nonly showing top 20 rows\n\n"
     ]
    }
   ],
   "source": [
    "df1 = df_transformed.drop(\"age\")\n",
    "df1.show()\n",
    "#display(df1)"
   ]
  },
  {
   "cell_type": "code",
   "execution_count": 0,
   "metadata": {
    "application/vnd.databricks.v1+cell": {
     "cellMetadata": {
      "byteLimit": 2048000,
      "rowLimit": 10000
     },
     "inputWidgets": {},
     "nuid": "d4c4d15b-023c-40c1-a597-0896365c720e",
     "showTitle": false,
     "tableResultSettingsMap": {},
     "title": ""
    }
   },
   "outputs": [],
   "source": [
    "#import vectorassembler to create dense vectors\n",
    "from pyspark.ml.linalg import Vector\n",
    "from pyspark.ml.feature import VectorAssembler"
   ]
  },
  {
   "cell_type": "code",
   "execution_count": 0,
   "metadata": {
    "application/vnd.databricks.v1+cell": {
     "cellMetadata": {
      "byteLimit": 2048000,
      "rowLimit": 10000
     },
     "inputWidgets": {},
     "nuid": "02439d9a-4885-44b4-a072-40e757a28501",
     "showTitle": false,
     "tableResultSettingsMap": {},
     "title": ""
    }
   },
   "outputs": [
    {
     "output_type": "stream",
     "name": "stdout",
     "output_type": "stream",
     "text": [
      "Out[25]: ['crim',\n 'zn',\n 'indus',\n 'chas',\n 'nox',\n 'rm',\n 'dis',\n 'rad',\n 'tax',\n 'ptratio',\n 'b',\n 'lstat',\n 'medv',\n 'age_index']"
     ]
    }
   ],
   "source": [
    "#select the columns to create input vector\n",
    "df1.columns"
   ]
  },
  {
   "cell_type": "code",
   "execution_count": 0,
   "metadata": {
    "application/vnd.databricks.v1+cell": {
     "cellMetadata": {
      "byteLimit": 2048000,
      "rowLimit": 10000
     },
     "inputWidgets": {},
     "nuid": "5a4529ee-052c-4ddc-bbd6-738da2fec4fe",
     "showTitle": false,
     "tableResultSettingsMap": {},
     "title": ""
    }
   },
   "outputs": [],
   "source": [
    "# Creamos el vector assembler             Variables independientes                         Vector \n",
    "vec_assmebler = VectorAssembler(inputCols=[\"indus\", \"chas\", \"nox\", \"rm\",  \"age_index\"],\n",
    "    outputCol=\"features\")"
   ]
  },
  {
   "cell_type": "code",
   "execution_count": 0,
   "metadata": {
    "application/vnd.databricks.v1+cell": {
     "cellMetadata": {
      "byteLimit": 2048000,
      "rowLimit": 10000
     },
     "inputWidgets": {},
     "nuid": "37558830-e625-4744-8799-908d4236e7fb",
     "showTitle": false,
     "tableResultSettingsMap": {},
     "title": ""
    }
   },
   "outputs": [],
   "source": [
    "#transform the values\n",
    "features_df = vec_assmebler.transform(df1)"
   ]
  },
  {
   "cell_type": "code",
   "execution_count": 0,
   "metadata": {
    "application/vnd.databricks.v1+cell": {
     "cellMetadata": {
      "byteLimit": 2048000,
      "rowLimit": 10000
     },
     "inputWidgets": {},
     "nuid": "8c0ea436-10d9-46c4-ae51-6ab7d71b694b",
     "showTitle": false,
     "tableResultSettingsMap": {},
     "title": ""
    }
   },
   "outputs": [
    {
     "output_type": "stream",
     "name": "stdout",
     "output_type": "stream",
     "text": [
      "root\n |-- crim: double (nullable = true)\n |-- zn: double (nullable = true)\n |-- indus: double (nullable = true)\n |-- chas: integer (nullable = true)\n |-- nox: double (nullable = true)\n |-- rm: double (nullable = true)\n |-- dis: double (nullable = true)\n |-- rad: integer (nullable = true)\n |-- tax: integer (nullable = true)\n |-- ptratio: double (nullable = true)\n |-- b: double (nullable = true)\n |-- lstat: double (nullable = true)\n |-- medv: double (nullable = true)\n |-- age_index: double (nullable = false)\n |-- features: vector (nullable = true)\n\n"
     ]
    }
   ],
   "source": [
    "#validate the presence of dense vectors \n",
    "features_df.printSchema()"
   ]
  },
  {
   "cell_type": "code",
   "execution_count": 0,
   "metadata": {
    "application/vnd.databricks.v1+cell": {
     "cellMetadata": {
      "byteLimit": 2048000,
      "rowLimit": 10000
     },
     "inputWidgets": {},
     "nuid": "48febd37-aaf7-453a-9842-ce531719aecb",
     "showTitle": false,
     "tableResultSettingsMap": {},
     "title": ""
    }
   },
   "outputs": [
    {
     "output_type": "stream",
     "name": "stdout",
     "output_type": "stream",
     "text": [
      "+-------+----+-----+----+-----+-----+------+---+---+-------+------+-----+----+---------+--------------------+\n|   crim|  zn|indus|chas|  nox|   rm|   dis|rad|tax|ptratio|     b|lstat|medv|age_index|            features|\n+-------+----+-----+----+-----+-----+------+---+---+-------+------+-----+----+---------+--------------------+\n|0.00632|18.0| 2.31|   0|0.538|6.575|  4.09|  1|296|   15.3| 396.9| 4.98|24.0|     40.0|[2.31,0.0,0.538,6...|\n|0.02731| 0.0| 7.07|   0|0.469|6.421|4.9671|  2|242|   17.8| 396.9| 9.14|21.6|    275.0|[7.07,0.0,0.469,6...|\n|0.02729| 0.0| 7.07|   0|0.469|7.185|4.9671|  2|242|   17.8|392.83| 4.03|34.7|    216.0|[7.07,0.0,0.469,7...|\n|0.03237| 0.0| 2.18|   0|0.458|6.998|6.0622|  3|222|   18.7|394.63| 2.94|33.4|     31.0|[2.18,0.0,0.458,6...|\n|0.06905| 0.0| 2.18|   0|0.458|7.147|6.0622|  3|222|   18.7| 396.9| 5.33|36.2|    195.0|[2.18,0.0,0.458,7...|\n+-------+----+-----+----+-----+-----+------+---+---+-------+------+-----+----+---------+--------------------+\nonly showing top 5 rows\n\n"
     ]
    }
   ],
   "source": [
    "#features_df.display()\n",
    "features_df.show(5)"
   ]
  },
  {
   "cell_type": "code",
   "execution_count": 0,
   "metadata": {
    "application/vnd.databricks.v1+cell": {
     "cellMetadata": {
      "byteLimit": 2048000,
      "rowLimit": 10000
     },
     "inputWidgets": {},
     "nuid": "c72dc7e7-2627-43e9-9d74-2c8254978a65",
     "showTitle": false,
     "tableResultSettingsMap": {},
     "title": ""
    }
   },
   "outputs": [
    {
     "output_type": "stream",
     "name": "stdout",
     "output_type": "stream",
     "text": [
      "+----------------------------+\n|features                    |\n+----------------------------+\n|[2.31,0.0,0.538,6.575,40.0] |\n|[7.07,0.0,0.469,6.421,275.0]|\n|[7.07,0.0,0.469,7.185,216.0]|\n|[2.18,0.0,0.458,6.998,31.0] |\n|[2.18,0.0,0.458,7.147,195.0]|\n+----------------------------+\nonly showing top 5 rows\n\n"
     ]
    }
   ],
   "source": [
    "#view the details of dense vector\n",
    "features_df.select('features').show(5,False)"
   ]
  },
  {
   "cell_type": "code",
   "execution_count": 0,
   "metadata": {
    "application/vnd.databricks.v1+cell": {
     "cellMetadata": {
      "byteLimit": 2048000,
      "rowLimit": 10000
     },
     "inputWidgets": {},
     "nuid": "2d8115ed-d9a2-4c44-a9c2-ef6a0924945e",
     "showTitle": false,
     "tableResultSettingsMap": {},
     "title": ""
    }
   },
   "outputs": [
    {
     "output_type": "stream",
     "name": "stdout",
     "output_type": "stream",
     "text": [
      "+----------------------------+----+\n|features                    |medv|\n+----------------------------+----+\n|[2.31,0.0,0.538,6.575,40.0] |24.0|\n|[7.07,0.0,0.469,6.421,275.0]|21.6|\n|[7.07,0.0,0.469,7.185,216.0]|34.7|\n|[2.18,0.0,0.458,6.998,31.0] |33.4|\n|[2.18,0.0,0.458,7.147,195.0]|36.2|\n+----------------------------+----+\nonly showing top 5 rows\n\n"
     ]
    }
   ],
   "source": [
    "# Creamos una nueva tabla con el vector y la variable de salidad\n",
    "model_df = features_df.select('features',\"medv\")\n",
    "model_df.show(5,False)"
   ]
  },
  {
   "cell_type": "code",
   "execution_count": 0,
   "metadata": {
    "application/vnd.databricks.v1+cell": {
     "cellMetadata": {
      "byteLimit": 2048000,
      "rowLimit": 10000
     },
     "inputWidgets": {},
     "nuid": "a7e5f7ea-9cc5-4aed-b425-185ff21f4c3f",
     "showTitle": false,
     "tableResultSettingsMap": {},
     "title": ""
    }
   },
   "outputs": [
    {
     "output_type": "stream",
     "name": "stdout",
     "output_type": "stream",
     "text": [
      "(506, 2)\n"
     ]
    }
   ],
   "source": [
    "#size of model df\n",
    "print((model_df.count(), len(model_df.columns)))"
   ]
  },
  {
   "cell_type": "code",
   "execution_count": 0,
   "metadata": {
    "application/vnd.databricks.v1+cell": {
     "cellMetadata": {
      "byteLimit": 2048000,
      "rowLimit": 10000
     },
     "inputWidgets": {},
     "nuid": "ad79a959-b7fd-4fbf-bc03-a5ae08ed6b90",
     "showTitle": false,
     "tableResultSettingsMap": {},
     "title": ""
    }
   },
   "outputs": [],
   "source": [
    "# Dividir los datos en entrenamiento y en datos de prueba\n",
    "train_df,test_df = model_df.randomSplit([0.7,0.3])"
   ]
  },
  {
   "cell_type": "code",
   "execution_count": 0,
   "metadata": {
    "application/vnd.databricks.v1+cell": {
     "cellMetadata": {
      "byteLimit": 2048000,
      "rowLimit": 10000
     },
     "inputWidgets": {},
     "nuid": "89532043-7f56-49c7-b6ea-b541e05d40ce",
     "showTitle": false,
     "tableResultSettingsMap": {},
     "title": ""
    }
   },
   "outputs": [
    {
     "output_type": "stream",
     "name": "stdout",
     "output_type": "stream",
     "text": [
      "+--------------------+----+\n|            features|medv|\n+--------------------+----+\n|[0.46,0.0,0.422,7...|50.0|\n|[0.74,0.0,0.41,6....|24.7|\n|[1.21,1.0,0.401,7...|50.0|\n|[1.22,0.0,0.403,7...|35.4|\n|[1.25,0.0,0.429,6...|22.9|\n|[1.25,0.0,0.429,6...|26.6|\n|[1.38,0.0,0.4161,...|33.0|\n|[1.47,0.0,0.403,6...|34.9|\n|[1.52,0.0,0.404,7...|34.6|\n|[1.52,0.0,0.404,7...|33.3|\n|[1.69,0.0,0.411,6...|24.1|\n|[1.76,0.0,0.385,6...|20.1|\n|[1.89,0.0,0.518,6...|16.5|\n|[1.91,0.0,0.413,5...|18.2|\n|[2.01,0.0,0.435,6...|24.5|\n|[2.02,0.0,0.41,6....|30.1|\n|[2.18,0.0,0.458,7...|36.2|\n|[2.18,0.0,0.472,6...|28.4|\n|[2.24,0.0,0.4,6.3...|22.5|\n|[2.24,0.0,0.4,6.8...|24.8|\n+--------------------+----+\nonly showing top 20 rows\n\n"
     ]
    }
   ],
   "source": [
    "train_df.show()"
   ]
  },
  {
   "cell_type": "code",
   "execution_count": 0,
   "metadata": {
    "application/vnd.databricks.v1+cell": {
     "cellMetadata": {
      "byteLimit": 2048000,
      "rowLimit": 10000
     },
     "inputWidgets": {},
     "nuid": "18e4f6ff-e65e-4d5f-a21e-399f1659cda8",
     "showTitle": false,
     "tableResultSettingsMap": {},
     "title": ""
    }
   },
   "outputs": [
    {
     "output_type": "stream",
     "name": "stdout",
     "output_type": "stream",
     "text": [
      "(361, 2)\n"
     ]
    }
   ],
   "source": [
    "print((train_df.count(), len(train_df.columns)))"
   ]
  },
  {
   "cell_type": "code",
   "execution_count": 0,
   "metadata": {
    "application/vnd.databricks.v1+cell": {
     "cellMetadata": {
      "byteLimit": 2048000,
      "rowLimit": 10000
     },
     "inputWidgets": {},
     "nuid": "491dfb18-ca81-4a1b-860f-9d1544480468",
     "showTitle": false,
     "tableResultSettingsMap": {},
     "title": ""
    }
   },
   "outputs": [
    {
     "output_type": "stream",
     "name": "stdout",
     "output_type": "stream",
     "text": [
      "(145, 2)\n"
     ]
    }
   ],
   "source": [
    "print((test_df.count(), len(test_df.columns)))"
   ]
  },
  {
   "cell_type": "code",
   "execution_count": 0,
   "metadata": {
    "application/vnd.databricks.v1+cell": {
     "cellMetadata": {
      "byteLimit": 2048000,
      "rowLimit": 10000
     },
     "inputWidgets": {},
     "nuid": "4e774cf1-db34-43f7-b106-c97a0d4ecb41",
     "showTitle": false,
     "tableResultSettingsMap": {},
     "title": ""
    }
   },
   "outputs": [
    {
     "output_type": "stream",
     "name": "stdout",
     "output_type": "stream",
     "text": [
      "+-------+------------------+\n|summary|              medv|\n+-------+------------------+\n|  count|               361|\n|   mean|22.220498614958455|\n| stddev| 9.000856179992809|\n|    min|               5.0|\n|    max|              50.0|\n+-------+------------------+\n\n"
     ]
    }
   ],
   "source": [
    "train_df.describe().show()"
   ]
  },
  {
   "cell_type": "code",
   "execution_count": 0,
   "metadata": {
    "application/vnd.databricks.v1+cell": {
     "cellMetadata": {
      "byteLimit": 2048000,
      "rowLimit": 10000
     },
     "inputWidgets": {},
     "nuid": "ddb56352-152a-4c66-8ff0-fd492726a06d",
     "showTitle": false,
     "tableResultSettingsMap": {},
     "title": ""
    }
   },
   "outputs": [],
   "source": [
    "from pyspark.ml.regression import LinearRegression"
   ]
  },
  {
   "cell_type": "code",
   "execution_count": 0,
   "metadata": {
    "application/vnd.databricks.v1+cell": {
     "cellMetadata": {
      "byteLimit": 2048000,
      "rowLimit": 10000
     },
     "inputWidgets": {},
     "nuid": "8e39e696-4e5b-45b8-b789-a4ef49692b8b",
     "showTitle": false,
     "tableResultSettingsMap": {},
     "title": ""
    }
   },
   "outputs": [],
   "source": [
    "# construyo Linear Regression model \n",
    "lin_Reg = LinearRegression(labelCol = 'medv') # labelcol= la variable objetivo o Target "
   ]
  },
  {
   "cell_type": "code",
   "execution_count": 0,
   "metadata": {
    "application/vnd.databricks.v1+cell": {
     "cellMetadata": {
      "byteLimit": 2048000,
      "rowLimit": 10000
     },
     "inputWidgets": {},
     "nuid": "f5d116e6-46c1-4b64-90d9-f0dfba3f36f5",
     "showTitle": false,
     "tableResultSettingsMap": {},
     "title": ""
    }
   },
   "outputs": [],
   "source": [
    "# Se entrena el modelo\n",
    "lr_model = lin_Reg.fit(train_df) # utliza los datos de entrenamiento"
   ]
  },
  {
   "cell_type": "code",
   "execution_count": 0,
   "metadata": {
    "application/vnd.databricks.v1+cell": {
     "cellMetadata": {
      "byteLimit": 2048000,
      "rowLimit": 10000
     },
     "inputWidgets": {},
     "nuid": "8d40b9a3-42d5-47ea-8184-4d0d14a5f1a5",
     "showTitle": false,
     "tableResultSettingsMap": {},
     "title": ""
    }
   },
   "outputs": [
    {
     "output_type": "stream",
     "name": "stdout",
     "output_type": "stream",
     "text": [
      "+--------------------+----+------------------+\n|            features|medv|        prediction|\n+--------------------+----+------------------+\n|[1.32,0.0,0.411,6...|31.6|29.770043126849234|\n|[1.47,0.0,0.403,7...|32.9|31.984142513401824|\n|[1.52,0.0,0.404,7...|30.3|31.665702170650075|\n|[1.52,0.0,0.442,7...|32.7|32.362092606840605|\n|[1.69,0.0,0.411,5...|18.6|22.983585579535696|\n|[1.91,0.0,0.413,5...|20.6|23.374654025385592|\n|[2.03,0.0,0.415,6...|24.1|24.972584051472626|\n|[2.03,0.0,0.415,7...|42.3| 35.05271766977454|\n|[2.18,0.0,0.458,6...|28.7| 26.15105747167559|\n|[2.18,0.0,0.458,6...|33.4|30.128002833385654|\n|[2.18,0.0,0.472,6...|28.2|29.189965160169177|\n|[2.18,0.0,0.472,7...|36.1| 31.62454898058085|\n|[2.18,0.0,0.472,7...|33.4|33.200827280915576|\n|[2.46,0.0,0.488,7...|39.8|  35.4111119704708|\n|[2.46,0.0,0.488,7...|50.0| 35.54687495118091|\n|[2.89,0.0,0.445,6...|28.4|27.740955304192635|\n|[2.89,0.0,0.445,7...|33.2| 33.31141860322168|\n|[2.89,0.0,0.445,8...|38.7|37.950145565540495|\n|[2.93,0.0,0.401,6...|29.1|  27.9855887794166|\n|[3.24,0.0,0.46,6....|19.8| 23.85829969258106|\n+--------------------+----+------------------+\nonly showing top 20 rows\n\n"
     ]
    }
   ],
   "source": [
    "pred = lr_model.transform(test_df)\n",
    "pred.show()"
   ]
  },
  {
   "cell_type": "code",
   "execution_count": 0,
   "metadata": {
    "application/vnd.databricks.v1+cell": {
     "cellMetadata": {
      "byteLimit": 2048000,
      "rowLimit": 10000
     },
     "inputWidgets": {},
     "nuid": "9d540fb0-b9e3-4152-b1d9-ecbeeb485bf9",
     "showTitle": false,
     "tableResultSettingsMap": {},
     "title": ""
    }
   },
   "outputs": [
    {
     "output_type": "stream",
     "name": "stdout",
     "output_type": "stream",
     "text": [
      "La intercepción del Modelo es: -12.920386726022148\n"
     ]
    }
   ],
   "source": [
    "print(\"La intercepción del Modelo es:\",lr_model.intercept)"
   ]
  },
  {
   "cell_type": "code",
   "execution_count": 0,
   "metadata": {
    "application/vnd.databricks.v1+cell": {
     "cellMetadata": {
      "byteLimit": 2048000,
      "rowLimit": 10000
     },
     "inputWidgets": {},
     "nuid": "ea0aaebf-36cd-4ae1-aff0-77996cbf294c",
     "showTitle": false,
     "tableResultSettingsMap": {},
     "title": ""
    }
   },
   "outputs": [
    {
     "output_type": "stream",
     "name": "stdout",
     "output_type": "stream",
     "text": [
      "Los coeficiente del modelos son: [-0.2136945250149451,3.9570318875043933,-12.232869845717603,7.013000423578981,0.001287775776559422]\n"
     ]
    }
   ],
   "source": [
    "print(\"Los coeficiente del modelos son:\", lr_model.coefficients)"
   ]
  },
  {
   "cell_type": "code",
   "execution_count": 0,
   "metadata": {
    "application/vnd.databricks.v1+cell": {
     "cellMetadata": {
      "byteLimit": 2048000,
      "rowLimit": 10000
     },
     "inputWidgets": {},
     "nuid": "2f2d0e22-ce9f-4de4-be92-f62f81d71f64",
     "showTitle": false,
     "tableResultSettingsMap": {},
     "title": ""
    }
   },
   "outputs": [
    {
     "output_type": "stream",
     "name": "stdout",
     "output_type": "stream",
     "text": [
      "Out[48]: <pyspark.ml.regression.LinearRegressionSummary at 0x7f5a144d9bb0>"
     ]
    }
   ],
   "source": [
    "# predición del modelo \n",
    "training_predictions = lr_model.evaluate(train_df)\n",
    "training_predictions"
   ]
  },
  {
   "cell_type": "code",
   "execution_count": 0,
   "metadata": {
    "application/vnd.databricks.v1+cell": {
     "cellMetadata": {
      "byteLimit": 2048000,
      "rowLimit": 10000
     },
     "inputWidgets": {},
     "nuid": "2dd86ead-595d-49c5-87c6-c1bcd3256ac0",
     "showTitle": false,
     "tableResultSettingsMap": {},
     "title": ""
    }
   },
   "outputs": [
    {
     "output_type": "stream",
     "name": "stdout",
     "output_type": "stream",
     "text": [
      "El MSE es: 37.85035485432008\n"
     ]
    }
   ],
   "source": [
    "print(\"El MSE es:\", training_predictions.meanSquaredError)"
   ]
  },
  {
   "cell_type": "code",
   "execution_count": 0,
   "metadata": {
    "application/vnd.databricks.v1+cell": {
     "cellMetadata": {
      "byteLimit": 2048000,
      "rowLimit": 10000
     },
     "inputWidgets": {},
     "nuid": "6ada65fb-d980-49a6-8da9-1f3892205a0e",
     "showTitle": false,
     "tableResultSettingsMap": {},
     "title": ""
    }
   },
   "outputs": [
    {
     "output_type": "stream",
     "name": "stdout",
     "output_type": "stream",
     "text": [
      "El R2 es: 0.5315027868820221\n"
     ]
    }
   ],
   "source": [
    "print(\"El R2 es:\",training_predictions.r2)"
   ]
  },
  {
   "cell_type": "markdown",
   "metadata": {
    "application/vnd.databricks.v1+cell": {
     "cellMetadata": {},
     "inputWidgets": {},
     "nuid": "55b56dfa-6d4e-48da-aff9-5ccddc34a7b5",
     "showTitle": false,
     "tableResultSettingsMap": {},
     "title": ""
    }
   },
   "source": [
    "Paso 7: evaluar el modelo de regresión lineal en datos de prueba"
   ]
  },
  {
   "cell_type": "code",
   "execution_count": 0,
   "metadata": {
    "application/vnd.databricks.v1+cell": {
     "cellMetadata": {
      "byteLimit": 2048000,
      "rowLimit": 10000
     },
     "inputWidgets": {},
     "nuid": "ae0a28e4-6cfc-4a8e-a6cd-f819b2bb9ae2",
     "showTitle": false,
     "tableResultSettingsMap": {},
     "title": ""
    }
   },
   "outputs": [
    {
     "output_type": "stream",
     "name": "stdout",
     "output_type": "stream",
     "text": [
      "Out[52]: <pyspark.ml.regression.LinearRegressionSummary at 0x7f5a143fe400>"
     ]
    }
   ],
   "source": [
    "# Haciendo la prediciones con los datos de prueba\n",
    "test_results = lr_model.evaluate(test_df)\n",
    "test_results"
   ]
  },
  {
   "cell_type": "code",
   "execution_count": 0,
   "metadata": {
    "application/vnd.databricks.v1+cell": {
     "cellMetadata": {
      "byteLimit": 2048000,
      "rowLimit": 10000
     },
     "inputWidgets": {},
     "nuid": "8ef98cce-422d-4310-b732-53101f5dca6f",
     "showTitle": false,
     "tableResultSettingsMap": {},
     "title": ""
    }
   },
   "outputs": [
    {
     "output_type": "stream",
     "name": "stdout",
     "output_type": "stream",
     "text": [
      "+-------------------+\n|          residuals|\n+-------------------+\n|  1.829956873150767|\n| 0.9158574865981741|\n|-1.3657021706500743|\n| 0.3379073931593979|\n| -4.383585579535694|\n|-2.7746540253855905|\n|-0.8725840514726251|\n|   7.24728233022546|\n| 2.5489425283244103|\n| 3.2719971666143444|\n+-------------------+\nonly showing top 10 rows\n\n"
     ]
    }
   ],
   "source": [
    "#view the residual errors based on predictions \n",
    "test_results.residuals.show(10)"
   ]
  },
  {
   "cell_type": "code",
   "execution_count": 0,
   "metadata": {
    "application/vnd.databricks.v1+cell": {
     "cellMetadata": {
      "byteLimit": 2048000,
      "rowLimit": 10000
     },
     "inputWidgets": {},
     "nuid": "51c44aa1-75d0-4a1a-a504-5687299fb4a2",
     "showTitle": false,
     "tableResultSettingsMap": {},
     "title": ""
    }
   },
   "outputs": [
    {
     "output_type": "stream",
     "name": "stdout",
     "output_type": "stream",
     "text": [
      "El R2 para el conjunto de Prueba es. 0.6247475157325926\n"
     ]
    }
   ],
   "source": [
    "#coefficient of determination value for model\n",
    "print(\"El R2 para el conjunto de Prueba es.\",test_results.r2)"
   ]
  },
  {
   "cell_type": "code",
   "execution_count": 0,
   "metadata": {
    "application/vnd.databricks.v1+cell": {
     "cellMetadata": {
      "byteLimit": 2048000,
      "rowLimit": 10000
     },
     "inputWidgets": {},
     "nuid": "85abc6ce-f668-4b69-bb3c-f84986c7c4f0",
     "showTitle": false,
     "tableResultSettingsMap": {},
     "title": ""
    }
   },
   "outputs": [
    {
     "output_type": "stream",
     "name": "stdout",
     "output_type": "stream",
     "text": [
      "EL RMSE para el Test es: 5.894967613075959\n"
     ]
    }
   ],
   "source": [
    "print(\"EL RMSE para el Test es:\",test_results.rootMeanSquaredError)"
   ]
  },
  {
   "cell_type": "code",
   "execution_count": 0,
   "metadata": {
    "application/vnd.databricks.v1+cell": {
     "cellMetadata": {
      "byteLimit": 2048000,
      "rowLimit": 10000
     },
     "inputWidgets": {},
     "nuid": "8cc00b16-de7d-436b-bb70-d96aec9f7d82",
     "showTitle": false,
     "tableResultSettingsMap": {},
     "title": ""
    }
   },
   "outputs": [
    {
     "output_type": "stream",
     "name": "stdout",
     "output_type": "stream",
     "text": [
      "EL MSE para el Test es: 34.750643159214476\n"
     ]
    }
   ],
   "source": [
    "print(\"EL MSE para el Test es:\",test_results.meanSquaredError)"
   ]
  },
  {
   "cell_type": "code",
   "execution_count": 0,
   "metadata": {
    "application/vnd.databricks.v1+cell": {
     "cellMetadata": {
      "byteLimit": 2048000,
      "rowLimit": 10000
     },
     "inputWidgets": {},
     "nuid": "70f8366a-5d35-4da6-bd24-b361ef15d2f2",
     "showTitle": false,
     "tableResultSettingsMap": {},
     "title": ""
    }
   },
   "outputs": [],
   "source": [
    "from pyspark.ml.evaluation import RegressionEvaluator"
   ]
  },
  {
   "cell_type": "code",
   "execution_count": 0,
   "metadata": {
    "application/vnd.databricks.v1+cell": {
     "cellMetadata": {
      "byteLimit": 2048000,
      "rowLimit": 10000
     },
     "inputWidgets": {},
     "nuid": "cb9e6913-e51a-4b63-8e8e-24d733ac76b1",
     "showTitle": false,
     "tableResultSettingsMap": {},
     "title": ""
    }
   },
   "outputs": [
    {
     "output_type": "stream",
     "name": "stdout",
     "output_type": "stream",
     "text": [
      "Linear Regression - RMSE: 5.894967613075959\nLinear Regression - MAE: 4.178767921934842\nLinear Regression - R^2: 0.6247475157325926\n"
     ]
    }
   ],
   "source": [
    "# Performans Metric\n",
    "evaluator = RegressionEvaluator(labelCol = \"medv\", predictionCol=\"prediction\")\n",
    "lrRmse = evaluator.evaluate(pred, {evaluator.metricName: \"rmse\"})\n",
    "lrMae = evaluator.evaluate(pred, {evaluator.metricName: \"mae\"})\n",
    "lrR2 = evaluator.evaluate(pred, {evaluator.metricName: \"r2\"})\n",
    "print(f\"Linear Regression - RMSE: {lrRmse}\")\n",
    "print(f\"Linear Regression - MAE: {lrMae}\")\n",
    "print(f\"Linear Regression - R^2: {lrR2}\")"
   ]
  },
  {
   "cell_type": "code",
   "execution_count": 0,
   "metadata": {
    "application/vnd.databricks.v1+cell": {
     "cellMetadata": {
      "byteLimit": 2048000,
      "rowLimit": 10000
     },
     "inputWidgets": {},
     "nuid": "03b3ea76-d8dc-46b6-8298-6f0d659c3588",
     "showTitle": false,
     "tableResultSettingsMap": {},
     "title": ""
    }
   },
   "outputs": [
    {
     "output_type": "stream",
     "name": "stdout",
     "output_type": "stream",
     "text": [
      "+--------------------+----+------------------+\n|            features|medv|        prediction|\n+--------------------+----+------------------+\n|[1.32,0.0,0.411,6...|31.6|29.770043126849234|\n|[1.47,0.0,0.403,7...|32.9|31.984142513401824|\n|[1.52,0.0,0.404,7...|30.3|31.665702170650075|\n|[1.52,0.0,0.442,7...|32.7|32.362092606840605|\n|[1.69,0.0,0.411,5...|18.6|22.983585579535696|\n+--------------------+----+------------------+\nonly showing top 5 rows\n\n"
     ]
    }
   ],
   "source": [
    "pred.show(5)"
   ]
  },
  {
   "cell_type": "code",
   "execution_count": 0,
   "metadata": {
    "application/vnd.databricks.v1+cell": {
     "cellMetadata": {
      "byteLimit": 2048000,
      "rowLimit": 10000
     },
     "inputWidgets": {},
     "nuid": "ac1fdef8-0acb-45c8-9dff-984ce7fc7ea6",
     "showTitle": false,
     "tableResultSettingsMap": {},
     "title": ""
    }
   },
   "outputs": [
    {
     "output_type": "display_data",
     "data": {
      "image/png": "[encoded data removed]"
     },
     "metadata": {
      "application/vnd.databricks.v1+output": {
       "addedWidgets": {},
       "arguments": {},
       "data": "data:image/png;base64,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\n",
       "datasetInfos": [],
       "metadata": {},
       "removedWidgets": [],
       "type": "image"
      }
     },
     "output_type": "display_data"
    }
   ],
   "source": [
    "import matplotlib.pyplot as plt\n",
    "\n",
    "# Pandas DataFrame\n",
    "resultado = pred.select(\"prediction\", \"medv\").toPandas()\n",
    "# Graph for Linear Regression\n",
    "plt.figure(figsize=(10, 6))\n",
    "plt.scatter(resultado[\"medv\"], resultado['prediction'], alpha=0.5)\n",
    "plt.xlabel('True Label')\n",
    "plt.ylabel('Prediction')\n",
    "plt.title('Prediction vs \"median_house_value\"')\n",
    "plt.grid(True)\n",
    "plt.show()"
   ]
  }
 ],
 "metadata": {
  "application/vnd.databricks.v1+notebook": {
   "computePreferences": null,
   "dashboards": [],
   "environmentMetadata": {
    "base_environment": "",
    "environment_version": "1"
   },
   "inputWidgetPreferences": null,
   "language": "python",
   "notebookMetadata": {
    "pythonIndentUnit": 4
   },
   "notebookName": "Spark06 MIK 2025-07-28 17:51:25",
   "widgets": {}
  }
 },
 "nbformat": 4,
 "nbformat_minor": 0
}